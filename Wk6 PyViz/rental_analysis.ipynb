{
 "cells": [
  {
   "cell_type": "markdown",
   "metadata": {},
   "source": [
    "# Toronto Dwellings Analysis\n",
    "\n",
    "In this assignment, you will perform fundamental analysis for the Toronto dwellings market to allow potential real estate investors to choose rental investment properties."
   ]
  },
  {
   "cell_type": "code",
   "execution_count": 39,
   "metadata": {},
   "outputs": [],
   "source": [
    "import panel as pn\n",
    "pn.extension('plotly')\n",
    "import plotly.express as px\n",
    "import pandas as pd\n",
    "import matplotlib.pyplot as plt\n",
    "import os\n",
    "from pathlib import Path\n",
    "from dotenv import load_dotenv"
   ]
  },
  {
   "cell_type": "code",
   "execution_count": 40,
   "metadata": {},
   "outputs": [],
   "source": [
    "# Read the Mapbox API key\n",
    "load_dotenv()\n",
    "map_box_api = os.getenv(\"MAPBOX_API_KEY\")"
   ]
  },
  {
   "cell_type": "code",
   "execution_count": 44,
   "metadata": {},
   "outputs": [],
   "source": [
    "%matplotlib inline\n",
    "\n",
    "import hvplot.pandas"
   ]
  },
  {
   "cell_type": "markdown",
   "metadata": {},
   "source": [
    "## Load Data"
   ]
  },
  {
   "cell_type": "code",
   "execution_count": 45,
   "metadata": {},
   "outputs": [
    {
     "data": {
      "text/html": [
       "<div>\n",
       "<style scoped>\n",
       "    .dataframe tbody tr th:only-of-type {\n",
       "        vertical-align: middle;\n",
       "    }\n",
       "\n",
       "    .dataframe tbody tr th {\n",
       "        vertical-align: top;\n",
       "    }\n",
       "\n",
       "    .dataframe thead th {\n",
       "        text-align: right;\n",
       "    }\n",
       "</style>\n",
       "<table border=\"1\" class=\"dataframe\">\n",
       "  <thead>\n",
       "    <tr style=\"text-align: right;\">\n",
       "      <th></th>\n",
       "      <th>neighbourhood</th>\n",
       "      <th>single_detached_house</th>\n",
       "      <th>apartment_five_storeys_plus</th>\n",
       "      <th>movable_dwelling</th>\n",
       "      <th>semi_detached_house</th>\n",
       "      <th>row_house</th>\n",
       "      <th>duplex</th>\n",
       "      <th>apartment_five_storeys_less</th>\n",
       "      <th>other_house</th>\n",
       "      <th>average_house_value</th>\n",
       "      <th>shelter_costs_owned</th>\n",
       "      <th>shelter_costs_rented</th>\n",
       "    </tr>\n",
       "    <tr>\n",
       "      <th>year</th>\n",
       "      <th></th>\n",
       "      <th></th>\n",
       "      <th></th>\n",
       "      <th></th>\n",
       "      <th></th>\n",
       "      <th></th>\n",
       "      <th></th>\n",
       "      <th></th>\n",
       "      <th></th>\n",
       "      <th></th>\n",
       "      <th></th>\n",
       "      <th></th>\n",
       "    </tr>\n",
       "  </thead>\n",
       "  <tbody>\n",
       "    <tr>\n",
       "      <th>2001</th>\n",
       "      <td>Agincourt North</td>\n",
       "      <td>3715</td>\n",
       "      <td>1480</td>\n",
       "      <td>0</td>\n",
       "      <td>1055</td>\n",
       "      <td>1295</td>\n",
       "      <td>195</td>\n",
       "      <td>185</td>\n",
       "      <td>5</td>\n",
       "      <td>200388</td>\n",
       "      <td>810</td>\n",
       "      <td>870</td>\n",
       "    </tr>\n",
       "    <tr>\n",
       "      <th>2001</th>\n",
       "      <td>Agincourt South-Malvern West</td>\n",
       "      <td>3250</td>\n",
       "      <td>1835</td>\n",
       "      <td>0</td>\n",
       "      <td>545</td>\n",
       "      <td>455</td>\n",
       "      <td>105</td>\n",
       "      <td>425</td>\n",
       "      <td>0</td>\n",
       "      <td>203047</td>\n",
       "      <td>806</td>\n",
       "      <td>892</td>\n",
       "    </tr>\n",
       "    <tr>\n",
       "      <th>2001</th>\n",
       "      <td>Alderwood</td>\n",
       "      <td>3175</td>\n",
       "      <td>315</td>\n",
       "      <td>0</td>\n",
       "      <td>470</td>\n",
       "      <td>50</td>\n",
       "      <td>185</td>\n",
       "      <td>370</td>\n",
       "      <td>0</td>\n",
       "      <td>259998</td>\n",
       "      <td>817</td>\n",
       "      <td>924</td>\n",
       "    </tr>\n",
       "    <tr>\n",
       "      <th>2001</th>\n",
       "      <td>Annex</td>\n",
       "      <td>1060</td>\n",
       "      <td>6090</td>\n",
       "      <td>5</td>\n",
       "      <td>1980</td>\n",
       "      <td>605</td>\n",
       "      <td>275</td>\n",
       "      <td>3710</td>\n",
       "      <td>165</td>\n",
       "      <td>453850</td>\n",
       "      <td>1027</td>\n",
       "      <td>1378</td>\n",
       "    </tr>\n",
       "    <tr>\n",
       "      <th>2001</th>\n",
       "      <td>Banbury-Don Mills</td>\n",
       "      <td>3615</td>\n",
       "      <td>4465</td>\n",
       "      <td>0</td>\n",
       "      <td>240</td>\n",
       "      <td>380</td>\n",
       "      <td>15</td>\n",
       "      <td>1360</td>\n",
       "      <td>0</td>\n",
       "      <td>371864</td>\n",
       "      <td>1007</td>\n",
       "      <td>1163</td>\n",
       "    </tr>\n",
       "  </tbody>\n",
       "</table>\n",
       "</div>"
      ],
      "text/plain": [
       "                     neighbourhood  single_detached_house  \\\n",
       "year                                                        \n",
       "2001               Agincourt North                   3715   \n",
       "2001  Agincourt South-Malvern West                   3250   \n",
       "2001                     Alderwood                   3175   \n",
       "2001                         Annex                   1060   \n",
       "2001             Banbury-Don Mills                   3615   \n",
       "\n",
       "      apartment_five_storeys_plus  movable_dwelling  semi_detached_house  \\\n",
       "year                                                                       \n",
       "2001                         1480                 0                 1055   \n",
       "2001                         1835                 0                  545   \n",
       "2001                          315                 0                  470   \n",
       "2001                         6090                 5                 1980   \n",
       "2001                         4465                 0                  240   \n",
       "\n",
       "      row_house  duplex  apartment_five_storeys_less  other_house  \\\n",
       "year                                                                \n",
       "2001       1295     195                          185            5   \n",
       "2001        455     105                          425            0   \n",
       "2001         50     185                          370            0   \n",
       "2001        605     275                         3710          165   \n",
       "2001        380      15                         1360            0   \n",
       "\n",
       "      average_house_value  shelter_costs_owned  shelter_costs_rented  \n",
       "year                                                                  \n",
       "2001               200388                  810                   870  \n",
       "2001               203047                  806                   892  \n",
       "2001               259998                  817                   924  \n",
       "2001               453850                 1027                  1378  \n",
       "2001               371864                 1007                  1163  "
      ]
     },
     "execution_count": 45,
     "metadata": {},
     "output_type": "execute_result"
    }
   ],
   "source": [
    "# Read the census data into a Pandas DataFrame\n",
    "file_path = Path(\"Data/toronto_neighbourhoods_census_data.csv\")\n",
    "to_data = pd.read_csv(file_path, index_col=\"year\")\n",
    "to_data.head()"
   ]
  },
  {
   "cell_type": "markdown",
   "metadata": {},
   "source": [
    "- - - "
   ]
  },
  {
   "cell_type": "markdown",
   "metadata": {},
   "source": [
    "## Dwelling Types Per Year\n",
    "\n",
    "In this section, you will calculate the number of dwelling types per year. Visualize the results using bar charts and the Pandas plot function. \n",
    "\n",
    "**Hint:** Use the Pandas `groupby` function.\n",
    "\n",
    "**Optional challenge:** Plot each bar chart in a different color."
   ]
  },
  {
   "cell_type": "code",
   "execution_count": 46,
   "metadata": {},
   "outputs": [
    {
     "data": {
      "text/html": [
       "<div>\n",
       "<style scoped>\n",
       "    .dataframe tbody tr th:only-of-type {\n",
       "        vertical-align: middle;\n",
       "    }\n",
       "\n",
       "    .dataframe tbody tr th {\n",
       "        vertical-align: top;\n",
       "    }\n",
       "\n",
       "    .dataframe thead th {\n",
       "        text-align: right;\n",
       "    }\n",
       "</style>\n",
       "<table border=\"1\" class=\"dataframe\">\n",
       "  <thead>\n",
       "    <tr style=\"text-align: right;\">\n",
       "      <th></th>\n",
       "      <th>single_detached_house</th>\n",
       "      <th>apartment_five_storeys_plus</th>\n",
       "      <th>semi_detached_house</th>\n",
       "      <th>row_house</th>\n",
       "      <th>duplex</th>\n",
       "      <th>apartment_five_storeys_less</th>\n",
       "      <th>other_house</th>\n",
       "    </tr>\n",
       "    <tr>\n",
       "      <th>year</th>\n",
       "      <th></th>\n",
       "      <th></th>\n",
       "      <th></th>\n",
       "      <th></th>\n",
       "      <th></th>\n",
       "      <th></th>\n",
       "      <th></th>\n",
       "    </tr>\n",
       "  </thead>\n",
       "  <tbody>\n",
       "    <tr>\n",
       "      <th>2001</th>\n",
       "      <td>300930</td>\n",
       "      <td>355015</td>\n",
       "      <td>90995</td>\n",
       "      <td>52355</td>\n",
       "      <td>23785</td>\n",
       "      <td>116900</td>\n",
       "      <td>3040</td>\n",
       "    </tr>\n",
       "    <tr>\n",
       "      <th>2006</th>\n",
       "      <td>266860</td>\n",
       "      <td>379400</td>\n",
       "      <td>69430</td>\n",
       "      <td>54690</td>\n",
       "      <td>44095</td>\n",
       "      <td>162850</td>\n",
       "      <td>1335</td>\n",
       "    </tr>\n",
       "    <tr>\n",
       "      <th>2011</th>\n",
       "      <td>274940</td>\n",
       "      <td>429220</td>\n",
       "      <td>72480</td>\n",
       "      <td>60355</td>\n",
       "      <td>44750</td>\n",
       "      <td>163895</td>\n",
       "      <td>2165</td>\n",
       "    </tr>\n",
       "    <tr>\n",
       "      <th>2016</th>\n",
       "      <td>269680</td>\n",
       "      <td>493270</td>\n",
       "      <td>71200</td>\n",
       "      <td>61565</td>\n",
       "      <td>48585</td>\n",
       "      <td>165575</td>\n",
       "      <td>2845</td>\n",
       "    </tr>\n",
       "  </tbody>\n",
       "</table>\n",
       "</div>"
      ],
      "text/plain": [
       "      single_detached_house  apartment_five_storeys_plus  semi_detached_house  \\\n",
       "year                                                                            \n",
       "2001                 300930                       355015                90995   \n",
       "2006                 266860                       379400                69430   \n",
       "2011                 274940                       429220                72480   \n",
       "2016                 269680                       493270                71200   \n",
       "\n",
       "      row_house  duplex  apartment_five_storeys_less  other_house  \n",
       "year                                                               \n",
       "2001      52355   23785                       116900         3040  \n",
       "2006      54690   44095                       162850         1335  \n",
       "2011      60355   44750                       163895         2165  \n",
       "2016      61565   48585                       165575         2845  "
      ]
     },
     "execution_count": 46,
     "metadata": {},
     "output_type": "execute_result"
    }
   ],
   "source": [
    "# Calculate the sum number of dwelling types units per year (hint: use groupby)\n",
    "dwelling_types = ['single_detached_house', \n",
    "                  'apartment_five_storeys_plus', \n",
    "                  'semi_detached_house', \n",
    "                  'row_house', \n",
    "                  'duplex', \n",
    "                  'apartment_five_storeys_less', \n",
    "                  'other_house']\n",
    "\n",
    "dwelling_grp_types = to_data.groupby('year')[dwelling_types].sum()                        \n",
    "                        \n",
    "dwelling_grp_types.head()"
   ]
  },
  {
   "cell_type": "code",
   "execution_count": 49,
   "metadata": {},
   "outputs": [],
   "source": [
    "dwelling_grp_types.to_csv('Data/dwelling_grp_types.csv')"
   ]
  },
  {
   "cell_type": "code",
   "execution_count": 50,
   "metadata": {},
   "outputs": [
    {
     "data": {
      "text/plain": [
       "<AxesSubplot:xlabel='year'>"
      ]
     },
     "execution_count": 50,
     "metadata": {},
     "output_type": "execute_result"
    },
    {
     "data": {
      "image/png": "[encoded data removed]",
      "text/plain": [
       "<Figure size 432x288 with 1 Axes>"
      ]
     },
     "metadata": {
      "needs_background": "light"
     },
     "output_type": "display_data"
    }
   ],
   "source": [
    "dwelling_grp_types.plot.bar()"
   ]
  },
  {
   "cell_type": "code",
   "execution_count": 56,
   "metadata": {},
   "outputs": [],
   "source": [
    "# Helper create_bar_chart function\n",
    "def create_bar_chart(data, title, xlabel, ylabel, color):\n",
    " \n",
    " # create a barplot based in the data argument.\n",
    "    fig = plt.figure()\n",
    "    plot = data.plot.bar(title = title, color = color)\n",
    "    plot.set_xlabel(str(xlabel))\n",
    "    plot.set_ylabel(str(ylabel))\n",
    "    #plt.show()\n",
    "    "
   ]
  },
  {
   "cell_type": "code",
   "execution_count": 58,
   "metadata": {},
   "outputs": [
    {
     "data": {
      "image/png": "[encoded data removed]",
      "text/plain": [
       "<Figure size 432x288 with 1 Axes>"
      ]
     },
     "metadata": {
      "needs_background": "light"
     },
     "output_type": "display_data"
    },
    {
     "data": {
      "image/png": "[encoded data removed]",
      "text/plain": [
       "<Figure size 432x288 with 1 Axes>"
      ]
     },
     "metadata": {
      "needs_background": "light"
     },
     "output_type": "display_data"
    },
    {
     "data": {
      "image/png": "[encoded data removed]",
      "text/plain": [
       "<Figure size 432x288 with 1 Axes>"
      ]
     },
     "metadata": {
      "needs_background": "light"
     },
     "output_type": "display_data"
    },
    {
     "data": {
      "image/png": "[encoded data removed]",
      "text/plain": [
       "<Figure size 432x288 with 1 Axes>"
      ]
     },
     "metadata": {
      "needs_background": "light"
     },
     "output_type": "display_data"
    }
   ],
   "source": [
    "# Create a bar chart per year to show the number of dwelling types\n",
    "# Bar chart for 2001\n",
    "dwelling_type_2001 = create_bar_chart(dwelling_grp_types.loc[2001],\n",
    "                 \"Dwelling Types in Toronto in 2001\", \n",
    "                 \"2001\", \n",
    "                 \"Dwelling Type Units\", \n",
    "                 \"blue\")\n",
    "\n",
    "# Bar chart for 2006\n",
    "\n",
    "dwelling_type_2006 = create_bar_chart(dwelling_grp_types.loc[2006],\n",
    "                 \"Dwelling Types in Toronto in 2006\", \n",
    "                 \"2006\", \n",
    "                 \"Dwelling Type Units\", \n",
    "                 \"green\")\n",
    "    \n",
    "    #color={\"2006\": \"blue\"}\n",
    "\n",
    "# Bar chart for 2011\n",
    "\n",
    "dwelling_type_2011 = create_bar_chart(dwelling_grp_types.loc[2011],\n",
    "                 \"Dwelling Types in Toronto in 2011\", \n",
    "                 \"2011\", \n",
    "                 \"Dwelling Type Units\", \n",
    "                 \"orange\")\n",
    "\n",
    "    \n",
    "    #color={\"2011: \"orange\"}\n",
    "           \n",
    "# Bar chart for 2016\n",
    "\n",
    "dwelling_type_2016 = create_bar_chart(dwelling_grp_types.loc[2016],\n",
    "                 \"Dwelling Types in Toronto in 2016\", \n",
    "                 \"2016\", \n",
    "                 \"Dwelling Type Units\", \n",
    "                 \"purple\")           \n",
    "\n",
    "    #color={\"2016: \"purple\"}"
   ]
  },
  {
   "cell_type": "markdown",
   "metadata": {},
   "source": [
    "- - - "
   ]
  },
  {
   "cell_type": "markdown",
   "metadata": {},
   "source": [
    "## Average Monthly Shelter Costs in Toronto Per Year\n",
    "\n",
    "In this section, you will calculate the average monthly shelter costs for owned and rented dwellings and the average house value for each year. Plot the results as a line chart.\n",
    "\n",
    "**Optional challenge:** Plot each line chart in a different color."
   ]
  },
  {
   "cell_type": "code",
   "execution_count": 59,
   "metadata": {},
   "outputs": [
    {
     "data": {
      "text/plain": [
       "year\n",
       "2001     846.88\n",
       "2006    1316.80\n",
       "2011    1448.21\n",
       "2016    1761.31\n",
       "Name: shelter_costs_owned, dtype: float64"
      ]
     },
     "execution_count": 59,
     "metadata": {},
     "output_type": "execute_result"
    }
   ],
   "source": [
    "# Calculate the average monthly shelter costs for owned and rented dwellings\n",
    "housing_cost = to_data.groupby(['year']).mean().round(2)\n",
    "\n",
    "monthly_shelter_costs_owned = housing_cost.iloc[:,-2]\n",
    "\n",
    "monthly_shelter_costs_rented = housing_cost.iloc[:,-1]\n",
    "\n",
    "\n",
    "monthly_shelter_costs_owned.head()"
   ]
  },
  {
   "cell_type": "code",
   "execution_count": 60,
   "metadata": {},
   "outputs": [],
   "source": [
    "# Helper create_line_chart function\n",
    "def create_line_chart(data, title, xlabel, ylabel, color):\n",
    "    fig = plt.figure()\n",
    "    plot_line = data.plot.line(title = title, color = color)\n",
    "    plot_line.set_xlabel(str(xlabel))\n",
    "    plot_line.set_ylabel(str(ylabel))\n",
    "    plt.show()"
   ]
  },
  {
   "cell_type": "code",
   "execution_count": 61,
   "metadata": {},
   "outputs": [
    {
     "data": {
      "image/png": "[encoded data removed]",
      "text/plain": [
       "<Figure size 432x288 with 1 Axes>"
      ]
     },
     "metadata": {
      "needs_background": "light"
     },
     "output_type": "display_data"
    },
    {
     "data": {
      "image/png": "[encoded data removed]",
      "text/plain": [
       "<Figure size 432x288 with 1 Axes>"
      ]
     },
     "metadata": {
      "needs_background": "light"
     },
     "output_type": "display_data"
    }
   ],
   "source": [
    "# Create two line charts, one to plot the monthly shelter costs for owned dwelleing and other for rented dwellings per year\n",
    "\n",
    "# Line chart for owned dwellings\n",
    "create_line_chart(\n",
    "    monthly_shelter_costs_owned, \n",
    "    'Average Monthly Shelter Cost for Owned Dwellings in Toronto',\n",
    "    'year','Avg Monthly Shelter Cost',\n",
    "    'blue')\n",
    "\n",
    "# Line chart for rented dwellings\n",
    "create_line_chart(\n",
    "    monthly_shelter_costs_rented, \n",
    "    'Average Monthly Sherlter Cost for Rented Dwellings in Toronto',\n",
    "    'year',\n",
    "    'Avg Monthly Shelfter Cost',\n",
    "    'orange')"
   ]
  },
  {
   "cell_type": "markdown",
   "metadata": {},
   "source": [
    "## Average House Value per Year\n",
    "\n",
    "In this section, you want to determine the average house value per year. An investor may want to understand better the sales price of the rental property over time. For example, a customer will want to know if they should expect an increase or decrease in the property value over time so they can determine how long to hold the rental property. You will visualize the `average_house_value` per year as a bar chart."
   ]
  },
  {
   "cell_type": "code",
   "execution_count": 62,
   "metadata": {},
   "outputs": [
    {
     "data": {
      "text/html": [
       "<div>\n",
       "<style scoped>\n",
       "    .dataframe tbody tr th:only-of-type {\n",
       "        vertical-align: middle;\n",
       "    }\n",
       "\n",
       "    .dataframe tbody tr th {\n",
       "        vertical-align: top;\n",
       "    }\n",
       "\n",
       "    .dataframe thead th {\n",
       "        text-align: right;\n",
       "    }\n",
       "</style>\n",
       "<table border=\"1\" class=\"dataframe\">\n",
       "  <thead>\n",
       "    <tr style=\"text-align: right;\">\n",
       "      <th></th>\n",
       "      <th>average_house_value</th>\n",
       "    </tr>\n",
       "    <tr>\n",
       "      <th>year</th>\n",
       "      <th></th>\n",
       "    </tr>\n",
       "  </thead>\n",
       "  <tbody>\n",
       "    <tr>\n",
       "      <th>2001</th>\n",
       "      <td>289882.89</td>\n",
       "    </tr>\n",
       "    <tr>\n",
       "      <th>2006</th>\n",
       "      <td>424059.66</td>\n",
       "    </tr>\n",
       "    <tr>\n",
       "      <th>2011</th>\n",
       "      <td>530424.72</td>\n",
       "    </tr>\n",
       "    <tr>\n",
       "      <th>2016</th>\n",
       "      <td>664068.33</td>\n",
       "    </tr>\n",
       "  </tbody>\n",
       "</table>\n",
       "</div>"
      ],
      "text/plain": [
       "      average_house_value\n",
       "year                     \n",
       "2001            289882.89\n",
       "2006            424059.66\n",
       "2011            530424.72\n",
       "2016            664068.33"
      ]
     },
     "execution_count": 62,
     "metadata": {},
     "output_type": "execute_result"
    }
   ],
   "source": [
    "# Calculate the average house value per year\n",
    "average_house_value = to_data.groupby('year')[['average_house_value']].mean().round(2)\n",
    "\n",
    "average_house_value"
   ]
  },
  {
   "cell_type": "code",
   "execution_count": 66,
   "metadata": {},
   "outputs": [
    {
     "data": {
      "text/plain": [
       "<Figure size 432x288 with 0 Axes>"
      ]
     },
     "metadata": {},
     "output_type": "display_data"
    },
    {
     "data": {
      "image/png": "[encoded data removed]",
      "text/plain": [
       "<Figure size 432x288 with 1 Axes>"
      ]
     },
     "metadata": {
      "needs_background": "light"
     },
     "output_type": "display_data"
    }
   ],
   "source": [
    "# Plot the average house value per year as a line chart\n",
    "plot = create_line_chart(data= average_house_value, title='Average House Value in Toronto', \n",
    "                          xlabel=\"Year\", ylabel= 'Avg House Value', color= 'purple')\n",
    "plot"
   ]
  },
  {
   "cell_type": "markdown",
   "metadata": {},
   "source": [
    "- - - "
   ]
  },
  {
   "cell_type": "markdown",
   "metadata": {},
   "source": [
    "## Average House Value by Neighbourhood\n",
    "\n",
    "In this section, you will use `hvplot` to create an interactive visualization of the average house value with a dropdown selector for the neighbourhood.\n",
    "\n",
    "**Hint:** It will be easier to create a new DataFrame from grouping the data and calculating the mean house values for each year and neighbourhood."
   ]
  },
  {
   "cell_type": "code",
   "execution_count": 67,
   "metadata": {},
   "outputs": [
    {
     "data": {
      "text/html": [
       "<div>\n",
       "<style scoped>\n",
       "    .dataframe tbody tr th:only-of-type {\n",
       "        vertical-align: middle;\n",
       "    }\n",
       "\n",
       "    .dataframe tbody tr th {\n",
       "        vertical-align: top;\n",
       "    }\n",
       "\n",
       "    .dataframe thead th {\n",
       "        text-align: right;\n",
       "    }\n",
       "</style>\n",
       "<table border=\"1\" class=\"dataframe\">\n",
       "  <thead>\n",
       "    <tr style=\"text-align: right;\">\n",
       "      <th></th>\n",
       "      <th>year</th>\n",
       "      <th>neighbourhood</th>\n",
       "      <th>average_house_value</th>\n",
       "    </tr>\n",
       "  </thead>\n",
       "  <tbody>\n",
       "    <tr>\n",
       "      <th>0</th>\n",
       "      <td>2001</td>\n",
       "      <td>Agincourt North</td>\n",
       "      <td>200388.0</td>\n",
       "    </tr>\n",
       "    <tr>\n",
       "      <th>1</th>\n",
       "      <td>2001</td>\n",
       "      <td>Agincourt South-Malvern West</td>\n",
       "      <td>203047.0</td>\n",
       "    </tr>\n",
       "    <tr>\n",
       "      <th>2</th>\n",
       "      <td>2001</td>\n",
       "      <td>Alderwood</td>\n",
       "      <td>259998.0</td>\n",
       "    </tr>\n",
       "    <tr>\n",
       "      <th>3</th>\n",
       "      <td>2001</td>\n",
       "      <td>Annex</td>\n",
       "      <td>453850.0</td>\n",
       "    </tr>\n",
       "    <tr>\n",
       "      <th>4</th>\n",
       "      <td>2001</td>\n",
       "      <td>Banbury-Don Mills</td>\n",
       "      <td>371864.0</td>\n",
       "    </tr>\n",
       "  </tbody>\n",
       "</table>\n",
       "</div>"
      ],
      "text/plain": [
       "   year                 neighbourhood  average_house_value\n",
       "0  2001               Agincourt North             200388.0\n",
       "1  2001  Agincourt South-Malvern West             203047.0\n",
       "2  2001                     Alderwood             259998.0\n",
       "3  2001                         Annex             453850.0\n",
       "4  2001             Banbury-Don Mills             371864.0"
      ]
     },
     "execution_count": 67,
     "metadata": {},
     "output_type": "execute_result"
    }
   ],
   "source": [
    "# Create a new DataFrame with the mean house values by neighbourhood per year\n",
    "new_df = to_data.groupby([to_data.index,'neighbourhood']).mean()\n",
    "\n",
    "neighbourhood_df = new_df[[\"average_house_value\"]].reset_index()\n",
    "neighbourhood_df.head()"
   ]
  },
  {
   "cell_type": "code",
   "execution_count": 70,
   "metadata": {},
   "outputs": [
    {
     "ename": "TypeError",
     "evalue": "create_line_chart() got an unexpected keyword argument 'groupby'",
     "output_type": "error",
     "traceback": [
      "\u001b[0;31m---------------------------------------------------------------------------\u001b[0m",
      "\u001b[0;31mTypeError\u001b[0m                                 Traceback (most recent call last)",
      "\u001b[0;32m/var/folders/20/s3yk__8914vcg7gslpl_ynvw0000gn/T/ipykernel_53266/2853671800.py\u001b[0m in \u001b[0;36m<module>\u001b[0;34m\u001b[0m\n\u001b[1;32m      1\u001b[0m \u001b[0;31m# Use hvplot to create an interactive line chart of the average house value per neighbourhood\u001b[0m\u001b[0;34m\u001b[0m\u001b[0;34m\u001b[0m\u001b[0;34m\u001b[0m\u001b[0m\n\u001b[1;32m      2\u001b[0m \u001b[0;31m# The plot should have a dropdown selector for the neighbourhood\u001b[0m\u001b[0;34m\u001b[0m\u001b[0;34m\u001b[0m\u001b[0;34m\u001b[0m\u001b[0m\n\u001b[0;32m----> 3\u001b[0;31m plot = create_line_chart(data= new_df, title= 'Average House Value per Neighbourhood', groupby='neighbourhood',\n\u001b[0m\u001b[1;32m      4\u001b[0m                         xlabel= 'Year', ylabel= 'Average House Value')\n\u001b[1;32m      5\u001b[0m \u001b[0mplot\u001b[0m\u001b[0;34m\u001b[0m\u001b[0;34m\u001b[0m\u001b[0m\n",
      "\u001b[0;31mTypeError\u001b[0m: create_line_chart() got an unexpected keyword argument 'groupby'"
     ]
    }
   ],
   "source": [
    "# Use hvplot to create an interactive line chart of the average house value per neighbourhood\n",
    "# The plot should have a dropdown selector for the neighbourhood\n",
    "plot = create_line_chart(data= new_df, title= 'Average House Value per Neighbourhood', groupby='neighbourhood',\n",
    "                        xlabel= 'Year', ylabel= 'Average House Value')\n",
    "plot"
   ]
  },
  {
   "cell_type": "markdown",
   "metadata": {},
   "source": [
    "## Number of Dwelling Types per Year\n",
    "\n",
    "In this section, you will use `hvplot` to create an interactive visualization of the average number of dwelling types per year with a dropdown selector for the neighbourhood."
   ]
  },
  {
   "cell_type": "code",
   "execution_count": 71,
   "metadata": {},
   "outputs": [
    {
     "data": {
      "text/html": [
       "<div>\n",
       "<style scoped>\n",
       "    .dataframe tbody tr th:only-of-type {\n",
       "        vertical-align: middle;\n",
       "    }\n",
       "\n",
       "    .dataframe tbody tr th {\n",
       "        vertical-align: top;\n",
       "    }\n",
       "\n",
       "    .dataframe thead th {\n",
       "        text-align: right;\n",
       "    }\n",
       "</style>\n",
       "<table border=\"1\" class=\"dataframe\">\n",
       "  <thead>\n",
       "    <tr style=\"text-align: right;\">\n",
       "      <th></th>\n",
       "      <th>neighbourhood</th>\n",
       "      <th>single_detached_house</th>\n",
       "      <th>apartment_five_storeys_plus</th>\n",
       "      <th>movable_dwelling</th>\n",
       "      <th>semi_detached_house</th>\n",
       "      <th>row_house</th>\n",
       "      <th>duplex</th>\n",
       "      <th>apartment_five_storeys_less</th>\n",
       "      <th>other_house</th>\n",
       "    </tr>\n",
       "    <tr>\n",
       "      <th>year</th>\n",
       "      <th></th>\n",
       "      <th></th>\n",
       "      <th></th>\n",
       "      <th></th>\n",
       "      <th></th>\n",
       "      <th></th>\n",
       "      <th></th>\n",
       "      <th></th>\n",
       "      <th></th>\n",
       "    </tr>\n",
       "  </thead>\n",
       "  <tbody>\n",
       "    <tr>\n",
       "      <th>2001</th>\n",
       "      <td>Agincourt North</td>\n",
       "      <td>3715</td>\n",
       "      <td>1480</td>\n",
       "      <td>0</td>\n",
       "      <td>1055</td>\n",
       "      <td>1295</td>\n",
       "      <td>195</td>\n",
       "      <td>185</td>\n",
       "      <td>5</td>\n",
       "    </tr>\n",
       "    <tr>\n",
       "      <th>2001</th>\n",
       "      <td>Agincourt South-Malvern West</td>\n",
       "      <td>3250</td>\n",
       "      <td>1835</td>\n",
       "      <td>0</td>\n",
       "      <td>545</td>\n",
       "      <td>455</td>\n",
       "      <td>105</td>\n",
       "      <td>425</td>\n",
       "      <td>0</td>\n",
       "    </tr>\n",
       "    <tr>\n",
       "      <th>2001</th>\n",
       "      <td>Alderwood</td>\n",
       "      <td>3175</td>\n",
       "      <td>315</td>\n",
       "      <td>0</td>\n",
       "      <td>470</td>\n",
       "      <td>50</td>\n",
       "      <td>185</td>\n",
       "      <td>370</td>\n",
       "      <td>0</td>\n",
       "    </tr>\n",
       "    <tr>\n",
       "      <th>2001</th>\n",
       "      <td>Annex</td>\n",
       "      <td>1060</td>\n",
       "      <td>6090</td>\n",
       "      <td>5</td>\n",
       "      <td>1980</td>\n",
       "      <td>605</td>\n",
       "      <td>275</td>\n",
       "      <td>3710</td>\n",
       "      <td>165</td>\n",
       "    </tr>\n",
       "    <tr>\n",
       "      <th>2001</th>\n",
       "      <td>Banbury-Don Mills</td>\n",
       "      <td>3615</td>\n",
       "      <td>4465</td>\n",
       "      <td>0</td>\n",
       "      <td>240</td>\n",
       "      <td>380</td>\n",
       "      <td>15</td>\n",
       "      <td>1360</td>\n",
       "      <td>0</td>\n",
       "    </tr>\n",
       "    <tr>\n",
       "      <th>...</th>\n",
       "      <td>...</td>\n",
       "      <td>...</td>\n",
       "      <td>...</td>\n",
       "      <td>...</td>\n",
       "      <td>...</td>\n",
       "      <td>...</td>\n",
       "      <td>...</td>\n",
       "      <td>...</td>\n",
       "      <td>...</td>\n",
       "    </tr>\n",
       "    <tr>\n",
       "      <th>2016</th>\n",
       "      <td>Wychwood</td>\n",
       "      <td>920</td>\n",
       "      <td>1295</td>\n",
       "      <td>0</td>\n",
       "      <td>880</td>\n",
       "      <td>290</td>\n",
       "      <td>395</td>\n",
       "      <td>2080</td>\n",
       "      <td>35</td>\n",
       "    </tr>\n",
       "    <tr>\n",
       "      <th>2016</th>\n",
       "      <td>Yonge-Eglinton</td>\n",
       "      <td>1400</td>\n",
       "      <td>1995</td>\n",
       "      <td>0</td>\n",
       "      <td>465</td>\n",
       "      <td>60</td>\n",
       "      <td>310</td>\n",
       "      <td>1445</td>\n",
       "      <td>0</td>\n",
       "    </tr>\n",
       "    <tr>\n",
       "      <th>2016</th>\n",
       "      <td>Yonge-St.Clair</td>\n",
       "      <td>520</td>\n",
       "      <td>4315</td>\n",
       "      <td>0</td>\n",
       "      <td>450</td>\n",
       "      <td>220</td>\n",
       "      <td>130</td>\n",
       "      <td>1370</td>\n",
       "      <td>0</td>\n",
       "    </tr>\n",
       "    <tr>\n",
       "      <th>2016</th>\n",
       "      <td>York University Heights</td>\n",
       "      <td>1235</td>\n",
       "      <td>5505</td>\n",
       "      <td>0</td>\n",
       "      <td>1360</td>\n",
       "      <td>775</td>\n",
       "      <td>280</td>\n",
       "      <td>995</td>\n",
       "      <td>0</td>\n",
       "    </tr>\n",
       "    <tr>\n",
       "      <th>2016</th>\n",
       "      <td>Yorkdale-Glen Park</td>\n",
       "      <td>2165</td>\n",
       "      <td>1185</td>\n",
       "      <td>0</td>\n",
       "      <td>80</td>\n",
       "      <td>600</td>\n",
       "      <td>465</td>\n",
       "      <td>830</td>\n",
       "      <td>5</td>\n",
       "    </tr>\n",
       "  </tbody>\n",
       "</table>\n",
       "<p>560 rows × 9 columns</p>\n",
       "</div>"
      ],
      "text/plain": [
       "                     neighbourhood  single_detached_house  \\\n",
       "year                                                        \n",
       "2001               Agincourt North                   3715   \n",
       "2001  Agincourt South-Malvern West                   3250   \n",
       "2001                     Alderwood                   3175   \n",
       "2001                         Annex                   1060   \n",
       "2001             Banbury-Don Mills                   3615   \n",
       "...                            ...                    ...   \n",
       "2016                      Wychwood                    920   \n",
       "2016                Yonge-Eglinton                   1400   \n",
       "2016                Yonge-St.Clair                    520   \n",
       "2016       York University Heights                   1235   \n",
       "2016            Yorkdale-Glen Park                   2165   \n",
       "\n",
       "      apartment_five_storeys_plus  movable_dwelling  semi_detached_house  \\\n",
       "year                                                                       \n",
       "2001                         1480                 0                 1055   \n",
       "2001                         1835                 0                  545   \n",
       "2001                          315                 0                  470   \n",
       "2001                         6090                 5                 1980   \n",
       "2001                         4465                 0                  240   \n",
       "...                           ...               ...                  ...   \n",
       "2016                         1295                 0                  880   \n",
       "2016                         1995                 0                  465   \n",
       "2016                         4315                 0                  450   \n",
       "2016                         5505                 0                 1360   \n",
       "2016                         1185                 0                   80   \n",
       "\n",
       "      row_house  duplex  apartment_five_storeys_less  other_house  \n",
       "year                                                               \n",
       "2001       1295     195                          185            5  \n",
       "2001        455     105                          425            0  \n",
       "2001         50     185                          370            0  \n",
       "2001        605     275                         3710          165  \n",
       "2001        380      15                         1360            0  \n",
       "...         ...     ...                          ...          ...  \n",
       "2016        290     395                         2080           35  \n",
       "2016         60     310                         1445            0  \n",
       "2016        220     130                         1370            0  \n",
       "2016        775     280                          995            0  \n",
       "2016        600     465                          830            5  \n",
       "\n",
       "[560 rows x 9 columns]"
      ]
     },
     "execution_count": 71,
     "metadata": {},
     "output_type": "execute_result"
    }
   ],
   "source": [
    "# Fetch the data of all dwelling types per year\n",
    "dwelling_types_df = to_data.drop(columns=[\"average_house_value\", \"shelter_costs_owned\", \"shelter_costs_rented\"])\n",
    "\n",
    "#dwelling_types_df.groupby([\"year\", \"neighbourhood\"]).head()\n",
    "#dwelling_types_df.head()\n",
    "#dwelling_types_df.groupby(['year']).mean().round(0)\n",
    "dwelling_types_df"
   ]
  },
  {
   "cell_type": "code",
   "execution_count": 16,
   "metadata": {},
   "outputs": [
    {
     "data": {
      "application/vnd.holoviews_exec.v0+json": "",
      "text/html": [
       "<div id='1131'>\n",
       "\n",
       "\n",
       "\n",
       "\n",
       "\n",
       "  <div class=\"bk-root\" id=\"a648cad4-49b8-441e-9797-4ebf080da35c\" data-root-id=\"1131\"></div>\n",
       "</div>\n",
       "<script type=\"application/javascript\">(function(root) {\n",
       "  function embed_document(root) {\n",
       "  var docs_json = {\"83f2be2a-0960-4e45-94bb-c7665fe6f7ba\":{\"roots\":{\"references\":[{\"attributes\":{\"factors\":[[\"2001\",\"other_house\"],[\"2001\",\"apartment_five_storeys_less\"],[\"2001\",\"duplex\"],[\"2001\",\"row_house\"],[\"2001\",\"semi_detached_house\"],[\"2001\",\"movable_dwelling\"],[\"2001\",\"apartment_five_storeys_plus\"],[\"2001\",\"single_detached_house\"],[\"2006\",\"other_house\"],[\"2006\",\"apartment_five_storeys_less\"],[\"2006\",\"duplex\"],[\"2006\",\"row_house\"],[\"2006\",\"semi_detached_house\"],[\"2006\",\"movable_dwelling\"],[\"2006\",\"apartment_five_storeys_plus\"],[\"2006\",\"single_detached_house\"],[\"2011\",\"other_house\"],[\"2011\",\"apartment_five_storeys_less\"],[\"2011\",\"duplex\"],[\"2011\",\"row_house\"],[\"2011\",\"semi_detached_house\"],[\"2011\",\"movable_dwelling\"],[\"2011\",\"apartment_five_storeys_plus\"],[\"2011\",\"single_detached_house\"],[\"2016\",\"other_house\"],[\"2016\",\"apartment_five_storeys_less\"],[\"2016\",\"duplex\"],[\"2016\",\"row_house\"],[\"2016\",\"semi_detached_house\"],[\"2016\",\"movable_dwelling\"],[\"2016\",\"apartment_five_storeys_plus\"],[\"2016\",\"single_detached_house\"]],\"tags\":[[[\"year\",\"year\",null],[\"Variable\",\"Variable\",null]]]},\"id\":\"1133\",\"type\":\"FactorRange\"},{\"attributes\":{},\"id\":\"1153\",\"type\":\"PanTool\"},{\"attributes\":{\"fill_color\":{\"field\":\"Variable\",\"transform\":{\"id\":\"1165\"}},\"top\":{\"field\":\"value\"},\"width\":{\"value\":0.8},\"x\":{\"field\":\"xoffsets\"}},\"id\":\"1169\",\"type\":\"VBar\"},{\"attributes\":{},\"id\":\"1143\",\"type\":\"LinearScale\"},{\"attributes\":{},\"id\":\"1152\",\"type\":\"SaveTool\"},{\"attributes\":{\"margin\":[20,20,20,20],\"min_width\":250,\"options\":[\"Agincourt North\",\"Agincourt South-Malvern West\",\"Alderwood\",\"Annex\",\"Banbury-Don Mills\",\"Bathurst Manor\",\"Bay Street Corridor\",\"Bayview Village\",\"Bayview Woods-Steeles\",\"Bedford Park-Nortown\",\"Beechborough-Greenbrook\",\"Bendale\",\"Birchcliffe-Cliffside\",\"Black Creek\",\"Blake-Jones\",\"Briar Hill-Belgravia\",\"Bridle Path-Sunnybrook-York Mills\",\"Broadview North\",\"Brookhaven-Amesbury\",\"Cabbagetown-South St.James Town\",\"Caledonia-Fairbank\",\"Casa Loma\",\"Centennial Scarborough\",\"Church-Yonge Corridor\",\"Clairlea-Birchmount\",\"Clanton Park\",\"Cliffcrest\",\"Corso Italia-Davenport\",\"Danforth\",\"Danforth-East York\",\"Don Valley Village\",\"Dorset Park\",\"Dovercourt-Wallace Emerson-Juncti\",\"Downsview-Roding-CFB\",\"Dufferin Grove\",\"East End-Danforth\",\"Edenbridge-Humber Valley\",\"Eglinton East\",\"Elms-Old Rexdale\",\"Englemount-Lawrence\",\"Eringate-Centennial-West Deane\",\"Etobicoke West Mall\",\"Flemingdon Park\",\"Forest Hill North\",\"Forest Hill South\",\"Glenfield-Jane Heights\",\"Greenwood-Coxwell\",\"Guildwood\",\"Henry Farm\",\"High Park North\",\"High Park-Swansea\",\"Highland Creek\",\"Hillcrest Village\",\"Humber Heights-Westmount\",\"Humber Summit\",\"Humbermede\",\"Humewood-Cedarvale\",\"Ionview\",\"Islington-City Centre West\",\"Junction Area\",\"Keelesdale-Eglinton West\",\"Kennedy Park\",\"Kensington-Chinatown\",\"Kingsview Village-The Westway\",\"Kingsway South\",\"L'Amoreaux\",\"Lambton Baby Point\",\"Lansing-Westgate\",\"Lawrence Park North\",\"Lawrence Park South\",\"Leaside-Bennington\",\"Little Portugal\",\"Long Branch\",\"Malvern\",\"Maple Leaf\",\"Markland Wood\",\"Milliken\",\"Mimico\",\"Morningside\",\"Moss Park\",\"Mount Dennis\",\"Mount Olive-Silverstone-Jamestown\",\"Mount Pleasant East\",\"Mount Pleasant West\",\"New Toronto\",\"Newtonbrook East\",\"Newtonbrook West\",\"Niagara\",\"North Riverdale\",\"North St.James Town\",\"O'Connor-Parkview\",\"Oakridge\",\"Oakwood Village\",\"Old East York\",\"Palmerston-Little Italy\",\"Parkwoods-Donalda\",\"Pelmo Park-Humberlea\",\"Playter Estates-Danforth\",\"Pleasant View\",\"Princess-Rosethorn\",\"Regent Park\",\"Rexdale-Kipling\",\"Rockcliffe-Smythe\",\"Roncesvalles\",\"Rosedale-Moore Park\",\"Rouge\",\"Runnymede-Bloor West Village\",\"Rustic\",\"Scarborough Village\",\"South Parkdale\",\"South Riverdale\",\"St.Andrew-Windfields\",\"Steeles\",\"Stonegate-Queensway\",\"Tam O'Shanter-Sullivan\",\"Taylor-Massey\",\"The Beaches\",\"Thistletown-Beaumond Heights\",\"Thorncliffe Park\",\"Trinity-Bellwoods\",\"University\",\"Victoria Village\",\"Waterfront Communities-The Island\",\"West Hill\",\"West Humber-Clairville\",\"Westminster-Branson\",\"Weston\",\"Weston-Pellam Park\",\"Wexford/Maryvale\",\"Willowdale East\",\"Willowdale West\",\"Willowridge-Martingrove-Richview\",\"Woburn\",\"Woodbine Corridor\",\"Woodbine-Lumsden\",\"Wychwood\",\"Yonge-Eglinton\",\"Yonge-St.Clair\",\"York University Heights\",\"Yorkdale-Glen Park\"],\"title\":\"neighbourhood\",\"value\":\"Agincourt North\",\"width\":250},\"id\":\"1194\",\"type\":\"Select\"},{\"attributes\":{\"callback\":null,\"renderers\":[{\"id\":\"1172\"}],\"tags\":[\"hv_created\"],\"tooltips\":[[\"year\",\"@{year}\"],[\"Variable\",\"@{Variable}\"],[\"value\",\"@{value}\"]]},\"id\":\"1135\",\"type\":\"HoverTool\"},{\"attributes\":{},\"id\":\"1154\",\"type\":\"WheelZoomTool\"},{\"attributes\":{\"factors\":[\"single_detached_house\",\"apartment_five_storeys_plus\",\"movable_dwelling\",\"semi_detached_house\",\"row_house\",\"duplex\",\"apartment_five_storeys_less\",\"other_house\"],\"palette\":[\"#1f77b3\",\"#ff7e0e\",\"#2ba02b\",\"#d62628\",\"#9367bc\",\"#8c564b\",\"#e277c1\",\"#7e7e7e\"]},\"id\":\"1165\",\"type\":\"CategoricalColorMapper\"},{\"attributes\":{\"text\":\"neighbourhood: Agincourt North\",\"text_color\":{\"value\":\"black\"},\"text_font_size\":{\"value\":\"12pt\"}},\"id\":\"1137\",\"type\":\"Title\"},{\"attributes\":{\"margin\":[5,5,5,5],\"name\":\"VSpacer01765\",\"sizing_mode\":\"stretch_height\"},\"id\":\"1192\",\"type\":\"Spacer\"},{\"attributes\":{},\"id\":\"1177\",\"type\":\"BasicTickFormatter\"},{\"attributes\":{\"align\":null,\"below\":[{\"id\":\"1145\"}],\"center\":[{\"id\":\"1147\"},{\"id\":\"1151\"}],\"left\":[{\"id\":\"1148\"}],\"margin\":null,\"min_border_bottom\":10,\"min_border_left\":10,\"min_border_right\":10,\"min_border_top\":10,\"plot_height\":500,\"plot_width\":700,\"renderers\":[{\"id\":\"1172\"}],\"sizing_mode\":\"fixed\",\"title\":{\"id\":\"1137\"},\"toolbar\":{\"id\":\"1158\"},\"x_range\":{\"id\":\"1133\"},\"x_scale\":{\"id\":\"1141\"},\"y_range\":{\"id\":\"1134\"},\"y_scale\":{\"id\":\"1143\"}},\"id\":\"1136\",\"subtype\":\"Figure\",\"type\":\"Plot\"},{\"attributes\":{\"overlay\":{\"id\":\"1157\"}},\"id\":\"1155\",\"type\":\"BoxZoomTool\"},{\"attributes\":{},\"id\":\"1141\",\"type\":\"CategoricalScale\"},{\"attributes\":{\"margin\":[5,5,5,5],\"name\":\"VSpacer01766\",\"sizing_mode\":\"stretch_height\"},\"id\":\"1195\",\"type\":\"Spacer\"},{\"attributes\":{\"children\":[{\"id\":\"1194\"}],\"css_classes\":[\"widget-box\"],\"margin\":[5,5,5,5],\"name\":\"WidgetBox01760\"},\"id\":\"1193\",\"type\":\"Column\"},{\"attributes\":{\"source\":{\"id\":\"1166\"}},\"id\":\"1173\",\"type\":\"CDSView\"},{\"attributes\":{\"axis\":{\"id\":\"1145\"},\"grid_line_color\":null,\"ticker\":null},\"id\":\"1147\",\"type\":\"Grid\"},{\"attributes\":{\"data_source\":{\"id\":\"1166\"},\"glyph\":{\"id\":\"1169\"},\"hover_glyph\":null,\"muted_glyph\":{\"id\":\"1171\"},\"nonselection_glyph\":{\"id\":\"1170\"},\"selection_glyph\":null,\"view\":{\"id\":\"1173\"}},\"id\":\"1172\",\"type\":\"GlyphRenderer\"},{\"attributes\":{\"children\":[{\"id\":\"1192\"},{\"id\":\"1193\"},{\"id\":\"1195\"}],\"margin\":[0,0,0,0],\"name\":\"Column01767\"},\"id\":\"1191\",\"type\":\"Column\"},{\"attributes\":{\"data\":{\"Variable\":[\"single_detached_house\",\"single_detached_house\",\"single_detached_house\",\"single_detached_house\",\"apartment_five_storeys_plus\",\"apartment_five_storeys_plus\",\"apartment_five_storeys_plus\",\"apartment_five_storeys_plus\",\"movable_dwelling\",\"movable_dwelling\",\"movable_dwelling\",\"movable_dwelling\",\"semi_detached_house\",\"semi_detached_house\",\"semi_detached_house\",\"semi_detached_house\",\"row_house\",\"row_house\",\"row_house\",\"row_house\",\"duplex\",\"duplex\",\"duplex\",\"duplex\",\"apartment_five_storeys_less\",\"apartment_five_storeys_less\",\"apartment_five_storeys_less\",\"apartment_five_storeys_less\",\"other_house\",\"other_house\",\"other_house\",\"other_house\"],\"value\":[3715,3295,3385,3345,1480,2060,2130,2120,0,0,5,5,1055,775,820,805,1295,1425,1465,1440,195,600,610,645,185,565,705,735,5,0,20,15],\"xoffsets\":[[\"2001\",\"single_detached_house\"],[\"2006\",\"single_detached_house\"],[\"2011\",\"single_detached_house\"],[\"2016\",\"single_detached_house\"],[\"2001\",\"apartment_five_storeys_plus\"],[\"2006\",\"apartment_five_storeys_plus\"],[\"2011\",\"apartment_five_storeys_plus\"],[\"2016\",\"apartment_five_storeys_plus\"],[\"2001\",\"movable_dwelling\"],[\"2006\",\"movable_dwelling\"],[\"2011\",\"movable_dwelling\"],[\"2016\",\"movable_dwelling\"],[\"2001\",\"semi_detached_house\"],[\"2006\",\"semi_detached_house\"],[\"2011\",\"semi_detached_house\"],[\"2016\",\"semi_detached_house\"],[\"2001\",\"row_house\"],[\"2006\",\"row_house\"],[\"2011\",\"row_house\"],[\"2016\",\"row_house\"],[\"2001\",\"duplex\"],[\"2006\",\"duplex\"],[\"2011\",\"duplex\"],[\"2016\",\"duplex\"],[\"2001\",\"apartment_five_storeys_less\"],[\"2006\",\"apartment_five_storeys_less\"],[\"2011\",\"apartment_five_storeys_less\"],[\"2016\",\"apartment_five_storeys_less\"],[\"2001\",\"other_house\"],[\"2006\",\"other_house\"],[\"2011\",\"other_house\"],[\"2016\",\"other_house\"]],\"year\":[\"2001\",\"2006\",\"2011\",\"2016\",\"2001\",\"2006\",\"2011\",\"2016\",\"2001\",\"2006\",\"2011\",\"2016\",\"2001\",\"2006\",\"2011\",\"2016\",\"2001\",\"2006\",\"2011\",\"2016\",\"2001\",\"2006\",\"2011\",\"2016\",\"2001\",\"2006\",\"2011\",\"2016\",\"2001\",\"2006\",\"2011\",\"2016\"]},\"selected\":{\"id\":\"1167\"},\"selection_policy\":{\"id\":\"1188\"}},\"id\":\"1166\",\"type\":\"ColumnDataSource\"},{\"attributes\":{},\"id\":\"1188\",\"type\":\"UnionRenderers\"},{\"attributes\":{\"children\":[{\"id\":\"1132\"},{\"id\":\"1136\"},{\"id\":\"1190\"},{\"id\":\"1191\"}],\"margin\":[0,0,0,0],\"name\":\"Row01759\"},\"id\":\"1131\",\"type\":\"Row\"},{\"attributes\":{\"active_drag\":\"auto\",\"active_inspect\":\"auto\",\"active_multi\":null,\"active_scroll\":\"auto\",\"active_tap\":\"auto\",\"tools\":[{\"id\":\"1135\"},{\"id\":\"1152\"},{\"id\":\"1153\"},{\"id\":\"1154\"},{\"id\":\"1155\"},{\"id\":\"1156\"}]},\"id\":\"1158\",\"type\":\"Toolbar\"},{\"attributes\":{\"fill_alpha\":{\"value\":0.2},\"fill_color\":{\"field\":\"Variable\",\"transform\":{\"id\":\"1165\"}},\"line_alpha\":{\"value\":0.2},\"top\":{\"field\":\"value\"},\"width\":{\"value\":0.8},\"x\":{\"field\":\"xoffsets\"}},\"id\":\"1171\",\"type\":\"VBar\"},{\"attributes\":{\"bottom_units\":\"screen\",\"fill_alpha\":0.5,\"fill_color\":\"lightgrey\",\"left_units\":\"screen\",\"level\":\"overlay\",\"line_alpha\":1.0,\"line_color\":\"black\",\"line_dash\":[4,4],\"line_width\":2,\"render_mode\":\"css\",\"right_units\":\"screen\",\"top_units\":\"screen\"},\"id\":\"1157\",\"type\":\"BoxAnnotation\"},{\"attributes\":{\"axis_label\":\"Dwelling Type Units\",\"bounds\":\"auto\",\"formatter\":{\"id\":\"1177\"},\"major_label_orientation\":\"horizontal\",\"ticker\":{\"id\":\"1149\"}},\"id\":\"1148\",\"type\":\"LinearAxis\"},{\"attributes\":{},\"id\":\"1156\",\"type\":\"ResetTool\"},{\"attributes\":{\"axis\":{\"id\":\"1148\"},\"dimension\":1,\"grid_line_color\":null,\"ticker\":null},\"id\":\"1151\",\"type\":\"Grid\"},{\"attributes\":{},\"id\":\"1167\",\"type\":\"Selection\"},{\"attributes\":{\"margin\":[5,5,5,5],\"name\":\"HSpacer01768\",\"sizing_mode\":\"stretch_width\"},\"id\":\"1132\",\"type\":\"Spacer\"},{\"attributes\":{},\"id\":\"1149\",\"type\":\"BasicTicker\"},{\"attributes\":{},\"id\":\"1146\",\"type\":\"CategoricalTicker\"},{\"attributes\":{\"margin\":[5,5,5,5],\"name\":\"HSpacer01769\",\"sizing_mode\":\"stretch_width\"},\"id\":\"1190\",\"type\":\"Spacer\"},{\"attributes\":{\"end\":4086.5,\"reset_end\":4086.5,\"reset_start\":0.0,\"tags\":[[[\"value\",\"value\",null]]]},\"id\":\"1134\",\"type\":\"Range1d\"},{\"attributes\":{},\"id\":\"1175\",\"type\":\"CategoricalTickFormatter\"},{\"attributes\":{\"fill_alpha\":{\"value\":0.1},\"fill_color\":{\"field\":\"Variable\",\"transform\":{\"id\":\"1165\"}},\"line_alpha\":{\"value\":0.1},\"top\":{\"field\":\"value\"},\"width\":{\"value\":0.8},\"x\":{\"field\":\"xoffsets\"}},\"id\":\"1170\",\"type\":\"VBar\"},{\"attributes\":{\"axis_label\":\"Year\",\"bounds\":\"auto\",\"formatter\":{\"id\":\"1175\"},\"major_label_orientation\":1.5707963267948966,\"ticker\":{\"id\":\"1146\"}},\"id\":\"1145\",\"type\":\"CategoricalAxis\"},{\"attributes\":{\"client_comm_id\":\"efbb2bf526944af29cf69e7295ed3802\",\"comm_id\":\"ce5af724411d4cb88d323d6c6ffd2911\",\"plot_id\":\"1131\"},\"id\":\"1220\",\"type\":\"panel.models.comm_manager.CommManager\"}],\"root_ids\":[\"1131\",\"1220\"]},\"title\":\"Bokeh Application\",\"version\":\"2.0.2\"}};\n",
       "  var render_items = [{\"docid\":\"83f2be2a-0960-4e45-94bb-c7665fe6f7ba\",\"root_ids\":[\"1131\"],\"roots\":{\"1131\":\"a648cad4-49b8-441e-9797-4ebf080da35c\"}}];\n",
       "  root.Bokeh.embed.embed_items_notebook(docs_json, render_items);\n",
       "  }\n",
       "if (root.Bokeh !== undefined) {\n",
       "    embed_document(root);\n",
       "  } else {\n",
       "    var attempts = 0;\n",
       "    var timer = setInterval(function(root) {\n",
       "      if (root.Bokeh !== undefined) {\n",
       "        clearInterval(timer);\n",
       "        embed_document(root);\n",
       "      } else if (document.readyState == \"complete\") {\n",
       "        attempts++;\n",
       "        if (attempts > 100) {\n",
       "          clearInterval(timer);\n",
       "          console.log(\"Bokeh: ERROR: Unable to run BokehJS code because BokehJS library is missing\");\n",
       "        }\n",
       "      }\n",
       "    }, 10, root)\n",
       "  }\n",
       "})(window);</script>"
      ],
      "text/plain": [
       ":DynamicMap   [neighbourhood]\n",
       "   :Bars   [year,Variable]   (value)"
      ]
     },
     "execution_count": 16,
     "metadata": {
      "application/vnd.holoviews_exec.v0+json": {
       "id": "1131"
      }
     },
     "output_type": "execute_result"
    }
   ],
   "source": [
    "# Use hvplot to create an interactive bar chart of the number of dwelling types per neighbourhood\n",
    "# The plot should have a dropdown selector for the neighbourhood\n",
    "# YOUR CODE HERE!"
   ]
  },
  {
   "cell_type": "markdown",
   "metadata": {},
   "source": [
    "- - - "
   ]
  },
  {
   "cell_type": "markdown",
   "metadata": {},
   "source": [
    "## The Top 10 Most Expensive Neighbourhoods\n",
    "\n",
    "In this section, you will need to calculate the house value for each neighbourhood and then sort the values to obtain the top 10 most expensive neighbourhoods on average. Plot the results as a bar chart."
   ]
  },
  {
   "cell_type": "code",
   "execution_count": 72,
   "metadata": {},
   "outputs": [
    {
     "data": {
      "text/html": [
       "<div>\n",
       "<style scoped>\n",
       "    .dataframe tbody tr th:only-of-type {\n",
       "        vertical-align: middle;\n",
       "    }\n",
       "\n",
       "    .dataframe tbody tr th {\n",
       "        vertical-align: top;\n",
       "    }\n",
       "\n",
       "    .dataframe thead th {\n",
       "        text-align: right;\n",
       "    }\n",
       "</style>\n",
       "<table border=\"1\" class=\"dataframe\">\n",
       "  <thead>\n",
       "    <tr style=\"text-align: right;\">\n",
       "      <th></th>\n",
       "      <th>single_detached_house</th>\n",
       "      <th>apartment_five_storeys_plus</th>\n",
       "      <th>movable_dwelling</th>\n",
       "      <th>semi_detached_house</th>\n",
       "      <th>row_house</th>\n",
       "      <th>duplex</th>\n",
       "      <th>apartment_five_storeys_less</th>\n",
       "      <th>other_house</th>\n",
       "      <th>average_house_value</th>\n",
       "      <th>shelter_costs_owned</th>\n",
       "      <th>shelter_costs_rented</th>\n",
       "    </tr>\n",
       "    <tr>\n",
       "      <th>neighbourhood</th>\n",
       "      <th></th>\n",
       "      <th></th>\n",
       "      <th></th>\n",
       "      <th></th>\n",
       "      <th></th>\n",
       "      <th></th>\n",
       "      <th></th>\n",
       "      <th></th>\n",
       "      <th></th>\n",
       "      <th></th>\n",
       "      <th></th>\n",
       "    </tr>\n",
       "  </thead>\n",
       "  <tbody>\n",
       "    <tr>\n",
       "      <th>Bridle Path-Sunnybrook-York Mills</th>\n",
       "      <td>2260.00</td>\n",
       "      <td>331.25</td>\n",
       "      <td>0.00</td>\n",
       "      <td>36.25</td>\n",
       "      <td>90.00</td>\n",
       "      <td>25.0</td>\n",
       "      <td>40.00</td>\n",
       "      <td>0.00</td>\n",
       "      <td>1526485.75</td>\n",
       "      <td>2360.75</td>\n",
       "      <td>2321.75</td>\n",
       "    </tr>\n",
       "    <tr>\n",
       "      <th>Forest Hill South</th>\n",
       "      <td>1742.50</td>\n",
       "      <td>2031.25</td>\n",
       "      <td>1.25</td>\n",
       "      <td>61.25</td>\n",
       "      <td>45.00</td>\n",
       "      <td>75.0</td>\n",
       "      <td>1027.50</td>\n",
       "      <td>3.75</td>\n",
       "      <td>1195992.50</td>\n",
       "      <td>1781.00</td>\n",
       "      <td>1313.75</td>\n",
       "    </tr>\n",
       "    <tr>\n",
       "      <th>Lawrence Park South</th>\n",
       "      <td>3472.50</td>\n",
       "      <td>773.75</td>\n",
       "      <td>0.00</td>\n",
       "      <td>126.25</td>\n",
       "      <td>38.75</td>\n",
       "      <td>225.0</td>\n",
       "      <td>966.25</td>\n",
       "      <td>16.25</td>\n",
       "      <td>1094027.75</td>\n",
       "      <td>1954.00</td>\n",
       "      <td>1372.75</td>\n",
       "    </tr>\n",
       "    <tr>\n",
       "      <th>Rosedale-Moore Park</th>\n",
       "      <td>2498.75</td>\n",
       "      <td>4641.25</td>\n",
       "      <td>0.00</td>\n",
       "      <td>486.25</td>\n",
       "      <td>245.00</td>\n",
       "      <td>327.5</td>\n",
       "      <td>1618.75</td>\n",
       "      <td>2.50</td>\n",
       "      <td>1093640.00</td>\n",
       "      <td>1909.75</td>\n",
       "      <td>1537.25</td>\n",
       "    </tr>\n",
       "    <tr>\n",
       "      <th>St.Andrew-Windfields</th>\n",
       "      <td>3225.00</td>\n",
       "      <td>1670.00</td>\n",
       "      <td>0.00</td>\n",
       "      <td>185.00</td>\n",
       "      <td>552.50</td>\n",
       "      <td>97.5</td>\n",
       "      <td>586.25</td>\n",
       "      <td>5.00</td>\n",
       "      <td>999107.00</td>\n",
       "      <td>1880.25</td>\n",
       "      <td>1384.50</td>\n",
       "    </tr>\n",
       "  </tbody>\n",
       "</table>\n",
       "</div>"
      ],
      "text/plain": [
       "                                   single_detached_house  \\\n",
       "neighbourhood                                              \n",
       "Bridle Path-Sunnybrook-York Mills                2260.00   \n",
       "Forest Hill South                                1742.50   \n",
       "Lawrence Park South                              3472.50   \n",
       "Rosedale-Moore Park                              2498.75   \n",
       "St.Andrew-Windfields                             3225.00   \n",
       "\n",
       "                                   apartment_five_storeys_plus  \\\n",
       "neighbourhood                                                    \n",
       "Bridle Path-Sunnybrook-York Mills                       331.25   \n",
       "Forest Hill South                                      2031.25   \n",
       "Lawrence Park South                                     773.75   \n",
       "Rosedale-Moore Park                                    4641.25   \n",
       "St.Andrew-Windfields                                   1670.00   \n",
       "\n",
       "                                   movable_dwelling  semi_detached_house  \\\n",
       "neighbourhood                                                              \n",
       "Bridle Path-Sunnybrook-York Mills              0.00                36.25   \n",
       "Forest Hill South                              1.25                61.25   \n",
       "Lawrence Park South                            0.00               126.25   \n",
       "Rosedale-Moore Park                            0.00               486.25   \n",
       "St.Andrew-Windfields                           0.00               185.00   \n",
       "\n",
       "                                   row_house  duplex  \\\n",
       "neighbourhood                                          \n",
       "Bridle Path-Sunnybrook-York Mills      90.00    25.0   \n",
       "Forest Hill South                      45.00    75.0   \n",
       "Lawrence Park South                    38.75   225.0   \n",
       "Rosedale-Moore Park                   245.00   327.5   \n",
       "St.Andrew-Windfields                  552.50    97.5   \n",
       "\n",
       "                                   apartment_five_storeys_less  other_house  \\\n",
       "neighbourhood                                                                 \n",
       "Bridle Path-Sunnybrook-York Mills                        40.00         0.00   \n",
       "Forest Hill South                                      1027.50         3.75   \n",
       "Lawrence Park South                                     966.25        16.25   \n",
       "Rosedale-Moore Park                                    1618.75         2.50   \n",
       "St.Andrew-Windfields                                    586.25         5.00   \n",
       "\n",
       "                                   average_house_value  shelter_costs_owned  \\\n",
       "neighbourhood                                                                 \n",
       "Bridle Path-Sunnybrook-York Mills           1526485.75              2360.75   \n",
       "Forest Hill South                           1195992.50              1781.00   \n",
       "Lawrence Park South                         1094027.75              1954.00   \n",
       "Rosedale-Moore Park                         1093640.00              1909.75   \n",
       "St.Andrew-Windfields                         999107.00              1880.25   \n",
       "\n",
       "                                   shelter_costs_rented  \n",
       "neighbourhood                                            \n",
       "Bridle Path-Sunnybrook-York Mills               2321.75  \n",
       "Forest Hill South                               1313.75  \n",
       "Lawrence Park South                             1372.75  \n",
       "Rosedale-Moore Park                             1537.25  \n",
       "St.Andrew-Windfields                            1384.50  "
      ]
     },
     "execution_count": 72,
     "metadata": {},
     "output_type": "execute_result"
    }
   ],
   "source": [
    "# Getting the data from the top 10 expensive neighbourhoods\n",
    "top_ten_most_expensive_neighbourhoods = to_data.groupby('neighbourhood').mean().sort_values(by= 'average_house_value', ascending=False).head(10)\n",
    "top_ten_most_expensive_neighbourhoods.head()"
   ]
  },
  {
   "cell_type": "code",
   "execution_count": 73,
   "metadata": {},
   "outputs": [
    {
     "data": {},
     "metadata": {},
     "output_type": "display_data"
    },
    {
     "ename": "AttributeError",
     "evalue": "'Document' object has no attribute '_hold'",
     "output_type": "error",
     "traceback": [
      "\u001b[0;31m---------------------------------------------------------------------------\u001b[0m",
      "\u001b[0;31mAttributeError\u001b[0m                            Traceback (most recent call last)",
      "\u001b[0;32m~/opt/anaconda3/lib/python3.8/site-packages/IPython/core/formatters.py\u001b[0m in \u001b[0;36m__call__\u001b[0;34m(self, obj, include, exclude)\u001b[0m\n\u001b[1;32m    968\u001b[0m \u001b[0;34m\u001b[0m\u001b[0m\n\u001b[1;32m    969\u001b[0m             \u001b[0;32mif\u001b[0m \u001b[0mmethod\u001b[0m \u001b[0;32mis\u001b[0m \u001b[0;32mnot\u001b[0m \u001b[0;32mNone\u001b[0m\u001b[0;34m:\u001b[0m\u001b[0;34m\u001b[0m\u001b[0;34m\u001b[0m\u001b[0m\n\u001b[0;32m--> 970\u001b[0;31m                 \u001b[0;32mreturn\u001b[0m \u001b[0mmethod\u001b[0m\u001b[0;34m(\u001b[0m\u001b[0minclude\u001b[0m\u001b[0;34m=\u001b[0m\u001b[0minclude\u001b[0m\u001b[0;34m,\u001b[0m \u001b[0mexclude\u001b[0m\u001b[0;34m=\u001b[0m\u001b[0mexclude\u001b[0m\u001b[0;34m)\u001b[0m\u001b[0;34m\u001b[0m\u001b[0;34m\u001b[0m\u001b[0m\n\u001b[0m\u001b[1;32m    971\u001b[0m             \u001b[0;32mreturn\u001b[0m \u001b[0;32mNone\u001b[0m\u001b[0;34m\u001b[0m\u001b[0;34m\u001b[0m\u001b[0m\n\u001b[1;32m    972\u001b[0m         \u001b[0;32melse\u001b[0m\u001b[0;34m:\u001b[0m\u001b[0;34m\u001b[0m\u001b[0;34m\u001b[0m\u001b[0m\n",
      "\u001b[0;32m~/opt/anaconda3/lib/python3.8/site-packages/holoviews/core/dimension.py\u001b[0m in \u001b[0;36m_repr_mimebundle_\u001b[0;34m(self, include, exclude)\u001b[0m\n\u001b[1;32m   1315\u001b[0m         \u001b[0mcombined\u001b[0m \u001b[0;32mand\u001b[0m \u001b[0mreturned\u001b[0m\u001b[0;34m.\u001b[0m\u001b[0;34m\u001b[0m\u001b[0;34m\u001b[0m\u001b[0m\n\u001b[1;32m   1316\u001b[0m         \"\"\"\n\u001b[0;32m-> 1317\u001b[0;31m         \u001b[0;32mreturn\u001b[0m \u001b[0mStore\u001b[0m\u001b[0;34m.\u001b[0m\u001b[0mrender\u001b[0m\u001b[0;34m(\u001b[0m\u001b[0mself\u001b[0m\u001b[0;34m)\u001b[0m\u001b[0;34m\u001b[0m\u001b[0;34m\u001b[0m\u001b[0m\n\u001b[0m\u001b[1;32m   1318\u001b[0m \u001b[0;34m\u001b[0m\u001b[0m\n\u001b[1;32m   1319\u001b[0m \u001b[0;34m\u001b[0m\u001b[0m\n",
      "\u001b[0;32m~/opt/anaconda3/lib/python3.8/site-packages/holoviews/core/options.py\u001b[0m in \u001b[0;36mrender\u001b[0;34m(cls, obj)\u001b[0m\n\u001b[1;32m   1403\u001b[0m         \u001b[0mdata\u001b[0m\u001b[0;34m,\u001b[0m \u001b[0mmetadata\u001b[0m \u001b[0;34m=\u001b[0m \u001b[0;34m{\u001b[0m\u001b[0;34m}\u001b[0m\u001b[0;34m,\u001b[0m \u001b[0;34m{\u001b[0m\u001b[0;34m}\u001b[0m\u001b[0;34m\u001b[0m\u001b[0;34m\u001b[0m\u001b[0m\n\u001b[1;32m   1404\u001b[0m         \u001b[0;32mfor\u001b[0m \u001b[0mhook\u001b[0m \u001b[0;32min\u001b[0m \u001b[0mhooks\u001b[0m\u001b[0;34m:\u001b[0m\u001b[0;34m\u001b[0m\u001b[0;34m\u001b[0m\u001b[0m\n\u001b[0;32m-> 1405\u001b[0;31m             \u001b[0mret\u001b[0m \u001b[0;34m=\u001b[0m \u001b[0mhook\u001b[0m\u001b[0;34m(\u001b[0m\u001b[0mobj\u001b[0m\u001b[0;34m)\u001b[0m\u001b[0;34m\u001b[0m\u001b[0;34m\u001b[0m\u001b[0m\n\u001b[0m\u001b[1;32m   1406\u001b[0m             \u001b[0;32mif\u001b[0m \u001b[0mret\u001b[0m \u001b[0;32mis\u001b[0m \u001b[0;32mNone\u001b[0m\u001b[0;34m:\u001b[0m\u001b[0;34m\u001b[0m\u001b[0;34m\u001b[0m\u001b[0m\n\u001b[1;32m   1407\u001b[0m                 \u001b[0;32mcontinue\u001b[0m\u001b[0;34m\u001b[0m\u001b[0;34m\u001b[0m\u001b[0m\n",
      "\u001b[0;32m~/opt/anaconda3/lib/python3.8/site-packages/holoviews/ipython/display_hooks.py\u001b[0m in \u001b[0;36mpprint_display\u001b[0;34m(obj)\u001b[0m\n\u001b[1;32m    280\u001b[0m     \u001b[0;32mif\u001b[0m \u001b[0;32mnot\u001b[0m \u001b[0mip\u001b[0m\u001b[0;34m.\u001b[0m\u001b[0mdisplay_formatter\u001b[0m\u001b[0;34m.\u001b[0m\u001b[0mformatters\u001b[0m\u001b[0;34m[\u001b[0m\u001b[0;34m'text/plain'\u001b[0m\u001b[0;34m]\u001b[0m\u001b[0;34m.\u001b[0m\u001b[0mpprint\u001b[0m\u001b[0;34m:\u001b[0m\u001b[0;34m\u001b[0m\u001b[0;34m\u001b[0m\u001b[0m\n\u001b[1;32m    281\u001b[0m         \u001b[0;32mreturn\u001b[0m \u001b[0;32mNone\u001b[0m\u001b[0;34m\u001b[0m\u001b[0;34m\u001b[0m\u001b[0m\n\u001b[0;32m--> 282\u001b[0;31m     \u001b[0;32mreturn\u001b[0m \u001b[0mdisplay\u001b[0m\u001b[0;34m(\u001b[0m\u001b[0mobj\u001b[0m\u001b[0;34m,\u001b[0m \u001b[0mraw_output\u001b[0m\u001b[0;34m=\u001b[0m\u001b[0;32mTrue\u001b[0m\u001b[0;34m)\u001b[0m\u001b[0;34m\u001b[0m\u001b[0;34m\u001b[0m\u001b[0m\n\u001b[0m\u001b[1;32m    283\u001b[0m \u001b[0;34m\u001b[0m\u001b[0m\n\u001b[1;32m    284\u001b[0m \u001b[0;34m\u001b[0m\u001b[0m\n",
      "\u001b[0;32m~/opt/anaconda3/lib/python3.8/site-packages/holoviews/ipython/display_hooks.py\u001b[0m in \u001b[0;36mdisplay\u001b[0;34m(obj, raw_output, **kwargs)\u001b[0m\n\u001b[1;32m    250\u001b[0m     \u001b[0;32melif\u001b[0m \u001b[0misinstance\u001b[0m\u001b[0;34m(\u001b[0m\u001b[0mobj\u001b[0m\u001b[0;34m,\u001b[0m \u001b[0;34m(\u001b[0m\u001b[0mCompositeOverlay\u001b[0m\u001b[0;34m,\u001b[0m \u001b[0mViewableElement\u001b[0m\u001b[0;34m)\u001b[0m\u001b[0;34m)\u001b[0m\u001b[0;34m:\u001b[0m\u001b[0;34m\u001b[0m\u001b[0;34m\u001b[0m\u001b[0m\n\u001b[1;32m    251\u001b[0m         \u001b[0;32mwith\u001b[0m \u001b[0moption_state\u001b[0m\u001b[0;34m(\u001b[0m\u001b[0mobj\u001b[0m\u001b[0;34m)\u001b[0m\u001b[0;34m:\u001b[0m\u001b[0;34m\u001b[0m\u001b[0;34m\u001b[0m\u001b[0m\n\u001b[0;32m--> 252\u001b[0;31m             \u001b[0moutput\u001b[0m \u001b[0;34m=\u001b[0m \u001b[0melement_display\u001b[0m\u001b[0;34m(\u001b[0m\u001b[0mobj\u001b[0m\u001b[0;34m)\u001b[0m\u001b[0;34m\u001b[0m\u001b[0;34m\u001b[0m\u001b[0m\n\u001b[0m\u001b[1;32m    253\u001b[0m     \u001b[0;32melif\u001b[0m \u001b[0misinstance\u001b[0m\u001b[0;34m(\u001b[0m\u001b[0mobj\u001b[0m\u001b[0;34m,\u001b[0m \u001b[0;34m(\u001b[0m\u001b[0mLayout\u001b[0m\u001b[0;34m,\u001b[0m \u001b[0mNdLayout\u001b[0m\u001b[0;34m,\u001b[0m \u001b[0mAdjointLayout\u001b[0m\u001b[0;34m)\u001b[0m\u001b[0;34m)\u001b[0m\u001b[0;34m:\u001b[0m\u001b[0;34m\u001b[0m\u001b[0;34m\u001b[0m\u001b[0m\n\u001b[1;32m    254\u001b[0m         \u001b[0;32mwith\u001b[0m \u001b[0moption_state\u001b[0m\u001b[0;34m(\u001b[0m\u001b[0mobj\u001b[0m\u001b[0;34m)\u001b[0m\u001b[0;34m:\u001b[0m\u001b[0;34m\u001b[0m\u001b[0;34m\u001b[0m\u001b[0m\n",
      "\u001b[0;32m~/opt/anaconda3/lib/python3.8/site-packages/holoviews/ipython/display_hooks.py\u001b[0m in \u001b[0;36mwrapped\u001b[0;34m(element)\u001b[0m\n\u001b[1;32m    144\u001b[0m         \u001b[0;32mtry\u001b[0m\u001b[0;34m:\u001b[0m\u001b[0;34m\u001b[0m\u001b[0;34m\u001b[0m\u001b[0m\n\u001b[1;32m    145\u001b[0m             \u001b[0mmax_frames\u001b[0m \u001b[0;34m=\u001b[0m \u001b[0mOutputSettings\u001b[0m\u001b[0;34m.\u001b[0m\u001b[0moptions\u001b[0m\u001b[0;34m[\u001b[0m\u001b[0;34m'max_frames'\u001b[0m\u001b[0;34m]\u001b[0m\u001b[0;34m\u001b[0m\u001b[0;34m\u001b[0m\u001b[0m\n\u001b[0;32m--> 146\u001b[0;31m             \u001b[0mmimebundle\u001b[0m \u001b[0;34m=\u001b[0m \u001b[0mfn\u001b[0m\u001b[0;34m(\u001b[0m\u001b[0melement\u001b[0m\u001b[0;34m,\u001b[0m \u001b[0mmax_frames\u001b[0m\u001b[0;34m=\u001b[0m\u001b[0mmax_frames\u001b[0m\u001b[0;34m)\u001b[0m\u001b[0;34m\u001b[0m\u001b[0;34m\u001b[0m\u001b[0m\n\u001b[0m\u001b[1;32m    147\u001b[0m             \u001b[0;32mif\u001b[0m \u001b[0mmimebundle\u001b[0m \u001b[0;32mis\u001b[0m \u001b[0;32mNone\u001b[0m\u001b[0;34m:\u001b[0m\u001b[0;34m\u001b[0m\u001b[0;34m\u001b[0m\u001b[0m\n\u001b[1;32m    148\u001b[0m                 \u001b[0;32mreturn\u001b[0m \u001b[0;34m{\u001b[0m\u001b[0;34m}\u001b[0m\u001b[0;34m,\u001b[0m \u001b[0;34m{\u001b[0m\u001b[0;34m}\u001b[0m\u001b[0;34m\u001b[0m\u001b[0;34m\u001b[0m\u001b[0m\n",
      "\u001b[0;32m~/opt/anaconda3/lib/python3.8/site-packages/holoviews/ipython/display_hooks.py\u001b[0m in \u001b[0;36melement_display\u001b[0;34m(element, max_frames)\u001b[0m\n\u001b[1;32m    190\u001b[0m         \u001b[0;32mreturn\u001b[0m \u001b[0;32mNone\u001b[0m\u001b[0;34m\u001b[0m\u001b[0;34m\u001b[0m\u001b[0m\n\u001b[1;32m    191\u001b[0m \u001b[0;34m\u001b[0m\u001b[0m\n\u001b[0;32m--> 192\u001b[0;31m     \u001b[0;32mreturn\u001b[0m \u001b[0mrender\u001b[0m\u001b[0;34m(\u001b[0m\u001b[0melement\u001b[0m\u001b[0;34m)\u001b[0m\u001b[0;34m\u001b[0m\u001b[0;34m\u001b[0m\u001b[0m\n\u001b[0m\u001b[1;32m    193\u001b[0m \u001b[0;34m\u001b[0m\u001b[0m\n\u001b[1;32m    194\u001b[0m \u001b[0;34m\u001b[0m\u001b[0m\n",
      "\u001b[0;32m~/opt/anaconda3/lib/python3.8/site-packages/holoviews/ipython/display_hooks.py\u001b[0m in \u001b[0;36mrender\u001b[0;34m(obj, **kwargs)\u001b[0m\n\u001b[1;32m     66\u001b[0m         \u001b[0mrenderer\u001b[0m \u001b[0;34m=\u001b[0m \u001b[0mrenderer\u001b[0m\u001b[0;34m.\u001b[0m\u001b[0minstance\u001b[0m\u001b[0;34m(\u001b[0m\u001b[0mfig\u001b[0m\u001b[0;34m=\u001b[0m\u001b[0;34m'png'\u001b[0m\u001b[0;34m)\u001b[0m\u001b[0;34m\u001b[0m\u001b[0;34m\u001b[0m\u001b[0m\n\u001b[1;32m     67\u001b[0m \u001b[0;34m\u001b[0m\u001b[0m\n\u001b[0;32m---> 68\u001b[0;31m     \u001b[0;32mreturn\u001b[0m \u001b[0mrenderer\u001b[0m\u001b[0;34m.\u001b[0m\u001b[0mcomponents\u001b[0m\u001b[0;34m(\u001b[0m\u001b[0mobj\u001b[0m\u001b[0;34m,\u001b[0m \u001b[0;34m**\u001b[0m\u001b[0mkwargs\u001b[0m\u001b[0;34m)\u001b[0m\u001b[0;34m\u001b[0m\u001b[0;34m\u001b[0m\u001b[0m\n\u001b[0m\u001b[1;32m     69\u001b[0m \u001b[0;34m\u001b[0m\u001b[0m\n\u001b[1;32m     70\u001b[0m \u001b[0;34m\u001b[0m\u001b[0m\n",
      "\u001b[0;32m~/opt/anaconda3/lib/python3.8/site-packages/holoviews/plotting/renderer.py\u001b[0m in \u001b[0;36mcomponents\u001b[0;34m(self, obj, fmt, comm, **kwargs)\u001b[0m\n\u001b[1;32m    408\u001b[0m                 \u001b[0mdoc\u001b[0m \u001b[0;34m=\u001b[0m \u001b[0mDocument\u001b[0m\u001b[0;34m(\u001b[0m\u001b[0;34m)\u001b[0m\u001b[0;34m\u001b[0m\u001b[0;34m\u001b[0m\u001b[0m\n\u001b[1;32m    409\u001b[0m                 \u001b[0;32mwith\u001b[0m \u001b[0mconfig\u001b[0m\u001b[0;34m.\u001b[0m\u001b[0mset\u001b[0m\u001b[0;34m(\u001b[0m\u001b[0membed\u001b[0m\u001b[0;34m=\u001b[0m\u001b[0membed\u001b[0m\u001b[0;34m)\u001b[0m\u001b[0;34m:\u001b[0m\u001b[0;34m\u001b[0m\u001b[0;34m\u001b[0m\u001b[0m\n\u001b[0;32m--> 410\u001b[0;31m                     \u001b[0mmodel\u001b[0m \u001b[0;34m=\u001b[0m \u001b[0mplot\u001b[0m\u001b[0;34m.\u001b[0m\u001b[0mlayout\u001b[0m\u001b[0;34m.\u001b[0m\u001b[0m_render_model\u001b[0m\u001b[0;34m(\u001b[0m\u001b[0mdoc\u001b[0m\u001b[0;34m,\u001b[0m \u001b[0mcomm\u001b[0m\u001b[0;34m)\u001b[0m\u001b[0;34m\u001b[0m\u001b[0;34m\u001b[0m\u001b[0m\n\u001b[0m\u001b[1;32m    411\u001b[0m                 \u001b[0;32mif\u001b[0m \u001b[0membed\u001b[0m\u001b[0;34m:\u001b[0m\u001b[0;34m\u001b[0m\u001b[0;34m\u001b[0m\u001b[0m\n\u001b[1;32m    412\u001b[0m                     \u001b[0;32mreturn\u001b[0m \u001b[0mrender_model\u001b[0m\u001b[0;34m(\u001b[0m\u001b[0mmodel\u001b[0m\u001b[0;34m,\u001b[0m \u001b[0mcomm\u001b[0m\u001b[0;34m)\u001b[0m\u001b[0;34m\u001b[0m\u001b[0;34m\u001b[0m\u001b[0m\n",
      "\u001b[0;32m~/opt/anaconda3/lib/python3.8/site-packages/panel/viewable.py\u001b[0m in \u001b[0;36m_render_model\u001b[0;34m(self, doc, comm)\u001b[0m\n\u001b[1;32m    456\u001b[0m \u001b[0;34m\u001b[0m\u001b[0m\n\u001b[1;32m    457\u001b[0m         \u001b[0;32mif\u001b[0m \u001b[0mconfig\u001b[0m\u001b[0;34m.\u001b[0m\u001b[0membed\u001b[0m\u001b[0;34m:\u001b[0m\u001b[0;34m\u001b[0m\u001b[0;34m\u001b[0m\u001b[0m\n\u001b[0;32m--> 458\u001b[0;31m             embed_state(self, model, doc,\n\u001b[0m\u001b[1;32m    459\u001b[0m                         \u001b[0mjson\u001b[0m\u001b[0;34m=\u001b[0m\u001b[0mconfig\u001b[0m\u001b[0;34m.\u001b[0m\u001b[0membed_json\u001b[0m\u001b[0;34m,\u001b[0m\u001b[0;34m\u001b[0m\u001b[0;34m\u001b[0m\u001b[0m\n\u001b[1;32m    460\u001b[0m                         \u001b[0mjson_prefix\u001b[0m\u001b[0;34m=\u001b[0m\u001b[0mconfig\u001b[0m\u001b[0;34m.\u001b[0m\u001b[0membed_json_prefix\u001b[0m\u001b[0;34m,\u001b[0m\u001b[0;34m\u001b[0m\u001b[0;34m\u001b[0m\u001b[0m\n",
      "\u001b[0;32m~/opt/anaconda3/lib/python3.8/site-packages/panel/io/embed.py\u001b[0m in \u001b[0;36membed_state\u001b[0;34m(panel, model, doc, max_states, max_opts, json, json_prefix, save_path, load_path, progress, states)\u001b[0m\n\u001b[1;32m    301\u001b[0m         \u001b[0mvalues\u001b[0m\u001b[0;34m.\u001b[0m\u001b[0mappend\u001b[0m\u001b[0;34m(\u001b[0m\u001b[0;34m(\u001b[0m\u001b[0mws\u001b[0m\u001b[0;34m,\u001b[0m \u001b[0mw_models\u001b[0m\u001b[0;34m,\u001b[0m \u001b[0mvals\u001b[0m\u001b[0;34m,\u001b[0m \u001b[0mgetter\u001b[0m\u001b[0;34m)\u001b[0m\u001b[0;34m)\u001b[0m\u001b[0;34m\u001b[0m\u001b[0;34m\u001b[0m\u001b[0m\n\u001b[1;32m    302\u001b[0m \u001b[0;34m\u001b[0m\u001b[0m\n\u001b[0;32m--> 303\u001b[0;31m     \u001b[0madd_to_doc\u001b[0m\u001b[0;34m(\u001b[0m\u001b[0mmodel\u001b[0m\u001b[0;34m,\u001b[0m \u001b[0mdoc\u001b[0m\u001b[0;34m,\u001b[0m \u001b[0;32mTrue\u001b[0m\u001b[0;34m)\u001b[0m\u001b[0;34m\u001b[0m\u001b[0;34m\u001b[0m\u001b[0m\n\u001b[0m\u001b[1;32m    304\u001b[0m     \u001b[0mdoc\u001b[0m\u001b[0;34m.\u001b[0m\u001b[0m_held_events\u001b[0m \u001b[0;34m=\u001b[0m \u001b[0;34m[\u001b[0m\u001b[0;34m]\u001b[0m\u001b[0;34m\u001b[0m\u001b[0;34m\u001b[0m\u001b[0m\n\u001b[1;32m    305\u001b[0m \u001b[0;34m\u001b[0m\u001b[0m\n",
      "\u001b[0;32m~/opt/anaconda3/lib/python3.8/site-packages/panel/io/model.py\u001b[0m in \u001b[0;36madd_to_doc\u001b[0;34m(obj, doc, hold)\u001b[0m\n\u001b[1;32m     55\u001b[0m     \u001b[0mremove_root\u001b[0m\u001b[0;34m(\u001b[0m\u001b[0mobj\u001b[0m\u001b[0;34m)\u001b[0m\u001b[0;34m\u001b[0m\u001b[0;34m\u001b[0m\u001b[0m\n\u001b[1;32m     56\u001b[0m     \u001b[0mdoc\u001b[0m\u001b[0;34m.\u001b[0m\u001b[0madd_root\u001b[0m\u001b[0;34m(\u001b[0m\u001b[0mobj\u001b[0m\u001b[0;34m)\u001b[0m\u001b[0;34m\u001b[0m\u001b[0;34m\u001b[0m\u001b[0m\n\u001b[0;32m---> 57\u001b[0;31m     \u001b[0;32mif\u001b[0m \u001b[0mdoc\u001b[0m\u001b[0;34m.\u001b[0m\u001b[0m_hold\u001b[0m \u001b[0;32mis\u001b[0m \u001b[0;32mNone\u001b[0m \u001b[0;32mand\u001b[0m \u001b[0mhold\u001b[0m\u001b[0;34m:\u001b[0m\u001b[0;34m\u001b[0m\u001b[0;34m\u001b[0m\u001b[0m\n\u001b[0m\u001b[1;32m     58\u001b[0m         \u001b[0mdoc\u001b[0m\u001b[0;34m.\u001b[0m\u001b[0mhold\u001b[0m\u001b[0;34m(\u001b[0m\u001b[0;34m)\u001b[0m\u001b[0;34m\u001b[0m\u001b[0;34m\u001b[0m\u001b[0m\n\u001b[1;32m     59\u001b[0m \u001b[0;34m\u001b[0m\u001b[0m\n",
      "\u001b[0;31mAttributeError\u001b[0m: 'Document' object has no attribute '_hold'"
     ]
    },
    {
     "data": {
      "text/plain": [
       ":Bars   [neighbourhood]   (average_house_value)"
      ]
     },
     "execution_count": 73,
     "metadata": {},
     "output_type": "execute_result"
    }
   ],
   "source": [
    "# Plotting the data from the top 10 expensive neighbourhoods\n",
    "top_ten_most_expensive_neighbourhoods.hvplot.bar(\n",
    "        x = \"neighbourhood\",\n",
    "        y = \"average_house_value\",\n",
    "        xlabel = \"Neighbourhood\",\n",
    "        ylabel = \"Average house value\",\n",
    "        title = \"Top 10 expensive neighbourhoods\", height = 400, rot = 45).opts(yformatter=\"%.0f\"\n",
    ")"
   ]
  },
  {
   "cell_type": "markdown",
   "metadata": {},
   "source": [
    "- - - "
   ]
  },
  {
   "cell_type": "markdown",
   "metadata": {},
   "source": [
    "## Neighbourhood Map\n",
    "\n",
    "In this section, you will read in neighbourhoods location data and build an interactive map with the average house value per neighbourhood. Use a `scatter_mapbox` from Plotly express to create the visualization. Remember, you will need your Mapbox API key for this."
   ]
  },
  {
   "cell_type": "markdown",
   "metadata": {},
   "source": [
    "### Load Location Data"
   ]
  },
  {
   "cell_type": "code",
   "execution_count": 79,
   "metadata": {},
   "outputs": [
    {
     "data": {
      "text/html": [
       "<div>\n",
       "<style scoped>\n",
       "    .dataframe tbody tr th:only-of-type {\n",
       "        vertical-align: middle;\n",
       "    }\n",
       "\n",
       "    .dataframe tbody tr th {\n",
       "        vertical-align: top;\n",
       "    }\n",
       "\n",
       "    .dataframe thead th {\n",
       "        text-align: right;\n",
       "    }\n",
       "</style>\n",
       "<table border=\"1\" class=\"dataframe\">\n",
       "  <thead>\n",
       "    <tr style=\"text-align: right;\">\n",
       "      <th></th>\n",
       "      <th>lat</th>\n",
       "      <th>lon</th>\n",
       "    </tr>\n",
       "    <tr>\n",
       "      <th>neighbourhood</th>\n",
       "      <th></th>\n",
       "      <th></th>\n",
       "    </tr>\n",
       "  </thead>\n",
       "  <tbody>\n",
       "    <tr>\n",
       "      <th>Agincourt North</th>\n",
       "      <td>43.805441</td>\n",
       "      <td>-79.266712</td>\n",
       "    </tr>\n",
       "    <tr>\n",
       "      <th>Agincourt South-Malvern West</th>\n",
       "      <td>43.788658</td>\n",
       "      <td>-79.265612</td>\n",
       "    </tr>\n",
       "    <tr>\n",
       "      <th>Alderwood</th>\n",
       "      <td>43.604937</td>\n",
       "      <td>-79.541611</td>\n",
       "    </tr>\n",
       "    <tr>\n",
       "      <th>Annex</th>\n",
       "      <td>43.671585</td>\n",
       "      <td>-79.404001</td>\n",
       "    </tr>\n",
       "    <tr>\n",
       "      <th>Banbury-Don Mills</th>\n",
       "      <td>43.737657</td>\n",
       "      <td>-79.349718</td>\n",
       "    </tr>\n",
       "  </tbody>\n",
       "</table>\n",
       "</div>"
      ],
      "text/plain": [
       "                                    lat        lon\n",
       "neighbourhood                                     \n",
       "Agincourt North               43.805441 -79.266712\n",
       "Agincourt South-Malvern West  43.788658 -79.265612\n",
       "Alderwood                     43.604937 -79.541611\n",
       "Annex                         43.671585 -79.404001\n",
       "Banbury-Don Mills             43.737657 -79.349718"
      ]
     },
     "execution_count": 79,
     "metadata": {},
     "output_type": "execute_result"
    }
   ],
   "source": [
    "# Load neighbourhoods coordinates data\n",
    "file_path = Path(\"Data/toronto_neighbourhoods_coordinates.csv\")\n",
    "df_neighbourhood_locations = pd.read_csv(file_path)\n",
    "df_neighbourhood_locations.set_index(\"neighbourhood\", inplace = True)\n",
    "df_neighbourhood_locations.head()"
   ]
  },
  {
   "cell_type": "markdown",
   "metadata": {},
   "source": [
    "### Data Preparation\n",
    "\n",
    "You will need to join the location data with the mean values per neighbourhood.\n",
    "\n",
    "1. Calculate the mean values for each neighbourhood.\n",
    "\n",
    "2. Join the average values with the neighbourhood locations."
   ]
  },
  {
   "cell_type": "code",
   "execution_count": 80,
   "metadata": {},
   "outputs": [
    {
     "data": {
      "text/html": [
       "<div>\n",
       "<style scoped>\n",
       "    .dataframe tbody tr th:only-of-type {\n",
       "        vertical-align: middle;\n",
       "    }\n",
       "\n",
       "    .dataframe tbody tr th {\n",
       "        vertical-align: top;\n",
       "    }\n",
       "\n",
       "    .dataframe thead th {\n",
       "        text-align: right;\n",
       "    }\n",
       "</style>\n",
       "<table border=\"1\" class=\"dataframe\">\n",
       "  <thead>\n",
       "    <tr style=\"text-align: right;\">\n",
       "      <th></th>\n",
       "      <th>single_detached_house</th>\n",
       "      <th>apartment_five_storeys_plus</th>\n",
       "      <th>movable_dwelling</th>\n",
       "      <th>semi_detached_house</th>\n",
       "      <th>row_house</th>\n",
       "      <th>duplex</th>\n",
       "      <th>apartment_five_storeys_less</th>\n",
       "      <th>other_house</th>\n",
       "      <th>average_house_value</th>\n",
       "      <th>shelter_costs_owned</th>\n",
       "      <th>shelter_costs_rented</th>\n",
       "    </tr>\n",
       "    <tr>\n",
       "      <th>neighbourhood</th>\n",
       "      <th></th>\n",
       "      <th></th>\n",
       "      <th></th>\n",
       "      <th></th>\n",
       "      <th></th>\n",
       "      <th></th>\n",
       "      <th></th>\n",
       "      <th></th>\n",
       "      <th></th>\n",
       "      <th></th>\n",
       "      <th></th>\n",
       "    </tr>\n",
       "  </thead>\n",
       "  <tbody>\n",
       "    <tr>\n",
       "      <th>Agincourt North</th>\n",
       "      <td>3435.00</td>\n",
       "      <td>1947.50</td>\n",
       "      <td>2.50</td>\n",
       "      <td>863.75</td>\n",
       "      <td>1406.25</td>\n",
       "      <td>512.50</td>\n",
       "      <td>547.50</td>\n",
       "      <td>10.00</td>\n",
       "      <td>329811.5</td>\n",
       "      <td>1109.00</td>\n",
       "      <td>983.50</td>\n",
       "    </tr>\n",
       "    <tr>\n",
       "      <th>Agincourt South-Malvern West</th>\n",
       "      <td>2897.50</td>\n",
       "      <td>2180.00</td>\n",
       "      <td>1.25</td>\n",
       "      <td>375.00</td>\n",
       "      <td>456.25</td>\n",
       "      <td>523.75</td>\n",
       "      <td>628.75</td>\n",
       "      <td>32.50</td>\n",
       "      <td>334189.0</td>\n",
       "      <td>1131.25</td>\n",
       "      <td>985.00</td>\n",
       "    </tr>\n",
       "    <tr>\n",
       "      <th>Alderwood</th>\n",
       "      <td>2903.75</td>\n",
       "      <td>302.50</td>\n",
       "      <td>1.25</td>\n",
       "      <td>503.75</td>\n",
       "      <td>76.25</td>\n",
       "      <td>302.50</td>\n",
       "      <td>502.50</td>\n",
       "      <td>1.25</td>\n",
       "      <td>427922.5</td>\n",
       "      <td>1166.75</td>\n",
       "      <td>1003.25</td>\n",
       "    </tr>\n",
       "    <tr>\n",
       "      <th>Annex</th>\n",
       "      <td>751.25</td>\n",
       "      <td>7235.00</td>\n",
       "      <td>1.25</td>\n",
       "      <td>1375.00</td>\n",
       "      <td>613.75</td>\n",
       "      <td>355.00</td>\n",
       "      <td>4605.00</td>\n",
       "      <td>83.75</td>\n",
       "      <td>746977.0</td>\n",
       "      <td>1692.75</td>\n",
       "      <td>1315.25</td>\n",
       "    </tr>\n",
       "    <tr>\n",
       "      <th>Banbury-Don Mills</th>\n",
       "      <td>3572.50</td>\n",
       "      <td>5388.75</td>\n",
       "      <td>1.25</td>\n",
       "      <td>273.75</td>\n",
       "      <td>626.25</td>\n",
       "      <td>32.50</td>\n",
       "      <td>1340.00</td>\n",
       "      <td>0.00</td>\n",
       "      <td>612039.0</td>\n",
       "      <td>1463.50</td>\n",
       "      <td>1242.75</td>\n",
       "    </tr>\n",
       "  </tbody>\n",
       "</table>\n",
       "</div>"
      ],
      "text/plain": [
       "                              single_detached_house  \\\n",
       "neighbourhood                                         \n",
       "Agincourt North                             3435.00   \n",
       "Agincourt South-Malvern West                2897.50   \n",
       "Alderwood                                   2903.75   \n",
       "Annex                                        751.25   \n",
       "Banbury-Don Mills                           3572.50   \n",
       "\n",
       "                              apartment_five_storeys_plus  movable_dwelling  \\\n",
       "neighbourhood                                                                 \n",
       "Agincourt North                                   1947.50              2.50   \n",
       "Agincourt South-Malvern West                      2180.00              1.25   \n",
       "Alderwood                                          302.50              1.25   \n",
       "Annex                                             7235.00              1.25   \n",
       "Banbury-Don Mills                                 5388.75              1.25   \n",
       "\n",
       "                              semi_detached_house  row_house  duplex  \\\n",
       "neighbourhood                                                          \n",
       "Agincourt North                            863.75    1406.25  512.50   \n",
       "Agincourt South-Malvern West               375.00     456.25  523.75   \n",
       "Alderwood                                  503.75      76.25  302.50   \n",
       "Annex                                     1375.00     613.75  355.00   \n",
       "Banbury-Don Mills                          273.75     626.25   32.50   \n",
       "\n",
       "                              apartment_five_storeys_less  other_house  \\\n",
       "neighbourhood                                                            \n",
       "Agincourt North                                    547.50        10.00   \n",
       "Agincourt South-Malvern West                       628.75        32.50   \n",
       "Alderwood                                          502.50         1.25   \n",
       "Annex                                             4605.00        83.75   \n",
       "Banbury-Don Mills                                 1340.00         0.00   \n",
       "\n",
       "                              average_house_value  shelter_costs_owned  \\\n",
       "neighbourhood                                                            \n",
       "Agincourt North                          329811.5              1109.00   \n",
       "Agincourt South-Malvern West             334189.0              1131.25   \n",
       "Alderwood                                427922.5              1166.75   \n",
       "Annex                                    746977.0              1692.75   \n",
       "Banbury-Don Mills                        612039.0              1463.50   \n",
       "\n",
       "                              shelter_costs_rented  \n",
       "neighbourhood                                       \n",
       "Agincourt North                             983.50  \n",
       "Agincourt South-Malvern West                985.00  \n",
       "Alderwood                                  1003.25  \n",
       "Annex                                      1315.25  \n",
       "Banbury-Don Mills                          1242.75  "
      ]
     },
     "execution_count": 80,
     "metadata": {},
     "output_type": "execute_result"
    }
   ],
   "source": [
    "# Calculate the mean values for each neighborhood\n",
    "mean_value_neighbourhood = to_data.groupby(\"neighbourhood\").mean()\n",
    "\n",
    "mean_value_neighbourhood.head()"
   ]
  },
  {
   "cell_type": "code",
   "execution_count": 81,
   "metadata": {},
   "outputs": [
    {
     "data": {
      "text/html": [
       "<div>\n",
       "<style scoped>\n",
       "    .dataframe tbody tr th:only-of-type {\n",
       "        vertical-align: middle;\n",
       "    }\n",
       "\n",
       "    .dataframe tbody tr th {\n",
       "        vertical-align: top;\n",
       "    }\n",
       "\n",
       "    .dataframe thead th {\n",
       "        text-align: right;\n",
       "    }\n",
       "</style>\n",
       "<table border=\"1\" class=\"dataframe\">\n",
       "  <thead>\n",
       "    <tr style=\"text-align: right;\">\n",
       "      <th></th>\n",
       "      <th>neighbourhood</th>\n",
       "      <th>lat</th>\n",
       "      <th>lon</th>\n",
       "      <th>single_detached_house</th>\n",
       "      <th>apartment_five_storeys_plus</th>\n",
       "      <th>movable_dwelling</th>\n",
       "      <th>semi_detached_house</th>\n",
       "      <th>row_house</th>\n",
       "      <th>duplex</th>\n",
       "      <th>apartment_five_storeys_less</th>\n",
       "      <th>other_house</th>\n",
       "      <th>average_house_value</th>\n",
       "      <th>shelter_costs_owned</th>\n",
       "      <th>shelter_costs_rented</th>\n",
       "    </tr>\n",
       "  </thead>\n",
       "  <tbody>\n",
       "    <tr>\n",
       "      <th>0</th>\n",
       "      <td>Agincourt North</td>\n",
       "      <td>43.805441</td>\n",
       "      <td>-79.266712</td>\n",
       "      <td>3435.00</td>\n",
       "      <td>1947.50</td>\n",
       "      <td>2.50</td>\n",
       "      <td>863.75</td>\n",
       "      <td>1406.25</td>\n",
       "      <td>512.50</td>\n",
       "      <td>547.50</td>\n",
       "      <td>10.00</td>\n",
       "      <td>329811.5</td>\n",
       "      <td>1109.00</td>\n",
       "      <td>983.50</td>\n",
       "    </tr>\n",
       "    <tr>\n",
       "      <th>1</th>\n",
       "      <td>Agincourt South-Malvern West</td>\n",
       "      <td>43.788658</td>\n",
       "      <td>-79.265612</td>\n",
       "      <td>2897.50</td>\n",
       "      <td>2180.00</td>\n",
       "      <td>1.25</td>\n",
       "      <td>375.00</td>\n",
       "      <td>456.25</td>\n",
       "      <td>523.75</td>\n",
       "      <td>628.75</td>\n",
       "      <td>32.50</td>\n",
       "      <td>334189.0</td>\n",
       "      <td>1131.25</td>\n",
       "      <td>985.00</td>\n",
       "    </tr>\n",
       "    <tr>\n",
       "      <th>2</th>\n",
       "      <td>Alderwood</td>\n",
       "      <td>43.604937</td>\n",
       "      <td>-79.541611</td>\n",
       "      <td>2903.75</td>\n",
       "      <td>302.50</td>\n",
       "      <td>1.25</td>\n",
       "      <td>503.75</td>\n",
       "      <td>76.25</td>\n",
       "      <td>302.50</td>\n",
       "      <td>502.50</td>\n",
       "      <td>1.25</td>\n",
       "      <td>427922.5</td>\n",
       "      <td>1166.75</td>\n",
       "      <td>1003.25</td>\n",
       "    </tr>\n",
       "    <tr>\n",
       "      <th>3</th>\n",
       "      <td>Annex</td>\n",
       "      <td>43.671585</td>\n",
       "      <td>-79.404001</td>\n",
       "      <td>751.25</td>\n",
       "      <td>7235.00</td>\n",
       "      <td>1.25</td>\n",
       "      <td>1375.00</td>\n",
       "      <td>613.75</td>\n",
       "      <td>355.00</td>\n",
       "      <td>4605.00</td>\n",
       "      <td>83.75</td>\n",
       "      <td>746977.0</td>\n",
       "      <td>1692.75</td>\n",
       "      <td>1315.25</td>\n",
       "    </tr>\n",
       "    <tr>\n",
       "      <th>4</th>\n",
       "      <td>Banbury-Don Mills</td>\n",
       "      <td>43.737657</td>\n",
       "      <td>-79.349718</td>\n",
       "      <td>3572.50</td>\n",
       "      <td>5388.75</td>\n",
       "      <td>1.25</td>\n",
       "      <td>273.75</td>\n",
       "      <td>626.25</td>\n",
       "      <td>32.50</td>\n",
       "      <td>1340.00</td>\n",
       "      <td>0.00</td>\n",
       "      <td>612039.0</td>\n",
       "      <td>1463.50</td>\n",
       "      <td>1242.75</td>\n",
       "    </tr>\n",
       "  </tbody>\n",
       "</table>\n",
       "</div>"
      ],
      "text/plain": [
       "                  neighbourhood        lat        lon  single_detached_house  \\\n",
       "0               Agincourt North  43.805441 -79.266712                3435.00   \n",
       "1  Agincourt South-Malvern West  43.788658 -79.265612                2897.50   \n",
       "2                     Alderwood  43.604937 -79.541611                2903.75   \n",
       "3                         Annex  43.671585 -79.404001                 751.25   \n",
       "4             Banbury-Don Mills  43.737657 -79.349718                3572.50   \n",
       "\n",
       "   apartment_five_storeys_plus  movable_dwelling  semi_detached_house  \\\n",
       "0                      1947.50              2.50               863.75   \n",
       "1                      2180.00              1.25               375.00   \n",
       "2                       302.50              1.25               503.75   \n",
       "3                      7235.00              1.25              1375.00   \n",
       "4                      5388.75              1.25               273.75   \n",
       "\n",
       "   row_house  duplex  apartment_five_storeys_less  other_house  \\\n",
       "0    1406.25  512.50                       547.50        10.00   \n",
       "1     456.25  523.75                       628.75        32.50   \n",
       "2      76.25  302.50                       502.50         1.25   \n",
       "3     613.75  355.00                      4605.00        83.75   \n",
       "4     626.25   32.50                      1340.00         0.00   \n",
       "\n",
       "   average_house_value  shelter_costs_owned  shelter_costs_rented  \n",
       "0             329811.5              1109.00                983.50  \n",
       "1             334189.0              1131.25                985.00  \n",
       "2             427922.5              1166.75               1003.25  \n",
       "3             746977.0              1692.75               1315.25  \n",
       "4             612039.0              1463.50               1242.75  "
      ]
     },
     "execution_count": 81,
     "metadata": {},
     "output_type": "execute_result"
    }
   ],
   "source": [
    "# Join the average values with the neighbourhood locations\n",
    "mean_value_location = pd.concat([df_neighbourhood_locations, mean_value_neighbourhood], axis=\"columns\", join=\"inner\").reset_index()\n",
    "\n",
    "mean_value_location.head()"
   ]
  },
  {
   "cell_type": "markdown",
   "metadata": {},
   "source": [
    "### Mapbox Visualization\n",
    "\n",
    "Plot the average values per neighbourhood using a Plotly express `scatter_mapbox` visualization."
   ]
  },
  {
   "cell_type": "code",
   "execution_count": 82,
   "metadata": {},
   "outputs": [
    {
     "ename": "ValueError",
     "evalue": "Value of 'color' is not the name of a column in 'data_frame'. Expected one of ['neighbourhood', 'lat', 'lon', 'single_detached_house', 'apartment_five_storeys_plus', 'movable_dwelling', 'semi_detached_house', 'row_house', 'duplex', 'apartment_five_storeys_less', 'other_house', 'average_house_value', 'shelter_costs_owned', 'shelter_costs_rented'] but received: year",
     "output_type": "error",
     "traceback": [
      "\u001b[0;31m---------------------------------------------------------------------------\u001b[0m",
      "\u001b[0;31mValueError\u001b[0m                                Traceback (most recent call last)",
      "\u001b[0;32m/var/folders/20/s3yk__8914vcg7gslpl_ynvw0000gn/T/ipykernel_53266/394766585.py\u001b[0m in \u001b[0;36m<module>\u001b[0;34m\u001b[0m\n\u001b[1;32m      1\u001b[0m \u001b[0;31m# Create a scatter mapbox to analyze neighbourhood info\u001b[0m\u001b[0;34m\u001b[0m\u001b[0;34m\u001b[0m\u001b[0;34m\u001b[0m\u001b[0m\n\u001b[0;32m----> 2\u001b[0;31m px.scatter_mapbox(\n\u001b[0m\u001b[1;32m      3\u001b[0m     \u001b[0mmean_value_location\u001b[0m\u001b[0;34m,\u001b[0m\u001b[0;34m\u001b[0m\u001b[0;34m\u001b[0m\u001b[0m\n\u001b[1;32m      4\u001b[0m     \u001b[0mlat\u001b[0m\u001b[0;34m=\u001b[0m\u001b[0;34m\"lat\"\u001b[0m\u001b[0;34m,\u001b[0m\u001b[0;34m\u001b[0m\u001b[0;34m\u001b[0m\u001b[0m\n\u001b[1;32m      5\u001b[0m     \u001b[0mlon\u001b[0m\u001b[0;34m=\u001b[0m\u001b[0;34m\"lon\"\u001b[0m\u001b[0;34m,\u001b[0m\u001b[0;34m\u001b[0m\u001b[0;34m\u001b[0m\u001b[0m\n",
      "\u001b[0;32m~/opt/anaconda3/lib/python3.8/site-packages/plotly/express/_chart_types.py\u001b[0m in \u001b[0;36mscatter_mapbox\u001b[0;34m(data_frame, lat, lon, color, text, hover_name, hover_data, custom_data, size, animation_frame, animation_group, category_orders, labels, color_discrete_sequence, color_discrete_map, color_continuous_scale, range_color, color_continuous_midpoint, opacity, size_max, zoom, center, mapbox_style, title, template, width, height)\u001b[0m\n\u001b[1;32m   1133\u001b[0m     \u001b[0msymbol\u001b[0m \u001b[0mmark\u001b[0m \u001b[0mon\u001b[0m \u001b[0ma\u001b[0m \u001b[0mMapbox\u001b[0m \u001b[0mmap\u001b[0m\u001b[0;34m.\u001b[0m\u001b[0;34m\u001b[0m\u001b[0;34m\u001b[0m\u001b[0m\n\u001b[1;32m   1134\u001b[0m     \"\"\"\n\u001b[0;32m-> 1135\u001b[0;31m     \u001b[0;32mreturn\u001b[0m \u001b[0mmake_figure\u001b[0m\u001b[0;34m(\u001b[0m\u001b[0margs\u001b[0m\u001b[0;34m=\u001b[0m\u001b[0mlocals\u001b[0m\u001b[0;34m(\u001b[0m\u001b[0;34m)\u001b[0m\u001b[0;34m,\u001b[0m \u001b[0mconstructor\u001b[0m\u001b[0;34m=\u001b[0m\u001b[0mgo\u001b[0m\u001b[0;34m.\u001b[0m\u001b[0mScattermapbox\u001b[0m\u001b[0;34m)\u001b[0m\u001b[0;34m\u001b[0m\u001b[0;34m\u001b[0m\u001b[0m\n\u001b[0m\u001b[1;32m   1136\u001b[0m \u001b[0;34m\u001b[0m\u001b[0m\n\u001b[1;32m   1137\u001b[0m \u001b[0;34m\u001b[0m\u001b[0m\n",
      "\u001b[0;32m~/opt/anaconda3/lib/python3.8/site-packages/plotly/express/_core.py\u001b[0m in \u001b[0;36mmake_figure\u001b[0;34m(args, constructor, trace_patch, layout_patch)\u001b[0m\n\u001b[1;32m   1877\u001b[0m     \u001b[0mapply_default_cascade\u001b[0m\u001b[0;34m(\u001b[0m\u001b[0margs\u001b[0m\u001b[0;34m)\u001b[0m\u001b[0;34m\u001b[0m\u001b[0;34m\u001b[0m\u001b[0m\n\u001b[1;32m   1878\u001b[0m \u001b[0;34m\u001b[0m\u001b[0m\n\u001b[0;32m-> 1879\u001b[0;31m     \u001b[0margs\u001b[0m \u001b[0;34m=\u001b[0m \u001b[0mbuild_dataframe\u001b[0m\u001b[0;34m(\u001b[0m\u001b[0margs\u001b[0m\u001b[0;34m,\u001b[0m \u001b[0mconstructor\u001b[0m\u001b[0;34m)\u001b[0m\u001b[0;34m\u001b[0m\u001b[0;34m\u001b[0m\u001b[0m\n\u001b[0m\u001b[1;32m   1880\u001b[0m     \u001b[0;32mif\u001b[0m \u001b[0mconstructor\u001b[0m \u001b[0;32min\u001b[0m \u001b[0;34m[\u001b[0m\u001b[0mgo\u001b[0m\u001b[0;34m.\u001b[0m\u001b[0mTreemap\u001b[0m\u001b[0;34m,\u001b[0m \u001b[0mgo\u001b[0m\u001b[0;34m.\u001b[0m\u001b[0mSunburst\u001b[0m\u001b[0;34m,\u001b[0m \u001b[0mgo\u001b[0m\u001b[0;34m.\u001b[0m\u001b[0mIcicle\u001b[0m\u001b[0;34m]\u001b[0m \u001b[0;32mand\u001b[0m \u001b[0margs\u001b[0m\u001b[0;34m[\u001b[0m\u001b[0;34m\"path\"\u001b[0m\u001b[0;34m]\u001b[0m \u001b[0;32mis\u001b[0m \u001b[0;32mnot\u001b[0m \u001b[0;32mNone\u001b[0m\u001b[0;34m:\u001b[0m\u001b[0;34m\u001b[0m\u001b[0;34m\u001b[0m\u001b[0m\n\u001b[1;32m   1881\u001b[0m         \u001b[0margs\u001b[0m \u001b[0;34m=\u001b[0m \u001b[0mprocess_dataframe_hierarchy\u001b[0m\u001b[0;34m(\u001b[0m\u001b[0margs\u001b[0m\u001b[0;34m)\u001b[0m\u001b[0;34m\u001b[0m\u001b[0;34m\u001b[0m\u001b[0m\n",
      "\u001b[0;32m~/opt/anaconda3/lib/python3.8/site-packages/plotly/express/_core.py\u001b[0m in \u001b[0;36mbuild_dataframe\u001b[0;34m(args, constructor)\u001b[0m\n\u001b[1;32m   1397\u001b[0m     \u001b[0;31m# now that things have been prepped, we do the systematic rewriting of `args`\u001b[0m\u001b[0;34m\u001b[0m\u001b[0;34m\u001b[0m\u001b[0;34m\u001b[0m\u001b[0m\n\u001b[1;32m   1398\u001b[0m \u001b[0;34m\u001b[0m\u001b[0m\n\u001b[0;32m-> 1399\u001b[0;31m     df_output, wide_id_vars = process_args_into_dataframe(\n\u001b[0m\u001b[1;32m   1400\u001b[0m         \u001b[0margs\u001b[0m\u001b[0;34m,\u001b[0m \u001b[0mwide_mode\u001b[0m\u001b[0;34m,\u001b[0m \u001b[0mvar_name\u001b[0m\u001b[0;34m,\u001b[0m \u001b[0mvalue_name\u001b[0m\u001b[0;34m\u001b[0m\u001b[0;34m\u001b[0m\u001b[0m\n\u001b[1;32m   1401\u001b[0m     )\n",
      "\u001b[0;32m~/opt/anaconda3/lib/python3.8/site-packages/plotly/express/_core.py\u001b[0m in \u001b[0;36mprocess_args_into_dataframe\u001b[0;34m(args, wide_mode, var_name, value_name)\u001b[0m\n\u001b[1;32m   1203\u001b[0m                         \u001b[0;32mif\u001b[0m \u001b[0margument\u001b[0m \u001b[0;34m==\u001b[0m \u001b[0;34m\"index\"\u001b[0m\u001b[0;34m:\u001b[0m\u001b[0;34m\u001b[0m\u001b[0;34m\u001b[0m\u001b[0m\n\u001b[1;32m   1204\u001b[0m                             \u001b[0merr_msg\u001b[0m \u001b[0;34m+=\u001b[0m \u001b[0;34m\"\\n To use the index, pass it in directly as `df.index`.\"\u001b[0m\u001b[0;34m\u001b[0m\u001b[0;34m\u001b[0m\u001b[0m\n\u001b[0;32m-> 1205\u001b[0;31m                         \u001b[0;32mraise\u001b[0m \u001b[0mValueError\u001b[0m\u001b[0;34m(\u001b[0m\u001b[0merr_msg\u001b[0m\u001b[0;34m)\u001b[0m\u001b[0;34m\u001b[0m\u001b[0;34m\u001b[0m\u001b[0m\n\u001b[0m\u001b[1;32m   1206\u001b[0m                 \u001b[0;32melif\u001b[0m \u001b[0mlength\u001b[0m \u001b[0;32mand\u001b[0m \u001b[0mlen\u001b[0m\u001b[0;34m(\u001b[0m\u001b[0mdf_input\u001b[0m\u001b[0;34m[\u001b[0m\u001b[0margument\u001b[0m\u001b[0;34m]\u001b[0m\u001b[0;34m)\u001b[0m \u001b[0;34m!=\u001b[0m \u001b[0mlength\u001b[0m\u001b[0;34m:\u001b[0m\u001b[0;34m\u001b[0m\u001b[0;34m\u001b[0m\u001b[0m\n\u001b[1;32m   1207\u001b[0m                     raise ValueError(\n",
      "\u001b[0;31mValueError\u001b[0m: Value of 'color' is not the name of a column in 'data_frame'. Expected one of ['neighbourhood', 'lat', 'lon', 'single_detached_house', 'apartment_five_storeys_plus', 'movable_dwelling', 'semi_detached_house', 'row_house', 'duplex', 'apartment_five_storeys_less', 'other_house', 'average_house_value', 'shelter_costs_owned', 'shelter_costs_rented'] but received: year"
     ]
    }
   ],
   "source": [
    "# Create a scatter mapbox to analyze neighbourhood info\n",
    "px.scatter_mapbox(\n",
    "    mean_value_location,\n",
    "    lat=\"lat\",\n",
    "    lon=\"lon\",\n",
    "    size=\"average_house_value\",\n",
    "    color=\"year\",\n",
    "    title=\"Average house value for each neighbourhood\"\n",
    ")"
   ]
  },
  {
   "cell_type": "markdown",
   "metadata": {},
   "source": [
    "- - -"
   ]
  },
  {
   "cell_type": "markdown",
   "metadata": {},
   "source": [
    "## Cost Analysis - Optional Challenge\n",
    "\n",
    "In this section, you will use Plotly express to a couple of plots that investors can interactively filter and explore various factors related to the house value of the Toronto's neighbourhoods. \n",
    "\n",
    "### Create a bar chart row facet to plot the average house values for all Toronto's neighbourhoods per year"
   ]
  },
  {
   "cell_type": "code",
   "execution_count": 23,
   "metadata": {},
   "outputs": [
    {
     "data": {
      "application/vnd.plotly.v1+json": {
       "config": {
        "plotlyServerURL": "https://plotly.com"
       },
       "data": [
        {
         "alignmentgroup": "True",
         "hovertemplate": "year=2001<br>Neighbourhoods=%{x}<br>Avg. House Value=%{marker.color}<extra></extra>",
         "legendgroup": "",
         "marker": {
          "color": [
           200388,
           203047,
           259998,
           453850,
           371864,
           304749,
           257404,
           327644,
           343535,
           565304,
           225369,
           182957,
           265705,
           158483,
           310740,
           222086,
           927466,
           269386,
           213227,
           300213,
           219771,
           596077,
           249025,
           246750,
           215421,
           335119,
           253618,
           255142,
           283706,
           256205,
           241824,
           159187,
           264116,
           231741,
           278023,
           290457,
           483734,
           163419,
           163039,
           345676,
           241685,
           187993,
           126255,
           517466,
           726664,
           199043,
           235168,
           224425,
           224780,
           323536,
           354207,
           260555,
           240009,
           272896,
           213919,
           194295,
           423537,
           174793,
           274436,
           263247,
           196112,
           174518,
           267631,
           205572,
           512334,
           395115,
           204523,
           372579,
           461393,
           664712,
           489998,
           328211,
           234424,
           156076,
           275374,
           269751,
           209609,
           239078,
           173169,
           248778,
           159374,
           153829,
           411558,
           284459,
           247779,
           339987,
           279833,
           224801,
           427169,
           249993,
           181251,
           256556,
           268067,
           269410,
           378033,
           276239,
           246333,
           394235,
           226856,
           465254,
           238524,
           219337,
           210017,
           309221,
           664476,
           228625,
           335435,
           261923,
           200402,
           271880,
           276462,
           607040,
           228460,
           334433,
           215039,
           145464,
           404836,
           228368,
           155094,
           324732,
           375678,
           213950,
           228975,
           172947,
           208555,
           212241,
           187140,
           213749,
           211633,
           284984,
           283215,
           282087,
           181367,
           270607,
           224756,
           343877,
           491987,
           494098,
           185859,
           261784
          ],
          "coloraxis": "coloraxis"
         },
         "name": "",
         "offsetgroup": "",
         "orientation": "v",
         "showlegend": false,
         "textposition": "auto",
         "type": "bar",
         "x": [
          "Agincourt North",
          "Agincourt South-Malvern West",
          "Alderwood",
          "Annex",
          "Banbury-Don Mills",
          "Bathurst Manor",
          "Bay Street Corridor",
          "Bayview Village",
          "Bayview Woods-Steeles",
          "Bedford Park-Nortown",
          "Beechborough-Greenbrook",
          "Bendale",
          "Birchcliffe-Cliffside",
          "Black Creek",
          "Blake-Jones",
          "Briar Hill-Belgravia",
          "Bridle Path-Sunnybrook-York Mills",
          "Broadview North",
          "Brookhaven-Amesbury",
          "Cabbagetown-South St.James Town",
          "Caledonia-Fairbank",
          "Casa Loma",
          "Centennial Scarborough",
          "Church-Yonge Corridor",
          "Clairlea-Birchmount",
          "Clanton Park",
          "Cliffcrest",
          "Corso Italia-Davenport",
          "Danforth",
          "Danforth-East York",
          "Don Valley Village",
          "Dorset Park",
          "Dovercourt-Wallace Emerson-Juncti",
          "Downsview-Roding-CFB",
          "Dufferin Grove",
          "East End-Danforth",
          "Edenbridge-Humber Valley",
          "Eglinton East",
          "Elms-Old Rexdale",
          "Englemount-Lawrence",
          "Eringate-Centennial-West Deane",
          "Etobicoke West Mall",
          "Flemingdon Park",
          "Forest Hill North",
          "Forest Hill South",
          "Glenfield-Jane Heights",
          "Greenwood-Coxwell",
          "Guildwood",
          "Henry Farm",
          "High Park North",
          "High Park-Swansea",
          "Highland Creek",
          "Hillcrest Village",
          "Humber Heights-Westmount",
          "Humber Summit",
          "Humbermede",
          "Humewood-Cedarvale",
          "Ionview",
          "Islington-City Centre West",
          "Junction Area",
          "Keelesdale-Eglinton West",
          "Kennedy Park",
          "Kensington-Chinatown",
          "Kingsview Village-The Westway",
          "Kingsway South",
          "L'Amoreaux",
          "Lambton Baby Point",
          "Lansing-Westgate",
          "Lawrence Park North",
          "Lawrence Park South",
          "Leaside-Bennington",
          "Little Portugal",
          "Long Branch",
          "Malvern",
          "Maple Leaf",
          "Markland Wood",
          "Milliken",
          "Mimico",
          "Morningside",
          "Moss Park",
          "Mount Dennis",
          "Mount Olive-Silverstone-Jamestown",
          "Mount Pleasant East",
          "Mount Pleasant West",
          "New Toronto",
          "Newtonbrook East",
          "Newtonbrook West",
          "Niagara",
          "North Riverdale",
          "North St.James Town",
          "O'Connor-Parkview",
          "Oakridge",
          "Oakwood Village",
          "Old East York",
          "Palmerston-Little Italy",
          "Parkwoods-Donalda",
          "Pelmo Park-Humberlea",
          "Playter Estates-Danforth",
          "Pleasant View",
          "Princess-Rosethorn",
          "Regent Park",
          "Rexdale-Kipling",
          "Rockcliffe-Smythe",
          "Roncesvalles",
          "Rosedale-Moore Park",
          "Rouge",
          "Runnymede-Bloor West Village",
          "Rustic",
          "Scarborough Village",
          "South Parkdale",
          "South Riverdale",
          "St.Andrew-Windfields",
          "Steeles",
          "Stonegate-Queensway",
          "Tam O'Shanter-Sullivan",
          "Taylor-Massey",
          "The Beaches",
          "Thistletown-Beaumond Heights",
          "Thorncliffe Park",
          "Trinity-Bellwoods",
          "University",
          "Victoria Village",
          "Waterfront Communities-The Island",
          "West Hill",
          "West Humber-Clairville",
          "Westminster-Branson",
          "Weston",
          "Weston-Pellam Park",
          "Wexford/Maryvale",
          "Willowdale East",
          "Willowdale West",
          "Willowridge-Martingrove-Richview",
          "Woburn",
          "Woodbine Corridor",
          "Woodbine-Lumsden",
          "Wychwood",
          "Yonge-Eglinton",
          "Yonge-St.Clair",
          "York University Heights",
          "Yorkdale-Glen Park"
         ],
         "xaxis": "x4",
         "y": [
          200388,
          203047,
          259998,
          453850,
          371864,
          304749,
          257404,
          327644,
          343535,
          565304,
          225369,
          182957,
          265705,
          158483,
          310740,
          222086,
          927466,
          269386,
          213227,
          300213,
          219771,
          596077,
          249025,
          246750,
          215421,
          335119,
          253618,
          255142,
          283706,
          256205,
          241824,
          159187,
          264116,
          231741,
          278023,
          290457,
          483734,
          163419,
          163039,
          345676,
          241685,
          187993,
          126255,
          517466,
          726664,
          199043,
          235168,
          224425,
          224780,
          323536,
          354207,
          260555,
          240009,
          272896,
          213919,
          194295,
          423537,
          174793,
          274436,
          263247,
          196112,
          174518,
          267631,
          205572,
          512334,
          395115,
          204523,
          372579,
          461393,
          664712,
          489998,
          328211,
          234424,
          156076,
          275374,
          269751,
          209609,
          239078,
          173169,
          248778,
          159374,
          153829,
          411558,
          284459,
          247779,
          339987,
          279833,
          224801,
          427169,
          249993,
          181251,
          256556,
          268067,
          269410,
          378033,
          276239,
          246333,
          394235,
          226856,
          465254,
          238524,
          219337,
          210017,
          309221,
          664476,
          228625,
          335435,
          261923,
          200402,
          271880,
          276462,
          607040,
          228460,
          334433,
          215039,
          145464,
          404836,
          228368,
          155094,
          324732,
          375678,
          213950,
          228975,
          172947,
          208555,
          212241,
          187140,
          213749,
          211633,
          284984,
          283215,
          282087,
          181367,
          270607,
          224756,
          343877,
          491987,
          494098,
          185859,
          261784
         ],
         "yaxis": "y4"
        },
        {
         "alignmentgroup": "True",
         "hovertemplate": "year=2006<br>Neighbourhoods=%{x}<br>Avg. House Value=%{marker.color}<extra></extra>",
         "legendgroup": "",
         "marker": {
          "color": [
           293140,
           297031,
           380342,
           663921,
           543987,
           445807,
           376548,
           479299,
           502546,
           826963,
           329685,
           267642,
           388690,
           231839,
           454571,
           324882,
           1356757,
           394075,
           311922,
           439171,
           321496,
           871981,
           364291,
           360962,
           315133,
           490234,
           371009,
           373239,
           415024,
           374793,
           353756,
           232869,
           386366,
           339006,
           406710,
           424900,
           707638,
           239060,
           238505,
           505677,
           353553,
           275009,
           184694,
           756983,
           1063011,
           291172,
           344019,
           328303,
           328823,
           473289,
           518157,
           381156,
           351101,
           399210,
           312935,
           284227,
           619577,
           255698,
           401463,
           385094,
           286886,
           255296,
           391509,
           300725,
           749476,
           578001,
           299190,
           545034,
           674957,
           972384,
           716801,
           480129,
           342930,
           228318,
           402835,
           394610,
           306629,
           349739,
           253323,
           363929,
           233143,
           225031,
           602054,
           416125,
           362468,
           497355,
           409358,
           328854,
           624890,
           365706,
           265146,
           375307,
           392146,
           394111,
           553011,
           404100,
           360352,
           576713,
           331860,
           680604,
           348928,
           320860,
           307227,
           452349,
           972039,
           334448,
           490697,
           383158,
           293162,
           397724,
           404427,
           888017,
           334206,
           489230,
           314574,
           212794,
           592220,
           334072,
           226882,
           475039,
           549567,
           312980,
           334960,
           252998,
           305088,
           310480,
           273761,
           312685,
           309590,
           416893,
           414306,
           412655,
           265315,
           395861,
           328788,
           503046,
           719711,
           722799,
           271887,
           382954
          ],
          "coloraxis": "coloraxis"
         },
         "name": "",
         "offsetgroup": "",
         "orientation": "v",
         "showlegend": false,
         "textposition": "auto",
         "type": "bar",
         "x": [
          "Agincourt North",
          "Agincourt South-Malvern West",
          "Alderwood",
          "Annex",
          "Banbury-Don Mills",
          "Bathurst Manor",
          "Bay Street Corridor",
          "Bayview Village",
          "Bayview Woods-Steeles",
          "Bedford Park-Nortown",
          "Beechborough-Greenbrook",
          "Bendale",
          "Birchcliffe-Cliffside",
          "Black Creek",
          "Blake-Jones",
          "Briar Hill-Belgravia",
          "Bridle Path-Sunnybrook-York Mills",
          "Broadview North",
          "Brookhaven-Amesbury",
          "Cabbagetown-South St.James Town",
          "Caledonia-Fairbank",
          "Casa Loma",
          "Centennial Scarborough",
          "Church-Yonge Corridor",
          "Clairlea-Birchmount",
          "Clanton Park",
          "Cliffcrest",
          "Corso Italia-Davenport",
          "Danforth",
          "Danforth-East York",
          "Don Valley Village",
          "Dorset Park",
          "Dovercourt-Wallace Emerson-Juncti",
          "Downsview-Roding-CFB",
          "Dufferin Grove",
          "East End-Danforth",
          "Edenbridge-Humber Valley",
          "Eglinton East",
          "Elms-Old Rexdale",
          "Englemount-Lawrence",
          "Eringate-Centennial-West Deane",
          "Etobicoke West Mall",
          "Flemingdon Park",
          "Forest Hill North",
          "Forest Hill South",
          "Glenfield-Jane Heights",
          "Greenwood-Coxwell",
          "Guildwood",
          "Henry Farm",
          "High Park North",
          "High Park-Swansea",
          "Highland Creek",
          "Hillcrest Village",
          "Humber Heights-Westmount",
          "Humber Summit",
          "Humbermede",
          "Humewood-Cedarvale",
          "Ionview",
          "Islington-City Centre West",
          "Junction Area",
          "Keelesdale-Eglinton West",
          "Kennedy Park",
          "Kensington-Chinatown",
          "Kingsview Village-The Westway",
          "Kingsway South",
          "L'Amoreaux",
          "Lambton Baby Point",
          "Lansing-Westgate",
          "Lawrence Park North",
          "Lawrence Park South",
          "Leaside-Bennington",
          "Little Portugal",
          "Long Branch",
          "Malvern",
          "Maple Leaf",
          "Markland Wood",
          "Milliken",
          "Mimico",
          "Morningside",
          "Moss Park",
          "Mount Dennis",
          "Mount Olive-Silverstone-Jamestown",
          "Mount Pleasant East",
          "Mount Pleasant West",
          "New Toronto",
          "Newtonbrook East",
          "Newtonbrook West",
          "Niagara",
          "North Riverdale",
          "North St.James Town",
          "O'Connor-Parkview",
          "Oakridge",
          "Oakwood Village",
          "Old East York",
          "Palmerston-Little Italy",
          "Parkwoods-Donalda",
          "Pelmo Park-Humberlea",
          "Playter Estates-Danforth",
          "Pleasant View",
          "Princess-Rosethorn",
          "Regent Park",
          "Rexdale-Kipling",
          "Rockcliffe-Smythe",
          "Roncesvalles",
          "Rosedale-Moore Park",
          "Rouge",
          "Runnymede-Bloor West Village",
          "Rustic",
          "Scarborough Village",
          "South Parkdale",
          "South Riverdale",
          "St.Andrew-Windfields",
          "Steeles",
          "Stonegate-Queensway",
          "Tam O'Shanter-Sullivan",
          "Taylor-Massey",
          "The Beaches",
          "Thistletown-Beaumond Heights",
          "Thorncliffe Park",
          "Trinity-Bellwoods",
          "University",
          "Victoria Village",
          "Waterfront Communities-The Island",
          "West Hill",
          "West Humber-Clairville",
          "Westminster-Branson",
          "Weston",
          "Weston-Pellam Park",
          "Wexford/Maryvale",
          "Willowdale East",
          "Willowdale West",
          "Willowridge-Martingrove-Richview",
          "Woburn",
          "Woodbine Corridor",
          "Woodbine-Lumsden",
          "Wychwood",
          "Yonge-Eglinton",
          "Yonge-St.Clair",
          "York University Heights",
          "Yorkdale-Glen Park"
         ],
         "xaxis": "x3",
         "y": [
          293140,
          297031,
          380342,
          663921,
          543987,
          445807,
          376548,
          479299,
          502546,
          826963,
          329685,
          267642,
          388690,
          231839,
          454571,
          324882,
          1356757,
          394075,
          311922,
          439171,
          321496,
          871981,
          364291,
          360962,
          315133,
          490234,
          371009,
          373239,
          415024,
          374793,
          353756,
          232869,
          386366,
          339006,
          406710,
          424900,
          707638,
          239060,
          238505,
          505677,
          353553,
          275009,
          184694,
          756983,
          1063011,
          291172,
          344019,
          328303,
          328823,
          473289,
          518157,
          381156,
          351101,
          399210,
          312935,
          284227,
          619577,
          255698,
          401463,
          385094,
          286886,
          255296,
          391509,
          300725,
          749476,
          578001,
          299190,
          545034,
          674957,
          972384,
          716801,
          480129,
          342930,
          228318,
          402835,
          394610,
          306629,
          349739,
          253323,
          363929,
          233143,
          225031,
          602054,
          416125,
          362468,
          497355,
          409358,
          328854,
          624890,
          365706,
          265146,
          375307,
          392146,
          394111,
          553011,
          404100,
          360352,
          576713,
          331860,
          680604,
          348928,
          320860,
          307227,
          452349,
          972039,
          334448,
          490697,
          383158,
          293162,
          397724,
          404427,
          888017,
          334206,
          489230,
          314574,
          212794,
          592220,
          334072,
          226882,
          475039,
          549567,
          312980,
          334960,
          252998,
          305088,
          310480,
          273761,
          312685,
          309590,
          416893,
          414306,
          412655,
          265315,
          395861,
          328788,
          503046,
          719711,
          722799,
          271887,
          382954
         ],
         "yaxis": "y3"
        },
        {
         "alignmentgroup": "True",
         "hovertemplate": "year=2011<br>Neighbourhoods=%{x}<br>Avg. House Value=%{marker.color}<extra></extra>",
         "legendgroup": "",
         "marker": {
          "color": [
           366667,
           371534,
           475742,
           830450,
           680433,
           557627,
           470996,
           599520,
           628597,
           1034387,
           412378,
           334773,
           486184,
           289990,
           568589,
           406371,
           1697067,
           492919,
           390160,
           549326,
           402135,
           1090696,
           455664,
           451500,
           394176,
           613197,
           464068,
           466857,
           519123,
           468801,
           442487,
           291278,
           483276,
           424038,
           508723,
           531476,
           885132,
           299023,
           298328,
           632514,
           442233,
           343988,
           231020,
           946854,
           1329642,
           364206,
           430308,
           410650,
           411300,
           592002,
           648124,
           476760,
           439166,
           499342,
           391427,
           355519,
           774983,
           319834,
           502160,
           481686,
           358844,
           319331,
           489709,
           376154,
           937464,
           722978,
           374234,
           681742,
           844253,
           1216283,
           896593,
           600558,
           428946,
           285586,
           503876,
           493588,
           383540,
           437462,
           316863,
           455212,
           291621,
           281475,
           753065,
           520500,
           453384,
           622104,
           512036,
           411339,
           781629,
           457435,
           331652,
           469444,
           490506,
           492964,
           691720,
           505459,
           450737,
           721368,
           415099,
           851317,
           436448,
           401340,
           384287,
           565810,
           1215852,
           418336,
           613776,
           479264,
           366694,
           497483,
           505868,
           1110755,
           418033,
           611942,
           393477,
           266168,
           740764,
           417866,
           283790,
           594191,
           687412,
           391483,
           418977,
           316456,
           381612,
           388356,
           342427,
           391115,
           387243,
           521460,
           518224,
           516160,
           331863,
           495153,
           411256,
           629223,
           900233,
           904096,
           340083,
           479009
          ],
          "coloraxis": "coloraxis"
         },
         "name": "",
         "offsetgroup": "",
         "orientation": "v",
         "showlegend": false,
         "textposition": "auto",
         "type": "bar",
         "x": [
          "Agincourt North",
          "Agincourt South-Malvern West",
          "Alderwood",
          "Annex",
          "Banbury-Don Mills",
          "Bathurst Manor",
          "Bay Street Corridor",
          "Bayview Village",
          "Bayview Woods-Steeles",
          "Bedford Park-Nortown",
          "Beechborough-Greenbrook",
          "Bendale",
          "Birchcliffe-Cliffside",
          "Black Creek",
          "Blake-Jones",
          "Briar Hill-Belgravia",
          "Bridle Path-Sunnybrook-York Mills",
          "Broadview North",
          "Brookhaven-Amesbury",
          "Cabbagetown-South St.James Town",
          "Caledonia-Fairbank",
          "Casa Loma",
          "Centennial Scarborough",
          "Church-Yonge Corridor",
          "Clairlea-Birchmount",
          "Clanton Park",
          "Cliffcrest",
          "Corso Italia-Davenport",
          "Danforth",
          "Danforth-East York",
          "Don Valley Village",
          "Dorset Park",
          "Dovercourt-Wallace Emerson-Juncti",
          "Downsview-Roding-CFB",
          "Dufferin Grove",
          "East End-Danforth",
          "Edenbridge-Humber Valley",
          "Eglinton East",
          "Elms-Old Rexdale",
          "Englemount-Lawrence",
          "Eringate-Centennial-West Deane",
          "Etobicoke West Mall",
          "Flemingdon Park",
          "Forest Hill North",
          "Forest Hill South",
          "Glenfield-Jane Heights",
          "Greenwood-Coxwell",
          "Guildwood",
          "Henry Farm",
          "High Park North",
          "High Park-Swansea",
          "Highland Creek",
          "Hillcrest Village",
          "Humber Heights-Westmount",
          "Humber Summit",
          "Humbermede",
          "Humewood-Cedarvale",
          "Ionview",
          "Islington-City Centre West",
          "Junction Area",
          "Keelesdale-Eglinton West",
          "Kennedy Park",
          "Kensington-Chinatown",
          "Kingsview Village-The Westway",
          "Kingsway South",
          "L'Amoreaux",
          "Lambton Baby Point",
          "Lansing-Westgate",
          "Lawrence Park North",
          "Lawrence Park South",
          "Leaside-Bennington",
          "Little Portugal",
          "Long Branch",
          "Malvern",
          "Maple Leaf",
          "Markland Wood",
          "Milliken",
          "Mimico",
          "Morningside",
          "Moss Park",
          "Mount Dennis",
          "Mount Olive-Silverstone-Jamestown",
          "Mount Pleasant East",
          "Mount Pleasant West",
          "New Toronto",
          "Newtonbrook East",
          "Newtonbrook West",
          "Niagara",
          "North Riverdale",
          "North St.James Town",
          "O'Connor-Parkview",
          "Oakridge",
          "Oakwood Village",
          "Old East York",
          "Palmerston-Little Italy",
          "Parkwoods-Donalda",
          "Pelmo Park-Humberlea",
          "Playter Estates-Danforth",
          "Pleasant View",
          "Princess-Rosethorn",
          "Regent Park",
          "Rexdale-Kipling",
          "Rockcliffe-Smythe",
          "Roncesvalles",
          "Rosedale-Moore Park",
          "Rouge",
          "Runnymede-Bloor West Village",
          "Rustic",
          "Scarborough Village",
          "South Parkdale",
          "South Riverdale",
          "St.Andrew-Windfields",
          "Steeles",
          "Stonegate-Queensway",
          "Tam O'Shanter-Sullivan",
          "Taylor-Massey",
          "The Beaches",
          "Thistletown-Beaumond Heights",
          "Thorncliffe Park",
          "Trinity-Bellwoods",
          "University",
          "Victoria Village",
          "Waterfront Communities-The Island",
          "West Hill",
          "West Humber-Clairville",
          "Westminster-Branson",
          "Weston",
          "Weston-Pellam Park",
          "Wexford/Maryvale",
          "Willowdale East",
          "Willowdale West",
          "Willowridge-Martingrove-Richview",
          "Woburn",
          "Woodbine Corridor",
          "Woodbine-Lumsden",
          "Wychwood",
          "Yonge-Eglinton",
          "Yonge-St.Clair",
          "York University Heights",
          "Yorkdale-Glen Park"
         ],
         "xaxis": "x2",
         "y": [
          366667,
          371534,
          475742,
          830450,
          680433,
          557627,
          470996,
          599520,
          628597,
          1034387,
          412378,
          334773,
          486184,
          289990,
          568589,
          406371,
          1697067,
          492919,
          390160,
          549326,
          402135,
          1090696,
          455664,
          451500,
          394176,
          613197,
          464068,
          466857,
          519123,
          468801,
          442487,
          291278,
          483276,
          424038,
          508723,
          531476,
          885132,
          299023,
          298328,
          632514,
          442233,
          343988,
          231020,
          946854,
          1329642,
          364206,
          430308,
          410650,
          411300,
          592002,
          648124,
          476760,
          439166,
          499342,
          391427,
          355519,
          774983,
          319834,
          502160,
          481686,
          358844,
          319331,
          489709,
          376154,
          937464,
          722978,
          374234,
          681742,
          844253,
          1216283,
          896593,
          600558,
          428946,
          285586,
          503876,
          493588,
          383540,
          437462,
          316863,
          455212,
          291621,
          281475,
          753065,
          520500,
          453384,
          622104,
          512036,
          411339,
          781629,
          457435,
          331652,
          469444,
          490506,
          492964,
          691720,
          505459,
          450737,
          721368,
          415099,
          851317,
          436448,
          401340,
          384287,
          565810,
          1215852,
          418336,
          613776,
          479264,
          366694,
          497483,
          505868,
          1110755,
          418033,
          611942,
          393477,
          266168,
          740764,
          417866,
          283790,
          594191,
          687412,
          391483,
          418977,
          316456,
          381612,
          388356,
          342427,
          391115,
          387243,
          521460,
          518224,
          516160,
          331863,
          495153,
          411256,
          629223,
          900233,
          904096,
          340083,
          479009
         ],
         "yaxis": "y2"
        },
        {
         "alignmentgroup": "True",
         "hovertemplate": "year=2016<br>Neighbourhoods=%{x}<br>Avg. House Value=%{marker.color}<extra></extra>",
         "legendgroup": "",
         "marker": {
          "color": [
           459051,
           465144,
           595608,
           1039687,
           851872,
           698124,
           589666,
           750572,
           786976,
           1295007,
           516279,
           419121,
           608681,
           363055,
           711848,
           508759,
           2124653,
           617113,
           488463,
           687732,
           503455,
           1365503,
           570471,
           565258,
           493491,
           767695,
           580993,
           584484,
           649919,
           586918,
           553974,
           364667,
           605040,
           530877,
           636899,
           665384,
           1108146,
           374364,
           373493,
           791880,
           553656,
           430658,
           289227,
           1185419,
           1664653,
           455970,
           538727,
           514116,
           514929,
           741161,
           811423,
           596883,
           549816,
           625154,
           490049,
           445094,
           970245,
           400418,
           628682,
           603050,
           449257,
           399789,
           613094,
           470928,
           1173663,
           905137,
           468524,
           853511,
           1056967,
           1522732,
           1122495,
           751872,
           537021,
           357541,
           630831,
           617950,
           480175,
           547683,
           396699,
           569905,
           365097,
           352394,
           942804,
           651643,
           567617,
           778847,
           641047,
           514978,
           978565,
           572689,
           415214,
           587723,
           614092,
           617169,
           866003,
           632812,
           564303,
           903121,
           519686,
           1065811,
           546413,
           502460,
           481110,
           708369,
           1522193,
           523738,
           768420,
           600017,
           459085,
           622827,
           633325,
           1390616,
           523359,
           766124,
           492616,
           333230,
           927404,
           523150,
           355293,
           743901,
           860610,
           490119,
           524540,
           396189,
           477762,
           486204,
           428703,
           489659,
           484811,
           652845,
           648794,
           646210,
           415478,
           619910,
           514874,
           787760,
           1127052,
           1131888,
           425769,
           599698
          ],
          "coloraxis": "coloraxis"
         },
         "name": "",
         "offsetgroup": "",
         "orientation": "v",
         "showlegend": false,
         "textposition": "auto",
         "type": "bar",
         "x": [
          "Agincourt North",
          "Agincourt South-Malvern West",
          "Alderwood",
          "Annex",
          "Banbury-Don Mills",
          "Bathurst Manor",
          "Bay Street Corridor",
          "Bayview Village",
          "Bayview Woods-Steeles",
          "Bedford Park-Nortown",
          "Beechborough-Greenbrook",
          "Bendale",
          "Birchcliffe-Cliffside",
          "Black Creek",
          "Blake-Jones",
          "Briar Hill-Belgravia",
          "Bridle Path-Sunnybrook-York Mills",
          "Broadview North",
          "Brookhaven-Amesbury",
          "Cabbagetown-South St.James Town",
          "Caledonia-Fairbank",
          "Casa Loma",
          "Centennial Scarborough",
          "Church-Yonge Corridor",
          "Clairlea-Birchmount",
          "Clanton Park",
          "Cliffcrest",
          "Corso Italia-Davenport",
          "Danforth",
          "Danforth-East York",
          "Don Valley Village",
          "Dorset Park",
          "Dovercourt-Wallace Emerson-Juncti",
          "Downsview-Roding-CFB",
          "Dufferin Grove",
          "East End-Danforth",
          "Edenbridge-Humber Valley",
          "Eglinton East",
          "Elms-Old Rexdale",
          "Englemount-Lawrence",
          "Eringate-Centennial-West Deane",
          "Etobicoke West Mall",
          "Flemingdon Park",
          "Forest Hill North",
          "Forest Hill South",
          "Glenfield-Jane Heights",
          "Greenwood-Coxwell",
          "Guildwood",
          "Henry Farm",
          "High Park North",
          "High Park-Swansea",
          "Highland Creek",
          "Hillcrest Village",
          "Humber Heights-Westmount",
          "Humber Summit",
          "Humbermede",
          "Humewood-Cedarvale",
          "Ionview",
          "Islington-City Centre West",
          "Junction Area",
          "Keelesdale-Eglinton West",
          "Kennedy Park",
          "Kensington-Chinatown",
          "Kingsview Village-The Westway",
          "Kingsway South",
          "L'Amoreaux",
          "Lambton Baby Point",
          "Lansing-Westgate",
          "Lawrence Park North",
          "Lawrence Park South",
          "Leaside-Bennington",
          "Little Portugal",
          "Long Branch",
          "Malvern",
          "Maple Leaf",
          "Markland Wood",
          "Milliken",
          "Mimico",
          "Morningside",
          "Moss Park",
          "Mount Dennis",
          "Mount Olive-Silverstone-Jamestown",
          "Mount Pleasant East",
          "Mount Pleasant West",
          "New Toronto",
          "Newtonbrook East",
          "Newtonbrook West",
          "Niagara",
          "North Riverdale",
          "North St.James Town",
          "O'Connor-Parkview",
          "Oakridge",
          "Oakwood Village",
          "Old East York",
          "Palmerston-Little Italy",
          "Parkwoods-Donalda",
          "Pelmo Park-Humberlea",
          "Playter Estates-Danforth",
          "Pleasant View",
          "Princess-Rosethorn",
          "Regent Park",
          "Rexdale-Kipling",
          "Rockcliffe-Smythe",
          "Roncesvalles",
          "Rosedale-Moore Park",
          "Rouge",
          "Runnymede-Bloor West Village",
          "Rustic",
          "Scarborough Village",
          "South Parkdale",
          "South Riverdale",
          "St.Andrew-Windfields",
          "Steeles",
          "Stonegate-Queensway",
          "Tam O'Shanter-Sullivan",
          "Taylor-Massey",
          "The Beaches",
          "Thistletown-Beaumond Heights",
          "Thorncliffe Park",
          "Trinity-Bellwoods",
          "University",
          "Victoria Village",
          "Waterfront Communities-The Island",
          "West Hill",
          "West Humber-Clairville",
          "Westminster-Branson",
          "Weston",
          "Weston-Pellam Park",
          "Wexford/Maryvale",
          "Willowdale East",
          "Willowdale West",
          "Willowridge-Martingrove-Richview",
          "Woburn",
          "Woodbine Corridor",
          "Woodbine-Lumsden",
          "Wychwood",
          "Yonge-Eglinton",
          "Yonge-St.Clair",
          "York University Heights",
          "Yorkdale-Glen Park"
         ],
         "xaxis": "x",
         "y": [
          459051,
          465144,
          595608,
          1039687,
          851872,
          698124,
          589666,
          750572,
          786976,
          1295007,
          516279,
          419121,
          608681,
          363055,
          711848,
          508759,
          2124653,
          617113,
          488463,
          687732,
          503455,
          1365503,
          570471,
          565258,
          493491,
          767695,
          580993,
          584484,
          649919,
          586918,
          553974,
          364667,
          605040,
          530877,
          636899,
          665384,
          1108146,
          374364,
          373493,
          791880,
          553656,
          430658,
          289227,
          1185419,
          1664653,
          455970,
          538727,
          514116,
          514929,
          741161,
          811423,
          596883,
          549816,
          625154,
          490049,
          445094,
          970245,
          400418,
          628682,
          603050,
          449257,
          399789,
          613094,
          470928,
          1173663,
          905137,
          468524,
          853511,
          1056967,
          1522732,
          1122495,
          751872,
          537021,
          357541,
          630831,
          617950,
          480175,
          547683,
          396699,
          569905,
          365097,
          352394,
          942804,
          651643,
          567617,
          778847,
          641047,
          514978,
          978565,
          572689,
          415214,
          587723,
          614092,
          617169,
          866003,
          632812,
          564303,
          903121,
          519686,
          1065811,
          546413,
          502460,
          481110,
          708369,
          1522193,
          523738,
          768420,
          600017,
          459085,
          622827,
          633325,
          1390616,
          523359,
          766124,
          492616,
          333230,
          927404,
          523150,
          355293,
          743901,
          860610,
          490119,
          524540,
          396189,
          477762,
          486204,
          428703,
          489659,
          484811,
          652845,
          648794,
          646210,
          415478,
          619910,
          514874,
          787760,
          1127052,
          1131888,
          425769,
          599698
         ],
         "yaxis": "y"
        }
       ],
       "layout": {
        "annotations": [
         {
          "font": {},
          "showarrow": false,
          "text": "year=2016",
          "textangle": 90,
          "x": 0.98,
          "xanchor": "left",
          "xref": "paper",
          "y": 0.11375,
          "yanchor": "middle",
          "yref": "paper"
         },
         {
          "font": {},
          "showarrow": false,
          "text": "year=2011",
          "textangle": 90,
          "x": 0.98,
          "xanchor": "left",
          "xref": "paper",
          "y": 0.37124999999999997,
          "yanchor": "middle",
          "yref": "paper"
         },
         {
          "font": {},
          "showarrow": false,
          "text": "year=2006",
          "textangle": 90,
          "x": 0.98,
          "xanchor": "left",
          "xref": "paper",
          "y": 0.62875,
          "yanchor": "middle",
          "yref": "paper"
         },
         {
          "font": {},
          "showarrow": false,
          "text": "year=2001",
          "textangle": 90,
          "x": 0.98,
          "xanchor": "left",
          "xref": "paper",
          "y": 0.88625,
          "yanchor": "middle",
          "yref": "paper"
         }
        ],
        "autosize": true,
        "barmode": "relative",
        "coloraxis": {
         "colorbar": {
          "title": {
           "text": "Avg. House Value"
          }
         },
         "colorscale": [
          [
           0,
           "#0d0887"
          ],
          [
           0.1111111111111111,
           "#46039f"
          ],
          [
           0.2222222222222222,
           "#7201a8"
          ],
          [
           0.3333333333333333,
           "#9c179e"
          ],
          [
           0.4444444444444444,
           "#bd3786"
          ],
          [
           0.5555555555555556,
           "#d8576b"
          ],
          [
           0.6666666666666666,
           "#ed7953"
          ],
          [
           0.7777777777777778,
           "#fb9f3a"
          ],
          [
           0.8888888888888888,
           "#fdca26"
          ],
          [
           1,
           "#f0f921"
          ]
         ]
        },
        "legend": {
         "tracegroupgap": 0
        },
        "template": {
         "data": {
          "bar": [
           {
            "error_x": {
             "color": "#2a3f5f"
            },
            "error_y": {
             "color": "#2a3f5f"
            },
            "marker": {
             "line": {
              "color": "#E5ECF6",
              "width": 0.5
             }
            },
            "type": "bar"
           }
          ],
          "barpolar": [
           {
            "marker": {
             "line": {
              "color": "#E5ECF6",
              "width": 0.5
             }
            },
            "type": "barpolar"
           }
          ],
          "carpet": [
           {
            "aaxis": {
             "endlinecolor": "#2a3f5f",
             "gridcolor": "white",
             "linecolor": "white",
             "minorgridcolor": "white",
             "startlinecolor": "#2a3f5f"
            },
            "baxis": {
             "endlinecolor": "#2a3f5f",
             "gridcolor": "white",
             "linecolor": "white",
             "minorgridcolor": "white",
             "startlinecolor": "#2a3f5f"
            },
            "type": "carpet"
           }
          ],
          "choropleth": [
           {
            "colorbar": {
             "outlinewidth": 0,
             "ticks": ""
            },
            "type": "choropleth"
           }
          ],
          "contour": [
           {
            "colorbar": {
             "outlinewidth": 0,
             "ticks": ""
            },
            "colorscale": [
             [
              0,
              "#0d0887"
             ],
             [
              0.1111111111111111,
              "#46039f"
             ],
             [
              0.2222222222222222,
              "#7201a8"
             ],
             [
              0.3333333333333333,
              "#9c179e"
             ],
             [
              0.4444444444444444,
              "#bd3786"
             ],
             [
              0.5555555555555556,
              "#d8576b"
             ],
             [
              0.6666666666666666,
              "#ed7953"
             ],
             [
              0.7777777777777778,
              "#fb9f3a"
             ],
             [
              0.8888888888888888,
              "#fdca26"
             ],
             [
              1,
              "#f0f921"
             ]
            ],
            "type": "contour"
           }
          ],
          "contourcarpet": [
           {
            "colorbar": {
             "outlinewidth": 0,
             "ticks": ""
            },
            "type": "contourcarpet"
           }
          ],
          "heatmap": [
           {
            "colorbar": {
             "outlinewidth": 0,
             "ticks": ""
            },
            "colorscale": [
             [
              0,
              "#0d0887"
             ],
             [
              0.1111111111111111,
              "#46039f"
             ],
             [
              0.2222222222222222,
              "#7201a8"
             ],
             [
              0.3333333333333333,
              "#9c179e"
             ],
             [
              0.4444444444444444,
              "#bd3786"
             ],
             [
              0.5555555555555556,
              "#d8576b"
             ],
             [
              0.6666666666666666,
              "#ed7953"
             ],
             [
              0.7777777777777778,
              "#fb9f3a"
             ],
             [
              0.8888888888888888,
              "#fdca26"
             ],
             [
              1,
              "#f0f921"
             ]
            ],
            "type": "heatmap"
           }
          ],
          "heatmapgl": [
           {
            "colorbar": {
             "outlinewidth": 0,
             "ticks": ""
            },
            "colorscale": [
             [
              0,
              "#0d0887"
             ],
             [
              0.1111111111111111,
              "#46039f"
             ],
             [
              0.2222222222222222,
              "#7201a8"
             ],
             [
              0.3333333333333333,
              "#9c179e"
             ],
             [
              0.4444444444444444,
              "#bd3786"
             ],
             [
              0.5555555555555556,
              "#d8576b"
             ],
             [
              0.6666666666666666,
              "#ed7953"
             ],
             [
              0.7777777777777778,
              "#fb9f3a"
             ],
             [
              0.8888888888888888,
              "#fdca26"
             ],
             [
              1,
              "#f0f921"
             ]
            ],
            "type": "heatmapgl"
           }
          ],
          "histogram": [
           {
            "marker": {
             "colorbar": {
              "outlinewidth": 0,
              "ticks": ""
             }
            },
            "type": "histogram"
           }
          ],
          "histogram2d": [
           {
            "colorbar": {
             "outlinewidth": 0,
             "ticks": ""
            },
            "colorscale": [
             [
              0,
              "#0d0887"
             ],
             [
              0.1111111111111111,
              "#46039f"
             ],
             [
              0.2222222222222222,
              "#7201a8"
             ],
             [
              0.3333333333333333,
              "#9c179e"
             ],
             [
              0.4444444444444444,
              "#bd3786"
             ],
             [
              0.5555555555555556,
              "#d8576b"
             ],
             [
              0.6666666666666666,
              "#ed7953"
             ],
             [
              0.7777777777777778,
              "#fb9f3a"
             ],
             [
              0.8888888888888888,
              "#fdca26"
             ],
             [
              1,
              "#f0f921"
             ]
            ],
            "type": "histogram2d"
           }
          ],
          "histogram2dcontour": [
           {
            "colorbar": {
             "outlinewidth": 0,
             "ticks": ""
            },
            "colorscale": [
             [
              0,
              "#0d0887"
             ],
             [
              0.1111111111111111,
              "#46039f"
             ],
             [
              0.2222222222222222,
              "#7201a8"
             ],
             [
              0.3333333333333333,
              "#9c179e"
             ],
             [
              0.4444444444444444,
              "#bd3786"
             ],
             [
              0.5555555555555556,
              "#d8576b"
             ],
             [
              0.6666666666666666,
              "#ed7953"
             ],
             [
              0.7777777777777778,
              "#fb9f3a"
             ],
             [
              0.8888888888888888,
              "#fdca26"
             ],
             [
              1,
              "#f0f921"
             ]
            ],
            "type": "histogram2dcontour"
           }
          ],
          "mesh3d": [
           {
            "colorbar": {
             "outlinewidth": 0,
             "ticks": ""
            },
            "type": "mesh3d"
           }
          ],
          "parcoords": [
           {
            "line": {
             "colorbar": {
              "outlinewidth": 0,
              "ticks": ""
             }
            },
            "type": "parcoords"
           }
          ],
          "pie": [
           {
            "automargin": true,
            "type": "pie"
           }
          ],
          "scatter": [
           {
            "marker": {
             "colorbar": {
              "outlinewidth": 0,
              "ticks": ""
             }
            },
            "type": "scatter"
           }
          ],
          "scatter3d": [
           {
            "line": {
             "colorbar": {
              "outlinewidth": 0,
              "ticks": ""
             }
            },
            "marker": {
             "colorbar": {
              "outlinewidth": 0,
              "ticks": ""
             }
            },
            "type": "scatter3d"
           }
          ],
          "scattercarpet": [
           {
            "marker": {
             "colorbar": {
              "outlinewidth": 0,
              "ticks": ""
             }
            },
            "type": "scattercarpet"
           }
          ],
          "scattergeo": [
           {
            "marker": {
             "colorbar": {
              "outlinewidth": 0,
              "ticks": ""
             }
            },
            "type": "scattergeo"
           }
          ],
          "scattergl": [
           {
            "marker": {
             "colorbar": {
              "outlinewidth": 0,
              "ticks": ""
             }
            },
            "type": "scattergl"
           }
          ],
          "scattermapbox": [
           {
            "marker": {
             "colorbar": {
              "outlinewidth": 0,
              "ticks": ""
             }
            },
            "type": "scattermapbox"
           }
          ],
          "scatterpolar": [
           {
            "marker": {
             "colorbar": {
              "outlinewidth": 0,
              "ticks": ""
             }
            },
            "type": "scatterpolar"
           }
          ],
          "scatterpolargl": [
           {
            "marker": {
             "colorbar": {
              "outlinewidth": 0,
              "ticks": ""
             }
            },
            "type": "scatterpolargl"
           }
          ],
          "scatterternary": [
           {
            "marker": {
             "colorbar": {
              "outlinewidth": 0,
              "ticks": ""
             }
            },
            "type": "scatterternary"
           }
          ],
          "surface": [
           {
            "colorbar": {
             "outlinewidth": 0,
             "ticks": ""
            },
            "colorscale": [
             [
              0,
              "#0d0887"
             ],
             [
              0.1111111111111111,
              "#46039f"
             ],
             [
              0.2222222222222222,
              "#7201a8"
             ],
             [
              0.3333333333333333,
              "#9c179e"
             ],
             [
              0.4444444444444444,
              "#bd3786"
             ],
             [
              0.5555555555555556,
              "#d8576b"
             ],
             [
              0.6666666666666666,
              "#ed7953"
             ],
             [
              0.7777777777777778,
              "#fb9f3a"
             ],
             [
              0.8888888888888888,
              "#fdca26"
             ],
             [
              1,
              "#f0f921"
             ]
            ],
            "type": "surface"
           }
          ],
          "table": [
           {
            "cells": {
             "fill": {
              "color": "#EBF0F8"
             },
             "line": {
              "color": "white"
             }
            },
            "header": {
             "fill": {
              "color": "#C8D4E3"
             },
             "line": {
              "color": "white"
             }
            },
            "type": "table"
           }
          ]
         },
         "layout": {
          "annotationdefaults": {
           "arrowcolor": "#2a3f5f",
           "arrowhead": 0,
           "arrowwidth": 1
          },
          "coloraxis": {
           "colorbar": {
            "outlinewidth": 0,
            "ticks": ""
           }
          },
          "colorscale": {
           "diverging": [
            [
             0,
             "#8e0152"
            ],
            [
             0.1,
             "#c51b7d"
            ],
            [
             0.2,
             "#de77ae"
            ],
            [
             0.3,
             "#f1b6da"
            ],
            [
             0.4,
             "#fde0ef"
            ],
            [
             0.5,
             "#f7f7f7"
            ],
            [
             0.6,
             "#e6f5d0"
            ],
            [
             0.7,
             "#b8e186"
            ],
            [
             0.8,
             "#7fbc41"
            ],
            [
             0.9,
             "#4d9221"
            ],
            [
             1,
             "#276419"
            ]
           ],
           "sequential": [
            [
             0,
             "#0d0887"
            ],
            [
             0.1111111111111111,
             "#46039f"
            ],
            [
             0.2222222222222222,
             "#7201a8"
            ],
            [
             0.3333333333333333,
             "#9c179e"
            ],
            [
             0.4444444444444444,
             "#bd3786"
            ],
            [
             0.5555555555555556,
             "#d8576b"
            ],
            [
             0.6666666666666666,
             "#ed7953"
            ],
            [
             0.7777777777777778,
             "#fb9f3a"
            ],
            [
             0.8888888888888888,
             "#fdca26"
            ],
            [
             1,
             "#f0f921"
            ]
           ],
           "sequentialminus": [
            [
             0,
             "#0d0887"
            ],
            [
             0.1111111111111111,
             "#46039f"
            ],
            [
             0.2222222222222222,
             "#7201a8"
            ],
            [
             0.3333333333333333,
             "#9c179e"
            ],
            [
             0.4444444444444444,
             "#bd3786"
            ],
            [
             0.5555555555555556,
             "#d8576b"
            ],
            [
             0.6666666666666666,
             "#ed7953"
            ],
            [
             0.7777777777777778,
             "#fb9f3a"
            ],
            [
             0.8888888888888888,
             "#fdca26"
            ],
            [
             1,
             "#f0f921"
            ]
           ]
          },
          "colorway": [
           "#636efa",
           "#EF553B",
           "#00cc96",
           "#ab63fa",
           "#FFA15A",
           "#19d3f3",
           "#FF6692",
           "#B6E880",
           "#FF97FF",
           "#FECB52"
          ],
          "font": {
           "color": "#2a3f5f"
          },
          "geo": {
           "bgcolor": "white",
           "lakecolor": "white",
           "landcolor": "#E5ECF6",
           "showlakes": true,
           "showland": true,
           "subunitcolor": "white"
          },
          "hoverlabel": {
           "align": "left"
          },
          "hovermode": "closest",
          "mapbox": {
           "style": "light"
          },
          "paper_bgcolor": "white",
          "plot_bgcolor": "#E5ECF6",
          "polar": {
           "angularaxis": {
            "gridcolor": "white",
            "linecolor": "white",
            "ticks": ""
           },
           "bgcolor": "#E5ECF6",
           "radialaxis": {
            "gridcolor": "white",
            "linecolor": "white",
            "ticks": ""
           }
          },
          "scene": {
           "xaxis": {
            "backgroundcolor": "#E5ECF6",
            "gridcolor": "white",
            "gridwidth": 2,
            "linecolor": "white",
            "showbackground": true,
            "ticks": "",
            "zerolinecolor": "white"
           },
           "yaxis": {
            "backgroundcolor": "#E5ECF6",
            "gridcolor": "white",
            "gridwidth": 2,
            "linecolor": "white",
            "showbackground": true,
            "ticks": "",
            "zerolinecolor": "white"
           },
           "zaxis": {
            "backgroundcolor": "#E5ECF6",
            "gridcolor": "white",
            "gridwidth": 2,
            "linecolor": "white",
            "showbackground": true,
            "ticks": "",
            "zerolinecolor": "white"
           }
          },
          "shapedefaults": {
           "line": {
            "color": "#2a3f5f"
           }
          },
          "ternary": {
           "aaxis": {
            "gridcolor": "white",
            "linecolor": "white",
            "ticks": ""
           },
           "baxis": {
            "gridcolor": "white",
            "linecolor": "white",
            "ticks": ""
           },
           "bgcolor": "#E5ECF6",
           "caxis": {
            "gridcolor": "white",
            "linecolor": "white",
            "ticks": ""
           }
          },
          "title": {
           "x": 0.05
          },
          "xaxis": {
           "automargin": true,
           "gridcolor": "white",
           "linecolor": "white",
           "ticks": "",
           "title": {
            "standoff": 15
           },
           "zerolinecolor": "white",
           "zerolinewidth": 2
          },
          "yaxis": {
           "automargin": true,
           "gridcolor": "white",
           "linecolor": "white",
           "ticks": "",
           "title": {
            "standoff": 15
           },
           "zerolinecolor": "white",
           "zerolinewidth": 2
          }
         }
        },
        "title": {
         "text": "Average House Values in Toronto per Neighbourhood"
        },
        "xaxis": {
         "anchor": "y",
         "autorange": true,
         "domain": [
          0,
          0.98
         ],
         "range": [
          -0.5,
          139.5
         ],
         "title": {
          "text": "Neighbourhoods"
         },
         "type": "category"
        },
        "xaxis2": {
         "anchor": "y2",
         "autorange": true,
         "domain": [
          0,
          0.98
         ],
         "matches": "x",
         "range": [
          -0.5,
          139.5
         ],
         "showticklabels": false,
         "type": "category"
        },
        "xaxis3": {
         "anchor": "y3",
         "autorange": true,
         "domain": [
          0,
          0.98
         ],
         "matches": "x",
         "range": [
          -0.5,
          139.5
         ],
         "showticklabels": false,
         "type": "category"
        },
        "xaxis4": {
         "anchor": "y4",
         "autorange": true,
         "domain": [
          0,
          0.98
         ],
         "matches": "x",
         "range": [
          -0.5,
          139.5
         ],
         "showticklabels": false,
         "type": "category"
        },
        "yaxis": {
         "anchor": "x",
         "autorange": true,
         "domain": [
          0,
          0.2275
         ],
         "range": [
          0,
          2236476.8421052634
         ],
         "title": {
          "text": "Avg. House Value"
         },
         "type": "linear"
        },
        "yaxis2": {
         "anchor": "x2",
         "autorange": true,
         "domain": [
          0.2575,
          0.485
         ],
         "matches": "y",
         "range": [
          0,
          2236476.8421052634
         ],
         "title": {
          "text": "Avg. House Value"
         },
         "type": "linear"
        },
        "yaxis3": {
         "anchor": "x3",
         "autorange": true,
         "domain": [
          0.515,
          0.7425
         ],
         "matches": "y",
         "range": [
          0,
          2236476.8421052634
         ],
         "title": {
          "text": "Avg. House Value"
         },
         "type": "linear"
        },
        "yaxis4": {
         "anchor": "x4",
         "autorange": true,
         "domain": [
          0.7725,
          1
         ],
         "matches": "y",
         "range": [
          0,
          2236476.8421052634
         ],
         "title": {
          "text": "Avg. House Value"
         },
         "type": "linear"
        }
       }
      },
      "image/png": "[encoded data removed]",
      "text/html": [
       "<div>\n",
       "        \n",
       "        \n",
       "            <div id=\"24b6f220-d63c-4d5e-866b-af04270df0c1\" class=\"plotly-graph-div\" style=\"height:1024px; width:100%;\"></div>\n",
       "            <script type=\"text/javascript\">\n",
       "                require([\"plotly\"], function(Plotly) {\n",
       "                    window.PLOTLYENV=window.PLOTLYENV || {};\n",
       "                    \n",
       "                if (document.getElementById(\"24b6f220-d63c-4d5e-866b-af04270df0c1\")) {\n",
       "                    Plotly.newPlot(\n",
       "                        '24b6f220-d63c-4d5e-866b-af04270df0c1',\n",
       "                        [{\"alignmentgroup\": \"True\", \"hovertemplate\": \"year=2001<br>Neighbourhoods=%{x}<br>Avg. House Value=%{marker.color}<extra></extra>\", \"legendgroup\": \"\", \"marker\": {\"color\": [200388, 203047, 259998, 453850, 371864, 304749, 257404, 327644, 343535, 565304, 225369, 182957, 265705, 158483, 310740, 222086, 927466, 269386, 213227, 300213, 219771, 596077, 249025, 246750, 215421, 335119, 253618, 255142, 283706, 256205, 241824, 159187, 264116, 231741, 278023, 290457, 483734, 163419, 163039, 345676, 241685, 187993, 126255, 517466, 726664, 199043, 235168, 224425, 224780, 323536, 354207, 260555, 240009, 272896, 213919, 194295, 423537, 174793, 274436, 263247, 196112, 174518, 267631, 205572, 512334, 395115, 204523, 372579, 461393, 664712, 489998, 328211, 234424, 156076, 275374, 269751, 209609, 239078, 173169, 248778, 159374, 153829, 411558, 284459, 247779, 339987, 279833, 224801, 427169, 249993, 181251, 256556, 268067, 269410, 378033, 276239, 246333, 394235, 226856, 465254, 238524, 219337, 210017, 309221, 664476, 228625, 335435, 261923, 200402, 271880, 276462, 607040, 228460, 334433, 215039, 145464, 404836, 228368, 155094, 324732, 375678, 213950, 228975, 172947, 208555, 212241, 187140, 213749, 211633, 284984, 283215, 282087, 181367, 270607, 224756, 343877, 491987, 494098, 185859, 261784], \"coloraxis\": \"coloraxis\"}, \"name\": \"\", \"offsetgroup\": \"\", \"orientation\": \"v\", \"showlegend\": false, \"textposition\": \"auto\", \"type\": \"bar\", \"x\": [\"Agincourt North\", \"Agincourt South-Malvern West\", \"Alderwood\", \"Annex\", \"Banbury-Don Mills\", \"Bathurst Manor\", \"Bay Street Corridor\", \"Bayview Village\", \"Bayview Woods-Steeles\", \"Bedford Park-Nortown\", \"Beechborough-Greenbrook\", \"Bendale\", \"Birchcliffe-Cliffside\", \"Black Creek\", \"Blake-Jones\", \"Briar Hill-Belgravia\", \"Bridle Path-Sunnybrook-York Mills\", \"Broadview North\", \"Brookhaven-Amesbury\", \"Cabbagetown-South St.James Town\", \"Caledonia-Fairbank\", \"Casa Loma\", \"Centennial Scarborough\", \"Church-Yonge Corridor\", \"Clairlea-Birchmount\", \"Clanton Park\", \"Cliffcrest\", \"Corso Italia-Davenport\", \"Danforth\", \"Danforth-East York\", \"Don Valley Village\", \"Dorset Park\", \"Dovercourt-Wallace Emerson-Juncti\", \"Downsview-Roding-CFB\", \"Dufferin Grove\", \"East End-Danforth\", \"Edenbridge-Humber Valley\", \"Eglinton East\", \"Elms-Old Rexdale\", \"Englemount-Lawrence\", \"Eringate-Centennial-West Deane\", \"Etobicoke West Mall\", \"Flemingdon Park\", \"Forest Hill North\", \"Forest Hill South\", \"Glenfield-Jane Heights\", \"Greenwood-Coxwell\", \"Guildwood\", \"Henry Farm\", \"High Park North\", \"High Park-Swansea\", \"Highland Creek\", \"Hillcrest Village\", \"Humber Heights-Westmount\", \"Humber Summit\", \"Humbermede\", \"Humewood-Cedarvale\", \"Ionview\", \"Islington-City Centre West\", \"Junction Area\", \"Keelesdale-Eglinton West\", \"Kennedy Park\", \"Kensington-Chinatown\", \"Kingsview Village-The Westway\", \"Kingsway South\", \"L'Amoreaux\", \"Lambton Baby Point\", \"Lansing-Westgate\", \"Lawrence Park North\", \"Lawrence Park South\", \"Leaside-Bennington\", \"Little Portugal\", \"Long Branch\", \"Malvern\", \"Maple Leaf\", \"Markland Wood\", \"Milliken\", \"Mimico\", \"Morningside\", \"Moss Park\", \"Mount Dennis\", \"Mount Olive-Silverstone-Jamestown\", \"Mount Pleasant East\", \"Mount Pleasant West\", \"New Toronto\", \"Newtonbrook East\", \"Newtonbrook West\", \"Niagara\", \"North Riverdale\", \"North St.James Town\", \"O'Connor-Parkview\", \"Oakridge\", \"Oakwood Village\", \"Old East York\", \"Palmerston-Little Italy\", \"Parkwoods-Donalda\", \"Pelmo Park-Humberlea\", \"Playter Estates-Danforth\", \"Pleasant View\", \"Princess-Rosethorn\", \"Regent Park\", \"Rexdale-Kipling\", \"Rockcliffe-Smythe\", \"Roncesvalles\", \"Rosedale-Moore Park\", \"Rouge\", \"Runnymede-Bloor West Village\", \"Rustic\", \"Scarborough Village\", \"South Parkdale\", \"South Riverdale\", \"St.Andrew-Windfields\", \"Steeles\", \"Stonegate-Queensway\", \"Tam O'Shanter-Sullivan\", \"Taylor-Massey\", \"The Beaches\", \"Thistletown-Beaumond Heights\", \"Thorncliffe Park\", \"Trinity-Bellwoods\", \"University\", \"Victoria Village\", \"Waterfront Communities-The Island\", \"West Hill\", \"West Humber-Clairville\", \"Westminster-Branson\", \"Weston\", \"Weston-Pellam Park\", \"Wexford/Maryvale\", \"Willowdale East\", \"Willowdale West\", \"Willowridge-Martingrove-Richview\", \"Woburn\", \"Woodbine Corridor\", \"Woodbine-Lumsden\", \"Wychwood\", \"Yonge-Eglinton\", \"Yonge-St.Clair\", \"York University Heights\", \"Yorkdale-Glen Park\"], \"xaxis\": \"x4\", \"y\": [200388, 203047, 259998, 453850, 371864, 304749, 257404, 327644, 343535, 565304, 225369, 182957, 265705, 158483, 310740, 222086, 927466, 269386, 213227, 300213, 219771, 596077, 249025, 246750, 215421, 335119, 253618, 255142, 283706, 256205, 241824, 159187, 264116, 231741, 278023, 290457, 483734, 163419, 163039, 345676, 241685, 187993, 126255, 517466, 726664, 199043, 235168, 224425, 224780, 323536, 354207, 260555, 240009, 272896, 213919, 194295, 423537, 174793, 274436, 263247, 196112, 174518, 267631, 205572, 512334, 395115, 204523, 372579, 461393, 664712, 489998, 328211, 234424, 156076, 275374, 269751, 209609, 239078, 173169, 248778, 159374, 153829, 411558, 284459, 247779, 339987, 279833, 224801, 427169, 249993, 181251, 256556, 268067, 269410, 378033, 276239, 246333, 394235, 226856, 465254, 238524, 219337, 210017, 309221, 664476, 228625, 335435, 261923, 200402, 271880, 276462, 607040, 228460, 334433, 215039, 145464, 404836, 228368, 155094, 324732, 375678, 213950, 228975, 172947, 208555, 212241, 187140, 213749, 211633, 284984, 283215, 282087, 181367, 270607, 224756, 343877, 491987, 494098, 185859, 261784], \"yaxis\": \"y4\"}, {\"alignmentgroup\": \"True\", \"hovertemplate\": \"year=2006<br>Neighbourhoods=%{x}<br>Avg. House Value=%{marker.color}<extra></extra>\", \"legendgroup\": \"\", \"marker\": {\"color\": [293140, 297031, 380342, 663921, 543987, 445807, 376548, 479299, 502546, 826963, 329685, 267642, 388690, 231839, 454571, 324882, 1356757, 394075, 311922, 439171, 321496, 871981, 364291, 360962, 315133, 490234, 371009, 373239, 415024, 374793, 353756, 232869, 386366, 339006, 406710, 424900, 707638, 239060, 238505, 505677, 353553, 275009, 184694, 756983, 1063011, 291172, 344019, 328303, 328823, 473289, 518157, 381156, 351101, 399210, 312935, 284227, 619577, 255698, 401463, 385094, 286886, 255296, 391509, 300725, 749476, 578001, 299190, 545034, 674957, 972384, 716801, 480129, 342930, 228318, 402835, 394610, 306629, 349739, 253323, 363929, 233143, 225031, 602054, 416125, 362468, 497355, 409358, 328854, 624890, 365706, 265146, 375307, 392146, 394111, 553011, 404100, 360352, 576713, 331860, 680604, 348928, 320860, 307227, 452349, 972039, 334448, 490697, 383158, 293162, 397724, 404427, 888017, 334206, 489230, 314574, 212794, 592220, 334072, 226882, 475039, 549567, 312980, 334960, 252998, 305088, 310480, 273761, 312685, 309590, 416893, 414306, 412655, 265315, 395861, 328788, 503046, 719711, 722799, 271887, 382954], \"coloraxis\": \"coloraxis\"}, \"name\": \"\", \"offsetgroup\": \"\", \"orientation\": \"v\", \"showlegend\": false, \"textposition\": \"auto\", \"type\": \"bar\", \"x\": [\"Agincourt North\", \"Agincourt South-Malvern West\", \"Alderwood\", \"Annex\", \"Banbury-Don Mills\", \"Bathurst Manor\", \"Bay Street Corridor\", \"Bayview Village\", \"Bayview Woods-Steeles\", \"Bedford Park-Nortown\", \"Beechborough-Greenbrook\", \"Bendale\", \"Birchcliffe-Cliffside\", \"Black Creek\", \"Blake-Jones\", \"Briar Hill-Belgravia\", \"Bridle Path-Sunnybrook-York Mills\", \"Broadview North\", \"Brookhaven-Amesbury\", \"Cabbagetown-South St.James Town\", \"Caledonia-Fairbank\", \"Casa Loma\", \"Centennial Scarborough\", \"Church-Yonge Corridor\", \"Clairlea-Birchmount\", \"Clanton Park\", \"Cliffcrest\", \"Corso Italia-Davenport\", \"Danforth\", \"Danforth-East York\", \"Don Valley Village\", \"Dorset Park\", \"Dovercourt-Wallace Emerson-Juncti\", \"Downsview-Roding-CFB\", \"Dufferin Grove\", \"East End-Danforth\", \"Edenbridge-Humber Valley\", \"Eglinton East\", \"Elms-Old Rexdale\", \"Englemount-Lawrence\", \"Eringate-Centennial-West Deane\", \"Etobicoke West Mall\", \"Flemingdon Park\", \"Forest Hill North\", \"Forest Hill South\", \"Glenfield-Jane Heights\", \"Greenwood-Coxwell\", \"Guildwood\", \"Henry Farm\", \"High Park North\", \"High Park-Swansea\", \"Highland Creek\", \"Hillcrest Village\", \"Humber Heights-Westmount\", \"Humber Summit\", \"Humbermede\", \"Humewood-Cedarvale\", \"Ionview\", \"Islington-City Centre West\", \"Junction Area\", \"Keelesdale-Eglinton West\", \"Kennedy Park\", \"Kensington-Chinatown\", \"Kingsview Village-The Westway\", \"Kingsway South\", \"L'Amoreaux\", \"Lambton Baby Point\", \"Lansing-Westgate\", \"Lawrence Park North\", \"Lawrence Park South\", \"Leaside-Bennington\", \"Little Portugal\", \"Long Branch\", \"Malvern\", \"Maple Leaf\", \"Markland Wood\", \"Milliken\", \"Mimico\", \"Morningside\", \"Moss Park\", \"Mount Dennis\", \"Mount Olive-Silverstone-Jamestown\", \"Mount Pleasant East\", \"Mount Pleasant West\", \"New Toronto\", \"Newtonbrook East\", \"Newtonbrook West\", \"Niagara\", \"North Riverdale\", \"North St.James Town\", \"O'Connor-Parkview\", \"Oakridge\", \"Oakwood Village\", \"Old East York\", \"Palmerston-Little Italy\", \"Parkwoods-Donalda\", \"Pelmo Park-Humberlea\", \"Playter Estates-Danforth\", \"Pleasant View\", \"Princess-Rosethorn\", \"Regent Park\", \"Rexdale-Kipling\", \"Rockcliffe-Smythe\", \"Roncesvalles\", \"Rosedale-Moore Park\", \"Rouge\", \"Runnymede-Bloor West Village\", \"Rustic\", \"Scarborough Village\", \"South Parkdale\", \"South Riverdale\", \"St.Andrew-Windfields\", \"Steeles\", \"Stonegate-Queensway\", \"Tam O'Shanter-Sullivan\", \"Taylor-Massey\", \"The Beaches\", \"Thistletown-Beaumond Heights\", \"Thorncliffe Park\", \"Trinity-Bellwoods\", \"University\", \"Victoria Village\", \"Waterfront Communities-The Island\", \"West Hill\", \"West Humber-Clairville\", \"Westminster-Branson\", \"Weston\", \"Weston-Pellam Park\", \"Wexford/Maryvale\", \"Willowdale East\", \"Willowdale West\", \"Willowridge-Martingrove-Richview\", \"Woburn\", \"Woodbine Corridor\", \"Woodbine-Lumsden\", \"Wychwood\", \"Yonge-Eglinton\", \"Yonge-St.Clair\", \"York University Heights\", \"Yorkdale-Glen Park\"], \"xaxis\": \"x3\", \"y\": [293140, 297031, 380342, 663921, 543987, 445807, 376548, 479299, 502546, 826963, 329685, 267642, 388690, 231839, 454571, 324882, 1356757, 394075, 311922, 439171, 321496, 871981, 364291, 360962, 315133, 490234, 371009, 373239, 415024, 374793, 353756, 232869, 386366, 339006, 406710, 424900, 707638, 239060, 238505, 505677, 353553, 275009, 184694, 756983, 1063011, 291172, 344019, 328303, 328823, 473289, 518157, 381156, 351101, 399210, 312935, 284227, 619577, 255698, 401463, 385094, 286886, 255296, 391509, 300725, 749476, 578001, 299190, 545034, 674957, 972384, 716801, 480129, 342930, 228318, 402835, 394610, 306629, 349739, 253323, 363929, 233143, 225031, 602054, 416125, 362468, 497355, 409358, 328854, 624890, 365706, 265146, 375307, 392146, 394111, 553011, 404100, 360352, 576713, 331860, 680604, 348928, 320860, 307227, 452349, 972039, 334448, 490697, 383158, 293162, 397724, 404427, 888017, 334206, 489230, 314574, 212794, 592220, 334072, 226882, 475039, 549567, 312980, 334960, 252998, 305088, 310480, 273761, 312685, 309590, 416893, 414306, 412655, 265315, 395861, 328788, 503046, 719711, 722799, 271887, 382954], \"yaxis\": \"y3\"}, {\"alignmentgroup\": \"True\", \"hovertemplate\": \"year=2011<br>Neighbourhoods=%{x}<br>Avg. House Value=%{marker.color}<extra></extra>\", \"legendgroup\": \"\", \"marker\": {\"color\": [366667, 371534, 475742, 830450, 680433, 557627, 470996, 599520, 628597, 1034387, 412378, 334773, 486184, 289990, 568589, 406371, 1697067, 492919, 390160, 549326, 402135, 1090696, 455664, 451500, 394176, 613197, 464068, 466857, 519123, 468801, 442487, 291278, 483276, 424038, 508723, 531476, 885132, 299023, 298328, 632514, 442233, 343988, 231020, 946854, 1329642, 364206, 430308, 410650, 411300, 592002, 648124, 476760, 439166, 499342, 391427, 355519, 774983, 319834, 502160, 481686, 358844, 319331, 489709, 376154, 937464, 722978, 374234, 681742, 844253, 1216283, 896593, 600558, 428946, 285586, 503876, 493588, 383540, 437462, 316863, 455212, 291621, 281475, 753065, 520500, 453384, 622104, 512036, 411339, 781629, 457435, 331652, 469444, 490506, 492964, 691720, 505459, 450737, 721368, 415099, 851317, 436448, 401340, 384287, 565810, 1215852, 418336, 613776, 479264, 366694, 497483, 505868, 1110755, 418033, 611942, 393477, 266168, 740764, 417866, 283790, 594191, 687412, 391483, 418977, 316456, 381612, 388356, 342427, 391115, 387243, 521460, 518224, 516160, 331863, 495153, 411256, 629223, 900233, 904096, 340083, 479009], \"coloraxis\": \"coloraxis\"}, \"name\": \"\", \"offsetgroup\": \"\", \"orientation\": \"v\", \"showlegend\": false, \"textposition\": \"auto\", \"type\": \"bar\", \"x\": [\"Agincourt North\", \"Agincourt South-Malvern West\", \"Alderwood\", \"Annex\", \"Banbury-Don Mills\", \"Bathurst Manor\", \"Bay Street Corridor\", \"Bayview Village\", \"Bayview Woods-Steeles\", \"Bedford Park-Nortown\", \"Beechborough-Greenbrook\", \"Bendale\", \"Birchcliffe-Cliffside\", \"Black Creek\", \"Blake-Jones\", \"Briar Hill-Belgravia\", \"Bridle Path-Sunnybrook-York Mills\", \"Broadview North\", \"Brookhaven-Amesbury\", \"Cabbagetown-South St.James Town\", \"Caledonia-Fairbank\", \"Casa Loma\", \"Centennial Scarborough\", \"Church-Yonge Corridor\", \"Clairlea-Birchmount\", \"Clanton Park\", \"Cliffcrest\", \"Corso Italia-Davenport\", \"Danforth\", \"Danforth-East York\", \"Don Valley Village\", \"Dorset Park\", \"Dovercourt-Wallace Emerson-Juncti\", \"Downsview-Roding-CFB\", \"Dufferin Grove\", \"East End-Danforth\", \"Edenbridge-Humber Valley\", \"Eglinton East\", \"Elms-Old Rexdale\", \"Englemount-Lawrence\", \"Eringate-Centennial-West Deane\", \"Etobicoke West Mall\", \"Flemingdon Park\", \"Forest Hill North\", \"Forest Hill South\", \"Glenfield-Jane Heights\", \"Greenwood-Coxwell\", \"Guildwood\", \"Henry Farm\", \"High Park North\", \"High Park-Swansea\", \"Highland Creek\", \"Hillcrest Village\", \"Humber Heights-Westmount\", \"Humber Summit\", \"Humbermede\", \"Humewood-Cedarvale\", \"Ionview\", \"Islington-City Centre West\", \"Junction Area\", \"Keelesdale-Eglinton West\", \"Kennedy Park\", \"Kensington-Chinatown\", \"Kingsview Village-The Westway\", \"Kingsway South\", \"L'Amoreaux\", \"Lambton Baby Point\", \"Lansing-Westgate\", \"Lawrence Park North\", \"Lawrence Park South\", \"Leaside-Bennington\", \"Little Portugal\", \"Long Branch\", \"Malvern\", \"Maple Leaf\", \"Markland Wood\", \"Milliken\", \"Mimico\", \"Morningside\", \"Moss Park\", \"Mount Dennis\", \"Mount Olive-Silverstone-Jamestown\", \"Mount Pleasant East\", \"Mount Pleasant West\", \"New Toronto\", \"Newtonbrook East\", \"Newtonbrook West\", \"Niagara\", \"North Riverdale\", \"North St.James Town\", \"O'Connor-Parkview\", \"Oakridge\", \"Oakwood Village\", \"Old East York\", \"Palmerston-Little Italy\", \"Parkwoods-Donalda\", \"Pelmo Park-Humberlea\", \"Playter Estates-Danforth\", \"Pleasant View\", \"Princess-Rosethorn\", \"Regent Park\", \"Rexdale-Kipling\", \"Rockcliffe-Smythe\", \"Roncesvalles\", \"Rosedale-Moore Park\", \"Rouge\", \"Runnymede-Bloor West Village\", \"Rustic\", \"Scarborough Village\", \"South Parkdale\", \"South Riverdale\", \"St.Andrew-Windfields\", \"Steeles\", \"Stonegate-Queensway\", \"Tam O'Shanter-Sullivan\", \"Taylor-Massey\", \"The Beaches\", \"Thistletown-Beaumond Heights\", \"Thorncliffe Park\", \"Trinity-Bellwoods\", \"University\", \"Victoria Village\", \"Waterfront Communities-The Island\", \"West Hill\", \"West Humber-Clairville\", \"Westminster-Branson\", \"Weston\", \"Weston-Pellam Park\", \"Wexford/Maryvale\", \"Willowdale East\", \"Willowdale West\", \"Willowridge-Martingrove-Richview\", \"Woburn\", \"Woodbine Corridor\", \"Woodbine-Lumsden\", \"Wychwood\", \"Yonge-Eglinton\", \"Yonge-St.Clair\", \"York University Heights\", \"Yorkdale-Glen Park\"], \"xaxis\": \"x2\", \"y\": [366667, 371534, 475742, 830450, 680433, 557627, 470996, 599520, 628597, 1034387, 412378, 334773, 486184, 289990, 568589, 406371, 1697067, 492919, 390160, 549326, 402135, 1090696, 455664, 451500, 394176, 613197, 464068, 466857, 519123, 468801, 442487, 291278, 483276, 424038, 508723, 531476, 885132, 299023, 298328, 632514, 442233, 343988, 231020, 946854, 1329642, 364206, 430308, 410650, 411300, 592002, 648124, 476760, 439166, 499342, 391427, 355519, 774983, 319834, 502160, 481686, 358844, 319331, 489709, 376154, 937464, 722978, 374234, 681742, 844253, 1216283, 896593, 600558, 428946, 285586, 503876, 493588, 383540, 437462, 316863, 455212, 291621, 281475, 753065, 520500, 453384, 622104, 512036, 411339, 781629, 457435, 331652, 469444, 490506, 492964, 691720, 505459, 450737, 721368, 415099, 851317, 436448, 401340, 384287, 565810, 1215852, 418336, 613776, 479264, 366694, 497483, 505868, 1110755, 418033, 611942, 393477, 266168, 740764, 417866, 283790, 594191, 687412, 391483, 418977, 316456, 381612, 388356, 342427, 391115, 387243, 521460, 518224, 516160, 331863, 495153, 411256, 629223, 900233, 904096, 340083, 479009], \"yaxis\": \"y2\"}, {\"alignmentgroup\": \"True\", \"hovertemplate\": \"year=2016<br>Neighbourhoods=%{x}<br>Avg. House Value=%{marker.color}<extra></extra>\", \"legendgroup\": \"\", \"marker\": {\"color\": [459051, 465144, 595608, 1039687, 851872, 698124, 589666, 750572, 786976, 1295007, 516279, 419121, 608681, 363055, 711848, 508759, 2124653, 617113, 488463, 687732, 503455, 1365503, 570471, 565258, 493491, 767695, 580993, 584484, 649919, 586918, 553974, 364667, 605040, 530877, 636899, 665384, 1108146, 374364, 373493, 791880, 553656, 430658, 289227, 1185419, 1664653, 455970, 538727, 514116, 514929, 741161, 811423, 596883, 549816, 625154, 490049, 445094, 970245, 400418, 628682, 603050, 449257, 399789, 613094, 470928, 1173663, 905137, 468524, 853511, 1056967, 1522732, 1122495, 751872, 537021, 357541, 630831, 617950, 480175, 547683, 396699, 569905, 365097, 352394, 942804, 651643, 567617, 778847, 641047, 514978, 978565, 572689, 415214, 587723, 614092, 617169, 866003, 632812, 564303, 903121, 519686, 1065811, 546413, 502460, 481110, 708369, 1522193, 523738, 768420, 600017, 459085, 622827, 633325, 1390616, 523359, 766124, 492616, 333230, 927404, 523150, 355293, 743901, 860610, 490119, 524540, 396189, 477762, 486204, 428703, 489659, 484811, 652845, 648794, 646210, 415478, 619910, 514874, 787760, 1127052, 1131888, 425769, 599698], \"coloraxis\": \"coloraxis\"}, \"name\": \"\", \"offsetgroup\": \"\", \"orientation\": \"v\", \"showlegend\": false, \"textposition\": \"auto\", \"type\": \"bar\", \"x\": [\"Agincourt North\", \"Agincourt South-Malvern West\", \"Alderwood\", \"Annex\", \"Banbury-Don Mills\", \"Bathurst Manor\", \"Bay Street Corridor\", \"Bayview Village\", \"Bayview Woods-Steeles\", \"Bedford Park-Nortown\", \"Beechborough-Greenbrook\", \"Bendale\", \"Birchcliffe-Cliffside\", \"Black Creek\", \"Blake-Jones\", \"Briar Hill-Belgravia\", \"Bridle Path-Sunnybrook-York Mills\", \"Broadview North\", \"Brookhaven-Amesbury\", \"Cabbagetown-South St.James Town\", \"Caledonia-Fairbank\", \"Casa Loma\", \"Centennial Scarborough\", \"Church-Yonge Corridor\", \"Clairlea-Birchmount\", \"Clanton Park\", \"Cliffcrest\", \"Corso Italia-Davenport\", \"Danforth\", \"Danforth-East York\", \"Don Valley Village\", \"Dorset Park\", \"Dovercourt-Wallace Emerson-Juncti\", \"Downsview-Roding-CFB\", \"Dufferin Grove\", \"East End-Danforth\", \"Edenbridge-Humber Valley\", \"Eglinton East\", \"Elms-Old Rexdale\", \"Englemount-Lawrence\", \"Eringate-Centennial-West Deane\", \"Etobicoke West Mall\", \"Flemingdon Park\", \"Forest Hill North\", \"Forest Hill South\", \"Glenfield-Jane Heights\", \"Greenwood-Coxwell\", \"Guildwood\", \"Henry Farm\", \"High Park North\", \"High Park-Swansea\", \"Highland Creek\", \"Hillcrest Village\", \"Humber Heights-Westmount\", \"Humber Summit\", \"Humbermede\", \"Humewood-Cedarvale\", \"Ionview\", \"Islington-City Centre West\", \"Junction Area\", \"Keelesdale-Eglinton West\", \"Kennedy Park\", \"Kensington-Chinatown\", \"Kingsview Village-The Westway\", \"Kingsway South\", \"L'Amoreaux\", \"Lambton Baby Point\", \"Lansing-Westgate\", \"Lawrence Park North\", \"Lawrence Park South\", \"Leaside-Bennington\", \"Little Portugal\", \"Long Branch\", \"Malvern\", \"Maple Leaf\", \"Markland Wood\", \"Milliken\", \"Mimico\", \"Morningside\", \"Moss Park\", \"Mount Dennis\", \"Mount Olive-Silverstone-Jamestown\", \"Mount Pleasant East\", \"Mount Pleasant West\", \"New Toronto\", \"Newtonbrook East\", \"Newtonbrook West\", \"Niagara\", \"North Riverdale\", \"North St.James Town\", \"O'Connor-Parkview\", \"Oakridge\", \"Oakwood Village\", \"Old East York\", \"Palmerston-Little Italy\", \"Parkwoods-Donalda\", \"Pelmo Park-Humberlea\", \"Playter Estates-Danforth\", \"Pleasant View\", \"Princess-Rosethorn\", \"Regent Park\", \"Rexdale-Kipling\", \"Rockcliffe-Smythe\", \"Roncesvalles\", \"Rosedale-Moore Park\", \"Rouge\", \"Runnymede-Bloor West Village\", \"Rustic\", \"Scarborough Village\", \"South Parkdale\", \"South Riverdale\", \"St.Andrew-Windfields\", \"Steeles\", \"Stonegate-Queensway\", \"Tam O'Shanter-Sullivan\", \"Taylor-Massey\", \"The Beaches\", \"Thistletown-Beaumond Heights\", \"Thorncliffe Park\", \"Trinity-Bellwoods\", \"University\", \"Victoria Village\", \"Waterfront Communities-The Island\", \"West Hill\", \"West Humber-Clairville\", \"Westminster-Branson\", \"Weston\", \"Weston-Pellam Park\", \"Wexford/Maryvale\", \"Willowdale East\", \"Willowdale West\", \"Willowridge-Martingrove-Richview\", \"Woburn\", \"Woodbine Corridor\", \"Woodbine-Lumsden\", \"Wychwood\", \"Yonge-Eglinton\", \"Yonge-St.Clair\", \"York University Heights\", \"Yorkdale-Glen Park\"], \"xaxis\": \"x\", \"y\": [459051, 465144, 595608, 1039687, 851872, 698124, 589666, 750572, 786976, 1295007, 516279, 419121, 608681, 363055, 711848, 508759, 2124653, 617113, 488463, 687732, 503455, 1365503, 570471, 565258, 493491, 767695, 580993, 584484, 649919, 586918, 553974, 364667, 605040, 530877, 636899, 665384, 1108146, 374364, 373493, 791880, 553656, 430658, 289227, 1185419, 1664653, 455970, 538727, 514116, 514929, 741161, 811423, 596883, 549816, 625154, 490049, 445094, 970245, 400418, 628682, 603050, 449257, 399789, 613094, 470928, 1173663, 905137, 468524, 853511, 1056967, 1522732, 1122495, 751872, 537021, 357541, 630831, 617950, 480175, 547683, 396699, 569905, 365097, 352394, 942804, 651643, 567617, 778847, 641047, 514978, 978565, 572689, 415214, 587723, 614092, 617169, 866003, 632812, 564303, 903121, 519686, 1065811, 546413, 502460, 481110, 708369, 1522193, 523738, 768420, 600017, 459085, 622827, 633325, 1390616, 523359, 766124, 492616, 333230, 927404, 523150, 355293, 743901, 860610, 490119, 524540, 396189, 477762, 486204, 428703, 489659, 484811, 652845, 648794, 646210, 415478, 619910, 514874, 787760, 1127052, 1131888, 425769, 599698], \"yaxis\": \"y\"}],\n",
       "                        {\"annotations\": [{\"font\": {}, \"showarrow\": false, \"text\": \"year=2016\", \"textangle\": 90, \"x\": 0.98, \"xanchor\": \"left\", \"xref\": \"paper\", \"y\": 0.11375, \"yanchor\": \"middle\", \"yref\": \"paper\"}, {\"font\": {}, \"showarrow\": false, \"text\": \"year=2011\", \"textangle\": 90, \"x\": 0.98, \"xanchor\": \"left\", \"xref\": \"paper\", \"y\": 0.37124999999999997, \"yanchor\": \"middle\", \"yref\": \"paper\"}, {\"font\": {}, \"showarrow\": false, \"text\": \"year=2006\", \"textangle\": 90, \"x\": 0.98, \"xanchor\": \"left\", \"xref\": \"paper\", \"y\": 0.62875, \"yanchor\": \"middle\", \"yref\": \"paper\"}, {\"font\": {}, \"showarrow\": false, \"text\": \"year=2001\", \"textangle\": 90, \"x\": 0.98, \"xanchor\": \"left\", \"xref\": \"paper\", \"y\": 0.88625, \"yanchor\": \"middle\", \"yref\": \"paper\"}], \"barmode\": \"relative\", \"coloraxis\": {\"colorbar\": {\"title\": {\"text\": \"Avg. House Value\"}}, \"colorscale\": [[0.0, \"#0d0887\"], [0.1111111111111111, \"#46039f\"], [0.2222222222222222, \"#7201a8\"], [0.3333333333333333, \"#9c179e\"], [0.4444444444444444, \"#bd3786\"], [0.5555555555555556, \"#d8576b\"], [0.6666666666666666, \"#ed7953\"], [0.7777777777777778, \"#fb9f3a\"], [0.8888888888888888, \"#fdca26\"], [1.0, \"#f0f921\"]]}, \"height\": 1024, \"legend\": {\"tracegroupgap\": 0}, \"template\": {\"data\": {\"bar\": [{\"error_x\": {\"color\": \"#2a3f5f\"}, \"error_y\": {\"color\": \"#2a3f5f\"}, \"marker\": {\"line\": {\"color\": \"#E5ECF6\", \"width\": 0.5}}, \"type\": \"bar\"}], \"barpolar\": [{\"marker\": {\"line\": {\"color\": \"#E5ECF6\", \"width\": 0.5}}, \"type\": \"barpolar\"}], \"carpet\": [{\"aaxis\": {\"endlinecolor\": \"#2a3f5f\", \"gridcolor\": \"white\", \"linecolor\": \"white\", \"minorgridcolor\": \"white\", \"startlinecolor\": \"#2a3f5f\"}, \"baxis\": {\"endlinecolor\": \"#2a3f5f\", \"gridcolor\": \"white\", \"linecolor\": \"white\", \"minorgridcolor\": \"white\", \"startlinecolor\": \"#2a3f5f\"}, \"type\": \"carpet\"}], \"choropleth\": [{\"colorbar\": {\"outlinewidth\": 0, \"ticks\": \"\"}, \"type\": \"choropleth\"}], \"contour\": [{\"colorbar\": {\"outlinewidth\": 0, \"ticks\": \"\"}, \"colorscale\": [[0.0, \"#0d0887\"], [0.1111111111111111, \"#46039f\"], [0.2222222222222222, \"#7201a8\"], [0.3333333333333333, \"#9c179e\"], [0.4444444444444444, \"#bd3786\"], [0.5555555555555556, \"#d8576b\"], [0.6666666666666666, \"#ed7953\"], [0.7777777777777778, \"#fb9f3a\"], [0.8888888888888888, \"#fdca26\"], [1.0, \"#f0f921\"]], \"type\": \"contour\"}], \"contourcarpet\": [{\"colorbar\": {\"outlinewidth\": 0, \"ticks\": \"\"}, \"type\": \"contourcarpet\"}], \"heatmap\": [{\"colorbar\": {\"outlinewidth\": 0, \"ticks\": \"\"}, \"colorscale\": [[0.0, \"#0d0887\"], [0.1111111111111111, \"#46039f\"], [0.2222222222222222, \"#7201a8\"], [0.3333333333333333, \"#9c179e\"], [0.4444444444444444, \"#bd3786\"], [0.5555555555555556, \"#d8576b\"], [0.6666666666666666, \"#ed7953\"], [0.7777777777777778, \"#fb9f3a\"], [0.8888888888888888, \"#fdca26\"], [1.0, \"#f0f921\"]], \"type\": \"heatmap\"}], \"heatmapgl\": [{\"colorbar\": {\"outlinewidth\": 0, \"ticks\": \"\"}, \"colorscale\": [[0.0, \"#0d0887\"], [0.1111111111111111, \"#46039f\"], [0.2222222222222222, \"#7201a8\"], [0.3333333333333333, \"#9c179e\"], [0.4444444444444444, \"#bd3786\"], [0.5555555555555556, \"#d8576b\"], [0.6666666666666666, \"#ed7953\"], [0.7777777777777778, \"#fb9f3a\"], [0.8888888888888888, \"#fdca26\"], [1.0, \"#f0f921\"]], \"type\": \"heatmapgl\"}], \"histogram\": [{\"marker\": {\"colorbar\": {\"outlinewidth\": 0, \"ticks\": \"\"}}, \"type\": \"histogram\"}], \"histogram2d\": [{\"colorbar\": {\"outlinewidth\": 0, \"ticks\": \"\"}, \"colorscale\": [[0.0, \"#0d0887\"], [0.1111111111111111, \"#46039f\"], [0.2222222222222222, \"#7201a8\"], [0.3333333333333333, \"#9c179e\"], [0.4444444444444444, \"#bd3786\"], [0.5555555555555556, \"#d8576b\"], [0.6666666666666666, \"#ed7953\"], [0.7777777777777778, \"#fb9f3a\"], [0.8888888888888888, \"#fdca26\"], [1.0, \"#f0f921\"]], \"type\": \"histogram2d\"}], \"histogram2dcontour\": [{\"colorbar\": {\"outlinewidth\": 0, \"ticks\": \"\"}, \"colorscale\": [[0.0, \"#0d0887\"], [0.1111111111111111, \"#46039f\"], [0.2222222222222222, \"#7201a8\"], [0.3333333333333333, \"#9c179e\"], [0.4444444444444444, \"#bd3786\"], [0.5555555555555556, \"#d8576b\"], [0.6666666666666666, \"#ed7953\"], [0.7777777777777778, \"#fb9f3a\"], [0.8888888888888888, \"#fdca26\"], [1.0, \"#f0f921\"]], \"type\": \"histogram2dcontour\"}], \"mesh3d\": [{\"colorbar\": {\"outlinewidth\": 0, \"ticks\": \"\"}, \"type\": \"mesh3d\"}], \"parcoords\": [{\"line\": {\"colorbar\": {\"outlinewidth\": 0, \"ticks\": \"\"}}, \"type\": \"parcoords\"}], \"pie\": [{\"automargin\": true, \"type\": \"pie\"}], \"scatter\": [{\"marker\": {\"colorbar\": {\"outlinewidth\": 0, \"ticks\": \"\"}}, \"type\": \"scatter\"}], \"scatter3d\": [{\"line\": {\"colorbar\": {\"outlinewidth\": 0, \"ticks\": \"\"}}, \"marker\": {\"colorbar\": {\"outlinewidth\": 0, \"ticks\": \"\"}}, \"type\": \"scatter3d\"}], \"scattercarpet\": [{\"marker\": {\"colorbar\": {\"outlinewidth\": 0, \"ticks\": \"\"}}, \"type\": \"scattercarpet\"}], \"scattergeo\": [{\"marker\": {\"colorbar\": {\"outlinewidth\": 0, \"ticks\": \"\"}}, \"type\": \"scattergeo\"}], \"scattergl\": [{\"marker\": {\"colorbar\": {\"outlinewidth\": 0, \"ticks\": \"\"}}, \"type\": \"scattergl\"}], \"scattermapbox\": [{\"marker\": {\"colorbar\": {\"outlinewidth\": 0, \"ticks\": \"\"}}, \"type\": \"scattermapbox\"}], \"scatterpolar\": [{\"marker\": {\"colorbar\": {\"outlinewidth\": 0, \"ticks\": \"\"}}, \"type\": \"scatterpolar\"}], \"scatterpolargl\": [{\"marker\": {\"colorbar\": {\"outlinewidth\": 0, \"ticks\": \"\"}}, \"type\": \"scatterpolargl\"}], \"scatterternary\": [{\"marker\": {\"colorbar\": {\"outlinewidth\": 0, \"ticks\": \"\"}}, \"type\": \"scatterternary\"}], \"surface\": [{\"colorbar\": {\"outlinewidth\": 0, \"ticks\": \"\"}, \"colorscale\": [[0.0, \"#0d0887\"], [0.1111111111111111, \"#46039f\"], [0.2222222222222222, \"#7201a8\"], [0.3333333333333333, \"#9c179e\"], [0.4444444444444444, \"#bd3786\"], [0.5555555555555556, \"#d8576b\"], [0.6666666666666666, \"#ed7953\"], [0.7777777777777778, \"#fb9f3a\"], [0.8888888888888888, \"#fdca26\"], [1.0, \"#f0f921\"]], \"type\": \"surface\"}], \"table\": [{\"cells\": {\"fill\": {\"color\": \"#EBF0F8\"}, \"line\": {\"color\": \"white\"}}, \"header\": {\"fill\": {\"color\": \"#C8D4E3\"}, \"line\": {\"color\": \"white\"}}, \"type\": \"table\"}]}, \"layout\": {\"annotationdefaults\": {\"arrowcolor\": \"#2a3f5f\", \"arrowhead\": 0, \"arrowwidth\": 1}, \"coloraxis\": {\"colorbar\": {\"outlinewidth\": 0, \"ticks\": \"\"}}, \"colorscale\": {\"diverging\": [[0, \"#8e0152\"], [0.1, \"#c51b7d\"], [0.2, \"#de77ae\"], [0.3, \"#f1b6da\"], [0.4, \"#fde0ef\"], [0.5, \"#f7f7f7\"], [0.6, \"#e6f5d0\"], [0.7, \"#b8e186\"], [0.8, \"#7fbc41\"], [0.9, \"#4d9221\"], [1, \"#276419\"]], \"sequential\": [[0.0, \"#0d0887\"], [0.1111111111111111, \"#46039f\"], [0.2222222222222222, \"#7201a8\"], [0.3333333333333333, \"#9c179e\"], [0.4444444444444444, \"#bd3786\"], [0.5555555555555556, \"#d8576b\"], [0.6666666666666666, \"#ed7953\"], [0.7777777777777778, \"#fb9f3a\"], [0.8888888888888888, \"#fdca26\"], [1.0, \"#f0f921\"]], \"sequentialminus\": [[0.0, \"#0d0887\"], [0.1111111111111111, \"#46039f\"], [0.2222222222222222, \"#7201a8\"], [0.3333333333333333, \"#9c179e\"], [0.4444444444444444, \"#bd3786\"], [0.5555555555555556, \"#d8576b\"], [0.6666666666666666, \"#ed7953\"], [0.7777777777777778, \"#fb9f3a\"], [0.8888888888888888, \"#fdca26\"], [1.0, \"#f0f921\"]]}, \"colorway\": [\"#636efa\", \"#EF553B\", \"#00cc96\", \"#ab63fa\", \"#FFA15A\", \"#19d3f3\", \"#FF6692\", \"#B6E880\", \"#FF97FF\", \"#FECB52\"], \"font\": {\"color\": \"#2a3f5f\"}, \"geo\": {\"bgcolor\": \"white\", \"lakecolor\": \"white\", \"landcolor\": \"#E5ECF6\", \"showlakes\": true, \"showland\": true, \"subunitcolor\": \"white\"}, \"hoverlabel\": {\"align\": \"left\"}, \"hovermode\": \"closest\", \"mapbox\": {\"style\": \"light\"}, \"paper_bgcolor\": \"white\", \"plot_bgcolor\": \"#E5ECF6\", \"polar\": {\"angularaxis\": {\"gridcolor\": \"white\", \"linecolor\": \"white\", \"ticks\": \"\"}, \"bgcolor\": \"#E5ECF6\", \"radialaxis\": {\"gridcolor\": \"white\", \"linecolor\": \"white\", \"ticks\": \"\"}}, \"scene\": {\"xaxis\": {\"backgroundcolor\": \"#E5ECF6\", \"gridcolor\": \"white\", \"gridwidth\": 2, \"linecolor\": \"white\", \"showbackground\": true, \"ticks\": \"\", \"zerolinecolor\": \"white\"}, \"yaxis\": {\"backgroundcolor\": \"#E5ECF6\", \"gridcolor\": \"white\", \"gridwidth\": 2, \"linecolor\": \"white\", \"showbackground\": true, \"ticks\": \"\", \"zerolinecolor\": \"white\"}, \"zaxis\": {\"backgroundcolor\": \"#E5ECF6\", \"gridcolor\": \"white\", \"gridwidth\": 2, \"linecolor\": \"white\", \"showbackground\": true, \"ticks\": \"\", \"zerolinecolor\": \"white\"}}, \"shapedefaults\": {\"line\": {\"color\": \"#2a3f5f\"}}, \"ternary\": {\"aaxis\": {\"gridcolor\": \"white\", \"linecolor\": \"white\", \"ticks\": \"\"}, \"baxis\": {\"gridcolor\": \"white\", \"linecolor\": \"white\", \"ticks\": \"\"}, \"bgcolor\": \"#E5ECF6\", \"caxis\": {\"gridcolor\": \"white\", \"linecolor\": \"white\", \"ticks\": \"\"}}, \"title\": {\"x\": 0.05}, \"xaxis\": {\"automargin\": true, \"gridcolor\": \"white\", \"linecolor\": \"white\", \"ticks\": \"\", \"title\": {\"standoff\": 15}, \"zerolinecolor\": \"white\", \"zerolinewidth\": 2}, \"yaxis\": {\"automargin\": true, \"gridcolor\": \"white\", \"linecolor\": \"white\", \"ticks\": \"\", \"title\": {\"standoff\": 15}, \"zerolinecolor\": \"white\", \"zerolinewidth\": 2}}}, \"title\": {\"text\": \"Average House Values in Toronto per Neighbourhood\"}, \"xaxis\": {\"anchor\": \"y\", \"domain\": [0.0, 0.98], \"title\": {\"text\": \"Neighbourhoods\"}}, \"xaxis2\": {\"anchor\": \"y2\", \"domain\": [0.0, 0.98], \"matches\": \"x\", \"showticklabels\": false}, \"xaxis3\": {\"anchor\": \"y3\", \"domain\": [0.0, 0.98], \"matches\": \"x\", \"showticklabels\": false}, \"xaxis4\": {\"anchor\": \"y4\", \"domain\": [0.0, 0.98], \"matches\": \"x\", \"showticklabels\": false}, \"yaxis\": {\"anchor\": \"x\", \"domain\": [0.0, 0.2275], \"title\": {\"text\": \"Avg. House Value\"}}, \"yaxis2\": {\"anchor\": \"x2\", \"domain\": [0.2575, 0.485], \"matches\": \"y\", \"title\": {\"text\": \"Avg. House Value\"}}, \"yaxis3\": {\"anchor\": \"x3\", \"domain\": [0.515, 0.7425], \"matches\": \"y\", \"title\": {\"text\": \"Avg. House Value\"}}, \"yaxis4\": {\"anchor\": \"x4\", \"domain\": [0.7725, 1.0], \"matches\": \"y\", \"title\": {\"text\": \"Avg. House Value\"}}},\n",
       "                        {\"responsive\": true}\n",
       "                    ).then(function(){\n",
       "                            \n",
       "var gd = document.getElementById('24b6f220-d63c-4d5e-866b-af04270df0c1');\n",
       "var x = new MutationObserver(function (mutations, observer) {{\n",
       "        var display = window.getComputedStyle(gd).display;\n",
       "        if (!display || display === 'none') {{\n",
       "            console.log([gd, 'removed!']);\n",
       "            Plotly.purge(gd);\n",
       "            observer.disconnect();\n",
       "        }}\n",
       "}});\n",
       "\n",
       "// Listen for the removal of the full notebook cells\n",
       "var notebookContainer = gd.closest('#notebook-container');\n",
       "if (notebookContainer) {{\n",
       "    x.observe(notebookContainer, {childList: true});\n",
       "}}\n",
       "\n",
       "// Listen for the clearing of the current output cell\n",
       "var outputEl = gd.closest('.output');\n",
       "if (outputEl) {{\n",
       "    x.observe(outputEl, {childList: true});\n",
       "}}\n",
       "\n",
       "                        })\n",
       "                };\n",
       "                });\n",
       "            </script>\n",
       "        </div>"
      ]
     },
     "metadata": {},
     "output_type": "display_data"
    }
   ],
   "source": [
    "# YOUR CODE HERE!"
   ]
  },
  {
   "cell_type": "markdown",
   "metadata": {},
   "source": [
    "### Create a sunburst chart to conduct a costs analysis of most expensive neighbourhoods in Toronto per year"
   ]
  },
  {
   "cell_type": "code",
   "execution_count": 24,
   "metadata": {},
   "outputs": [
    {
     "data": {
      "text/html": [
       "<div>\n",
       "<style scoped>\n",
       "    .dataframe tbody tr th:only-of-type {\n",
       "        vertical-align: middle;\n",
       "    }\n",
       "\n",
       "    .dataframe tbody tr th {\n",
       "        vertical-align: top;\n",
       "    }\n",
       "\n",
       "    .dataframe thead th {\n",
       "        text-align: right;\n",
       "    }\n",
       "</style>\n",
       "<table border=\"1\" class=\"dataframe\">\n",
       "  <thead>\n",
       "    <tr style=\"text-align: right;\">\n",
       "      <th></th>\n",
       "      <th>year</th>\n",
       "      <th>neighbourhood</th>\n",
       "      <th>single_detached_house</th>\n",
       "      <th>apartment_five_storeys_plus</th>\n",
       "      <th>movable_dwelling</th>\n",
       "      <th>semi_detached_house</th>\n",
       "      <th>row_house</th>\n",
       "      <th>duplex</th>\n",
       "      <th>apartment_five_storeys_less</th>\n",
       "      <th>other_house</th>\n",
       "      <th>average_house_value</th>\n",
       "      <th>shelter_costs_owned</th>\n",
       "      <th>shelter_costs_rented</th>\n",
       "    </tr>\n",
       "  </thead>\n",
       "  <tbody>\n",
       "    <tr>\n",
       "      <th>0</th>\n",
       "      <td>2001</td>\n",
       "      <td>Bedford Park-Nortown</td>\n",
       "      <td>4985</td>\n",
       "      <td>2080</td>\n",
       "      <td>0</td>\n",
       "      <td>45</td>\n",
       "      <td>40</td>\n",
       "      <td>210</td>\n",
       "      <td>1235</td>\n",
       "      <td>15</td>\n",
       "      <td>565304</td>\n",
       "      <td>933</td>\n",
       "      <td>1491</td>\n",
       "    </tr>\n",
       "    <tr>\n",
       "      <th>1</th>\n",
       "      <td>2001</td>\n",
       "      <td>Bridle Path-Sunnybrook-York Mills</td>\n",
       "      <td>2275</td>\n",
       "      <td>110</td>\n",
       "      <td>0</td>\n",
       "      <td>25</td>\n",
       "      <td>15</td>\n",
       "      <td>10</td>\n",
       "      <td>20</td>\n",
       "      <td>0</td>\n",
       "      <td>927466</td>\n",
       "      <td>1983</td>\n",
       "      <td>1790</td>\n",
       "    </tr>\n",
       "    <tr>\n",
       "      <th>2</th>\n",
       "      <td>2001</td>\n",
       "      <td>Casa Loma</td>\n",
       "      <td>1035</td>\n",
       "      <td>1700</td>\n",
       "      <td>0</td>\n",
       "      <td>415</td>\n",
       "      <td>190</td>\n",
       "      <td>185</td>\n",
       "      <td>1090</td>\n",
       "      <td>5</td>\n",
       "      <td>596077</td>\n",
       "      <td>1241</td>\n",
       "      <td>1500</td>\n",
       "    </tr>\n",
       "    <tr>\n",
       "      <th>3</th>\n",
       "      <td>2001</td>\n",
       "      <td>Forest Hill North</td>\n",
       "      <td>1565</td>\n",
       "      <td>3380</td>\n",
       "      <td>0</td>\n",
       "      <td>10</td>\n",
       "      <td>0</td>\n",
       "      <td>0</td>\n",
       "      <td>485</td>\n",
       "      <td>5</td>\n",
       "      <td>517466</td>\n",
       "      <td>940</td>\n",
       "      <td>1428</td>\n",
       "    </tr>\n",
       "    <tr>\n",
       "      <th>4</th>\n",
       "      <td>2001</td>\n",
       "      <td>Forest Hill South</td>\n",
       "      <td>1815</td>\n",
       "      <td>2440</td>\n",
       "      <td>5</td>\n",
       "      <td>65</td>\n",
       "      <td>45</td>\n",
       "      <td>85</td>\n",
       "      <td>1010</td>\n",
       "      <td>15</td>\n",
       "      <td>726664</td>\n",
       "      <td>1001</td>\n",
       "      <td>1469</td>\n",
       "    </tr>\n",
       "  </tbody>\n",
       "</table>\n",
       "</div>"
      ],
      "text/plain": [
       "   year                      neighbourhood  single_detached_house  \\\n",
       "0  2001               Bedford Park-Nortown                   4985   \n",
       "1  2001  Bridle Path-Sunnybrook-York Mills                   2275   \n",
       "2  2001                          Casa Loma                   1035   \n",
       "3  2001                  Forest Hill North                   1565   \n",
       "4  2001                  Forest Hill South                   1815   \n",
       "\n",
       "   apartment_five_storeys_plus  movable_dwelling  semi_detached_house  \\\n",
       "0                         2080                 0                   45   \n",
       "1                          110                 0                   25   \n",
       "2                         1700                 0                  415   \n",
       "3                         3380                 0                   10   \n",
       "4                         2440                 5                   65   \n",
       "\n",
       "   row_house  duplex  apartment_five_storeys_less  other_house  \\\n",
       "0         40     210                         1235           15   \n",
       "1         15      10                           20            0   \n",
       "2        190     185                         1090            5   \n",
       "3          0       0                          485            5   \n",
       "4         45      85                         1010           15   \n",
       "\n",
       "   average_house_value  shelter_costs_owned  shelter_costs_rented  \n",
       "0               565304                  933                  1491  \n",
       "1               927466                 1983                  1790  \n",
       "2               596077                 1241                  1500  \n",
       "3               517466                  940                  1428  \n",
       "4               726664                 1001                  1469  "
      ]
     },
     "execution_count": 24,
     "metadata": {},
     "output_type": "execute_result"
    }
   ],
   "source": [
    "# Fetch the data from all expensive neighbourhoods per year.\n",
    "# YOUR CODE HERE!"
   ]
  },
  {
   "cell_type": "code",
   "execution_count": 25,
   "metadata": {},
   "outputs": [
    {
     "data": {
      "application/vnd.plotly.v1+json": {
       "config": {
        "plotlyServerURL": "https://plotly.com"
       },
       "data": [
        {
         "branchvalues": "total",
         "customdata": [
          [
           933,
           1491,
           933
          ],
          [
           1808,
           1020,
           1808
          ],
          [
           1988,
           1124,
           1988
          ],
          [
           2418,
           1385,
           2418
          ],
          [
           1983,
           1790,
           1983
          ],
          [
           2170,
           2167,
           2170
          ],
          [
           2387,
           2388,
           2387
          ],
          [
           2903,
           2942,
           2903
          ],
          [
           1241,
           1500,
           1241
          ],
          [
           1819,
           1356,
           1819
          ],
          [
           2001,
           1494,
           2001
          ],
          [
           2434,
           1841,
           2434
          ],
          [
           940,
           1428,
           940
          ],
          [
           1731,
           1027,
           1731
          ],
          [
           1904,
           1132,
           1904
          ],
          [
           2316,
           1395,
           2316
          ],
          [
           1001,
           1469,
           1001
          ],
          [
           1781,
           1094,
           1781
          ],
          [
           1959,
           1206,
           1959
          ],
          [
           2383,
           1486,
           2383
          ],
          [
           1362,
           1340,
           1362
          ],
          [
           1625,
           1488,
           1625
          ],
          [
           1787,
           1640,
           1787
          ],
          [
           2173,
           2020,
           2173
          ],
          [
           1021,
           1630,
           1021
          ],
          [
           1977,
           1116,
           1977
          ],
          [
           2174,
           1230,
           2174
          ],
          [
           2644,
           1515,
           2644
          ],
          [
           1219,
           1540,
           1219
          ],
          [
           1868,
           1332,
           1868
          ],
          [
           2054,
           1468,
           2054
          ],
          [
           2498,
           1809,
           2498
          ],
          [
           1055,
           1551,
           1055
          ],
          [
           1881,
           1152,
           1881
          ],
          [
           2069,
           1270,
           2069
          ],
          [
           2516,
           1565,
           2516
          ],
          [
           1091,
           1351,
           1091
          ],
          [
           1638,
           1192,
           1638
          ],
          [
           1802,
           1314,
           1802
          ],
          [
           2192,
           1619,
           2192
          ],
          [
           "(?)",
           "(?)",
           1224.7502831983431
          ],
          [
           "(?)",
           "(?)",
           1856.058787788345
          ],
          [
           "(?)",
           "(?)",
           2041.3886794989783
          ],
          [
           "(?)",
           "(?)",
           2482.826591451349
          ]
         ],
         "domain": {
          "x": [
           0,
           1
          ],
          "y": [
           0,
           1
          ]
         },
         "hovertemplate": "labels=%{label}<br>average_house_value=%{value}<br>parent=%{parent}<br>id=%{id}<br>shelter_costs_owned=%{customdata[0]}<br>shelter_costs_rented=%{customdata[1]}<br>shelter_costs_ownedadditional_col_for_hover=%{color}<extra></extra>",
         "ids": [
          "2001/Bedford Park-Nortown",
          "2006/Bedford Park-Nortown",
          "2011/Bedford Park-Nortown",
          "2016/Bedford Park-Nortown",
          "2001/Bridle Path-Sunnybrook-York Mills",
          "2006/Bridle Path-Sunnybrook-York Mills",
          "2011/Bridle Path-Sunnybrook-York Mills",
          "2016/Bridle Path-Sunnybrook-York Mills",
          "2001/Casa Loma",
          "2006/Casa Loma",
          "2011/Casa Loma",
          "2016/Casa Loma",
          "2001/Forest Hill North",
          "2006/Forest Hill North",
          "2011/Forest Hill North",
          "2016/Forest Hill North",
          "2001/Forest Hill South",
          "2006/Forest Hill South",
          "2011/Forest Hill South",
          "2016/Forest Hill South",
          "2001/Kingsway South",
          "2006/Kingsway South",
          "2011/Kingsway South",
          "2016/Kingsway South",
          "2001/Lawrence Park South",
          "2006/Lawrence Park South",
          "2011/Lawrence Park South",
          "2016/Lawrence Park South",
          "2001/Rosedale-Moore Park",
          "2006/Rosedale-Moore Park",
          "2011/Rosedale-Moore Park",
          "2016/Rosedale-Moore Park",
          "2001/St.Andrew-Windfields",
          "2006/St.Andrew-Windfields",
          "2011/St.Andrew-Windfields",
          "2016/St.Andrew-Windfields",
          "2001/Yonge-St.Clair",
          "2006/Yonge-St.Clair",
          "2011/Yonge-St.Clair",
          "2016/Yonge-St.Clair",
          "2001",
          "2006",
          "2011",
          "2016"
         ],
         "labels": [
          "Bedford Park-Nortown",
          "Bedford Park-Nortown",
          "Bedford Park-Nortown",
          "Bedford Park-Nortown",
          "Bridle Path-Sunnybrook-York Mills",
          "Bridle Path-Sunnybrook-York Mills",
          "Bridle Path-Sunnybrook-York Mills",
          "Bridle Path-Sunnybrook-York Mills",
          "Casa Loma",
          "Casa Loma",
          "Casa Loma",
          "Casa Loma",
          "Forest Hill North",
          "Forest Hill North",
          "Forest Hill North",
          "Forest Hill North",
          "Forest Hill South",
          "Forest Hill South",
          "Forest Hill South",
          "Forest Hill South",
          "Kingsway South",
          "Kingsway South",
          "Kingsway South",
          "Kingsway South",
          "Lawrence Park South",
          "Lawrence Park South",
          "Lawrence Park South",
          "Lawrence Park South",
          "Rosedale-Moore Park",
          "Rosedale-Moore Park",
          "Rosedale-Moore Park",
          "Rosedale-Moore Park",
          "St.Andrew-Windfields",
          "St.Andrew-Windfields",
          "St.Andrew-Windfields",
          "St.Andrew-Windfields",
          "Yonge-St.Clair",
          "Yonge-St.Clair",
          "Yonge-St.Clair",
          "Yonge-St.Clair",
          "2001",
          "2006",
          "2011",
          "2016"
         ],
         "marker": {
          "coloraxis": "coloraxis",
          "colors": [
           933,
           1808,
           1988,
           2418,
           1983,
           2170,
           2387,
           2903,
           1241,
           1819,
           2001,
           2434,
           940,
           1731,
           1904,
           2316,
           1001,
           1781,
           1959,
           2383,
           1362,
           1625,
           1787,
           2173,
           1021,
           1977,
           2174,
           2644,
           1219,
           1868,
           2054,
           2498,
           1055,
           1881,
           2069,
           2516,
           1091,
           1638,
           1802,
           2192,
           1224.7502831983431,
           1856.058787788345,
           2041.3886794989783,
           2482.826591451349
          ]
         },
         "name": "",
         "parents": [
          "2001",
          "2006",
          "2011",
          "2016",
          "2001",
          "2006",
          "2011",
          "2016",
          "2001",
          "2006",
          "2011",
          "2016",
          "2001",
          "2006",
          "2011",
          "2016",
          "2001",
          "2006",
          "2011",
          "2016",
          "2001",
          "2006",
          "2011",
          "2016",
          "2001",
          "2006",
          "2011",
          "2016",
          "2001",
          "2006",
          "2011",
          "2016",
          "2001",
          "2006",
          "2011",
          "2016",
          "2001",
          "2006",
          "2011",
          "2016",
          "",
          "",
          "",
          ""
         ],
         "type": "sunburst",
         "values": [
          565304,
          826963,
          1034387,
          1295007,
          927466,
          1356757,
          1697067,
          2124653,
          596077,
          871981,
          1090696,
          1365503,
          517466,
          756983,
          946854,
          1185419,
          726664,
          1063011,
          1329642,
          1664653,
          512334,
          749476,
          937464,
          1173663,
          664712,
          972384,
          1216283,
          1522732,
          664476,
          972039,
          1215852,
          1522193,
          607040,
          888017,
          1110755,
          1390616,
          494098,
          722799,
          904096,
          1131888,
          6275637,
          9180410,
          11483096,
          14376327
         ]
        }
       ],
       "layout": {
        "autosize": true,
        "coloraxis": {
         "colorbar": {
          "title": {
           "text": "shelter_costs_ownedadditional_col_for_hover"
          }
         },
         "colorscale": [
          [
           0,
           "rgb(247,251,255)"
          ],
          [
           0.125,
           "rgb(222,235,247)"
          ],
          [
           0.25,
           "rgb(198,219,239)"
          ],
          [
           0.375,
           "rgb(158,202,225)"
          ],
          [
           0.5,
           "rgb(107,174,214)"
          ],
          [
           0.625,
           "rgb(66,146,198)"
          ],
          [
           0.75,
           "rgb(33,113,181)"
          ],
          [
           0.875,
           "rgb(8,81,156)"
          ],
          [
           1,
           "rgb(8,48,107)"
          ]
         ]
        },
        "legend": {
         "tracegroupgap": 0
        },
        "template": {
         "data": {
          "bar": [
           {
            "error_x": {
             "color": "#2a3f5f"
            },
            "error_y": {
             "color": "#2a3f5f"
            },
            "marker": {
             "line": {
              "color": "#E5ECF6",
              "width": 0.5
             }
            },
            "type": "bar"
           }
          ],
          "barpolar": [
           {
            "marker": {
             "line": {
              "color": "#E5ECF6",
              "width": 0.5
             }
            },
            "type": "barpolar"
           }
          ],
          "carpet": [
           {
            "aaxis": {
             "endlinecolor": "#2a3f5f",
             "gridcolor": "white",
             "linecolor": "white",
             "minorgridcolor": "white",
             "startlinecolor": "#2a3f5f"
            },
            "baxis": {
             "endlinecolor": "#2a3f5f",
             "gridcolor": "white",
             "linecolor": "white",
             "minorgridcolor": "white",
             "startlinecolor": "#2a3f5f"
            },
            "type": "carpet"
           }
          ],
          "choropleth": [
           {
            "colorbar": {
             "outlinewidth": 0,
             "ticks": ""
            },
            "type": "choropleth"
           }
          ],
          "contour": [
           {
            "colorbar": {
             "outlinewidth": 0,
             "ticks": ""
            },
            "colorscale": [
             [
              0,
              "#0d0887"
             ],
             [
              0.1111111111111111,
              "#46039f"
             ],
             [
              0.2222222222222222,
              "#7201a8"
             ],
             [
              0.3333333333333333,
              "#9c179e"
             ],
             [
              0.4444444444444444,
              "#bd3786"
             ],
             [
              0.5555555555555556,
              "#d8576b"
             ],
             [
              0.6666666666666666,
              "#ed7953"
             ],
             [
              0.7777777777777778,
              "#fb9f3a"
             ],
             [
              0.8888888888888888,
              "#fdca26"
             ],
             [
              1,
              "#f0f921"
             ]
            ],
            "type": "contour"
           }
          ],
          "contourcarpet": [
           {
            "colorbar": {
             "outlinewidth": 0,
             "ticks": ""
            },
            "type": "contourcarpet"
           }
          ],
          "heatmap": [
           {
            "colorbar": {
             "outlinewidth": 0,
             "ticks": ""
            },
            "colorscale": [
             [
              0,
              "#0d0887"
             ],
             [
              0.1111111111111111,
              "#46039f"
             ],
             [
              0.2222222222222222,
              "#7201a8"
             ],
             [
              0.3333333333333333,
              "#9c179e"
             ],
             [
              0.4444444444444444,
              "#bd3786"
             ],
             [
              0.5555555555555556,
              "#d8576b"
             ],
             [
              0.6666666666666666,
              "#ed7953"
             ],
             [
              0.7777777777777778,
              "#fb9f3a"
             ],
             [
              0.8888888888888888,
              "#fdca26"
             ],
             [
              1,
              "#f0f921"
             ]
            ],
            "type": "heatmap"
           }
          ],
          "heatmapgl": [
           {
            "colorbar": {
             "outlinewidth": 0,
             "ticks": ""
            },
            "colorscale": [
             [
              0,
              "#0d0887"
             ],
             [
              0.1111111111111111,
              "#46039f"
             ],
             [
              0.2222222222222222,
              "#7201a8"
             ],
             [
              0.3333333333333333,
              "#9c179e"
             ],
             [
              0.4444444444444444,
              "#bd3786"
             ],
             [
              0.5555555555555556,
              "#d8576b"
             ],
             [
              0.6666666666666666,
              "#ed7953"
             ],
             [
              0.7777777777777778,
              "#fb9f3a"
             ],
             [
              0.8888888888888888,
              "#fdca26"
             ],
             [
              1,
              "#f0f921"
             ]
            ],
            "type": "heatmapgl"
           }
          ],
          "histogram": [
           {
            "marker": {
             "colorbar": {
              "outlinewidth": 0,
              "ticks": ""
             }
            },
            "type": "histogram"
           }
          ],
          "histogram2d": [
           {
            "colorbar": {
             "outlinewidth": 0,
             "ticks": ""
            },
            "colorscale": [
             [
              0,
              "#0d0887"
             ],
             [
              0.1111111111111111,
              "#46039f"
             ],
             [
              0.2222222222222222,
              "#7201a8"
             ],
             [
              0.3333333333333333,
              "#9c179e"
             ],
             [
              0.4444444444444444,
              "#bd3786"
             ],
             [
              0.5555555555555556,
              "#d8576b"
             ],
             [
              0.6666666666666666,
              "#ed7953"
             ],
             [
              0.7777777777777778,
              "#fb9f3a"
             ],
             [
              0.8888888888888888,
              "#fdca26"
             ],
             [
              1,
              "#f0f921"
             ]
            ],
            "type": "histogram2d"
           }
          ],
          "histogram2dcontour": [
           {
            "colorbar": {
             "outlinewidth": 0,
             "ticks": ""
            },
            "colorscale": [
             [
              0,
              "#0d0887"
             ],
             [
              0.1111111111111111,
              "#46039f"
             ],
             [
              0.2222222222222222,
              "#7201a8"
             ],
             [
              0.3333333333333333,
              "#9c179e"
             ],
             [
              0.4444444444444444,
              "#bd3786"
             ],
             [
              0.5555555555555556,
              "#d8576b"
             ],
             [
              0.6666666666666666,
              "#ed7953"
             ],
             [
              0.7777777777777778,
              "#fb9f3a"
             ],
             [
              0.8888888888888888,
              "#fdca26"
             ],
             [
              1,
              "#f0f921"
             ]
            ],
            "type": "histogram2dcontour"
           }
          ],
          "mesh3d": [
           {
            "colorbar": {
             "outlinewidth": 0,
             "ticks": ""
            },
            "type": "mesh3d"
           }
          ],
          "parcoords": [
           {
            "line": {
             "colorbar": {
              "outlinewidth": 0,
              "ticks": ""
             }
            },
            "type": "parcoords"
           }
          ],
          "pie": [
           {
            "automargin": true,
            "type": "pie"
           }
          ],
          "scatter": [
           {
            "marker": {
             "colorbar": {
              "outlinewidth": 0,
              "ticks": ""
             }
            },
            "type": "scatter"
           }
          ],
          "scatter3d": [
           {
            "line": {
             "colorbar": {
              "outlinewidth": 0,
              "ticks": ""
             }
            },
            "marker": {
             "colorbar": {
              "outlinewidth": 0,
              "ticks": ""
             }
            },
            "type": "scatter3d"
           }
          ],
          "scattercarpet": [
           {
            "marker": {
             "colorbar": {
              "outlinewidth": 0,
              "ticks": ""
             }
            },
            "type": "scattercarpet"
           }
          ],
          "scattergeo": [
           {
            "marker": {
             "colorbar": {
              "outlinewidth": 0,
              "ticks": ""
             }
            },
            "type": "scattergeo"
           }
          ],
          "scattergl": [
           {
            "marker": {
             "colorbar": {
              "outlinewidth": 0,
              "ticks": ""
             }
            },
            "type": "scattergl"
           }
          ],
          "scattermapbox": [
           {
            "marker": {
             "colorbar": {
              "outlinewidth": 0,
              "ticks": ""
             }
            },
            "type": "scattermapbox"
           }
          ],
          "scatterpolar": [
           {
            "marker": {
             "colorbar": {
              "outlinewidth": 0,
              "ticks": ""
             }
            },
            "type": "scatterpolar"
           }
          ],
          "scatterpolargl": [
           {
            "marker": {
             "colorbar": {
              "outlinewidth": 0,
              "ticks": ""
             }
            },
            "type": "scatterpolargl"
           }
          ],
          "scatterternary": [
           {
            "marker": {
             "colorbar": {
              "outlinewidth": 0,
              "ticks": ""
             }
            },
            "type": "scatterternary"
           }
          ],
          "surface": [
           {
            "colorbar": {
             "outlinewidth": 0,
             "ticks": ""
            },
            "colorscale": [
             [
              0,
              "#0d0887"
             ],
             [
              0.1111111111111111,
              "#46039f"
             ],
             [
              0.2222222222222222,
              "#7201a8"
             ],
             [
              0.3333333333333333,
              "#9c179e"
             ],
             [
              0.4444444444444444,
              "#bd3786"
             ],
             [
              0.5555555555555556,
              "#d8576b"
             ],
             [
              0.6666666666666666,
              "#ed7953"
             ],
             [
              0.7777777777777778,
              "#fb9f3a"
             ],
             [
              0.8888888888888888,
              "#fdca26"
             ],
             [
              1,
              "#f0f921"
             ]
            ],
            "type": "surface"
           }
          ],
          "table": [
           {
            "cells": {
             "fill": {
              "color": "#EBF0F8"
             },
             "line": {
              "color": "white"
             }
            },
            "header": {
             "fill": {
              "color": "#C8D4E3"
             },
             "line": {
              "color": "white"
             }
            },
            "type": "table"
           }
          ]
         },
         "layout": {
          "annotationdefaults": {
           "arrowcolor": "#2a3f5f",
           "arrowhead": 0,
           "arrowwidth": 1
          },
          "coloraxis": {
           "colorbar": {
            "outlinewidth": 0,
            "ticks": ""
           }
          },
          "colorscale": {
           "diverging": [
            [
             0,
             "#8e0152"
            ],
            [
             0.1,
             "#c51b7d"
            ],
            [
             0.2,
             "#de77ae"
            ],
            [
             0.3,
             "#f1b6da"
            ],
            [
             0.4,
             "#fde0ef"
            ],
            [
             0.5,
             "#f7f7f7"
            ],
            [
             0.6,
             "#e6f5d0"
            ],
            [
             0.7,
             "#b8e186"
            ],
            [
             0.8,
             "#7fbc41"
            ],
            [
             0.9,
             "#4d9221"
            ],
            [
             1,
             "#276419"
            ]
           ],
           "sequential": [
            [
             0,
             "#0d0887"
            ],
            [
             0.1111111111111111,
             "#46039f"
            ],
            [
             0.2222222222222222,
             "#7201a8"
            ],
            [
             0.3333333333333333,
             "#9c179e"
            ],
            [
             0.4444444444444444,
             "#bd3786"
            ],
            [
             0.5555555555555556,
             "#d8576b"
            ],
            [
             0.6666666666666666,
             "#ed7953"
            ],
            [
             0.7777777777777778,
             "#fb9f3a"
            ],
            [
             0.8888888888888888,
             "#fdca26"
            ],
            [
             1,
             "#f0f921"
            ]
           ],
           "sequentialminus": [
            [
             0,
             "#0d0887"
            ],
            [
             0.1111111111111111,
             "#46039f"
            ],
            [
             0.2222222222222222,
             "#7201a8"
            ],
            [
             0.3333333333333333,
             "#9c179e"
            ],
            [
             0.4444444444444444,
             "#bd3786"
            ],
            [
             0.5555555555555556,
             "#d8576b"
            ],
            [
             0.6666666666666666,
             "#ed7953"
            ],
            [
             0.7777777777777778,
             "#fb9f3a"
            ],
            [
             0.8888888888888888,
             "#fdca26"
            ],
            [
             1,
             "#f0f921"
            ]
           ]
          },
          "colorway": [
           "#636efa",
           "#EF553B",
           "#00cc96",
           "#ab63fa",
           "#FFA15A",
           "#19d3f3",
           "#FF6692",
           "#B6E880",
           "#FF97FF",
           "#FECB52"
          ],
          "font": {
           "color": "#2a3f5f"
          },
          "geo": {
           "bgcolor": "white",
           "lakecolor": "white",
           "landcolor": "#E5ECF6",
           "showlakes": true,
           "showland": true,
           "subunitcolor": "white"
          },
          "hoverlabel": {
           "align": "left"
          },
          "hovermode": "closest",
          "mapbox": {
           "style": "light"
          },
          "paper_bgcolor": "white",
          "plot_bgcolor": "#E5ECF6",
          "polar": {
           "angularaxis": {
            "gridcolor": "white",
            "linecolor": "white",
            "ticks": ""
           },
           "bgcolor": "#E5ECF6",
           "radialaxis": {
            "gridcolor": "white",
            "linecolor": "white",
            "ticks": ""
           }
          },
          "scene": {
           "xaxis": {
            "backgroundcolor": "#E5ECF6",
            "gridcolor": "white",
            "gridwidth": 2,
            "linecolor": "white",
            "showbackground": true,
            "ticks": "",
            "zerolinecolor": "white"
           },
           "yaxis": {
            "backgroundcolor": "#E5ECF6",
            "gridcolor": "white",
            "gridwidth": 2,
            "linecolor": "white",
            "showbackground": true,
            "ticks": "",
            "zerolinecolor": "white"
           },
           "zaxis": {
            "backgroundcolor": "#E5ECF6",
            "gridcolor": "white",
            "gridwidth": 2,
            "linecolor": "white",
            "showbackground": true,
            "ticks": "",
            "zerolinecolor": "white"
           }
          },
          "shapedefaults": {
           "line": {
            "color": "#2a3f5f"
           }
          },
          "ternary": {
           "aaxis": {
            "gridcolor": "white",
            "linecolor": "white",
            "ticks": ""
           },
           "baxis": {
            "gridcolor": "white",
            "linecolor": "white",
            "ticks": ""
           },
           "bgcolor": "#E5ECF6",
           "caxis": {
            "gridcolor": "white",
            "linecolor": "white",
            "ticks": ""
           }
          },
          "title": {
           "x": 0.05
          },
          "xaxis": {
           "automargin": true,
           "gridcolor": "white",
           "linecolor": "white",
           "ticks": "",
           "title": {
            "standoff": 15
           },
           "zerolinecolor": "white",
           "zerolinewidth": 2
          },
          "yaxis": {
           "automargin": true,
           "gridcolor": "white",
           "linecolor": "white",
           "ticks": "",
           "title": {
            "standoff": 15
           },
           "zerolinecolor": "white",
           "zerolinewidth": 2
          }
         }
        },
        "title": {
         "text": "Costs Analysis of Most Expensive Neighbourhoods in Toronto per Year"
        }
       }
      },
      "image/png": "[encoded data removed]",
      "text/html": [
       "<div>\n",
       "        \n",
       "        \n",
       "            <div id=\"c48d3a98-b006-44bf-84cc-dc0791db0b27\" class=\"plotly-graph-div\" style=\"height:525px; width:100%;\"></div>\n",
       "            <script type=\"text/javascript\">\n",
       "                require([\"plotly\"], function(Plotly) {\n",
       "                    window.PLOTLYENV=window.PLOTLYENV || {};\n",
       "                    \n",
       "                if (document.getElementById(\"c48d3a98-b006-44bf-84cc-dc0791db0b27\")) {\n",
       "                    Plotly.newPlot(\n",
       "                        'c48d3a98-b006-44bf-84cc-dc0791db0b27',\n",
       "                        [{\"branchvalues\": \"total\", \"customdata\": [[933, 1491, 933.0], [1808, 1020, 1808.0], [1988, 1124, 1988.0], [2418, 1385, 2418.0], [1983, 1790, 1983.0], [2170, 2167, 2170.0], [2387, 2388, 2387.0], [2903, 2942, 2903.0], [1241, 1500, 1241.0], [1819, 1356, 1819.0], [2001, 1494, 2001.0], [2434, 1841, 2434.0], [940, 1428, 940.0], [1731, 1027, 1731.0], [1904, 1132, 1904.0], [2316, 1395, 2316.0], [1001, 1469, 1001.0], [1781, 1094, 1781.0], [1959, 1206, 1959.0], [2383, 1486, 2383.0], [1362, 1340, 1362.0], [1625, 1488, 1625.0], [1787, 1640, 1787.0], [2173, 2020, 2173.0], [1021, 1630, 1021.0], [1977, 1116, 1977.0], [2174, 1230, 2174.0], [2644, 1515, 2644.0], [1219, 1540, 1219.0], [1868, 1332, 1868.0], [2054, 1468, 2054.0], [2498, 1809, 2498.0], [1055, 1551, 1055.0], [1881, 1152, 1881.0], [2069, 1270, 2069.0], [2516, 1565, 2516.0], [1091, 1351, 1091.0], [1638, 1192, 1638.0], [1802, 1314, 1802.0], [2192, 1619, 2192.0], [\"(?)\", \"(?)\", 1224.7502831983431], [\"(?)\", \"(?)\", 1856.058787788345], [\"(?)\", \"(?)\", 2041.3886794989783], [\"(?)\", \"(?)\", 2482.826591451349]], \"domain\": {\"x\": [0.0, 1.0], \"y\": [0.0, 1.0]}, \"hovertemplate\": \"labels=%{label}<br>average_house_value=%{value}<br>parent=%{parent}<br>id=%{id}<br>shelter_costs_owned=%{customdata[0]}<br>shelter_costs_rented=%{customdata[1]}<br>shelter_costs_ownedadditional_col_for_hover=%{color}<extra></extra>\", \"ids\": [\"2001/Bedford Park-Nortown\", \"2006/Bedford Park-Nortown\", \"2011/Bedford Park-Nortown\", \"2016/Bedford Park-Nortown\", \"2001/Bridle Path-Sunnybrook-York Mills\", \"2006/Bridle Path-Sunnybrook-York Mills\", \"2011/Bridle Path-Sunnybrook-York Mills\", \"2016/Bridle Path-Sunnybrook-York Mills\", \"2001/Casa Loma\", \"2006/Casa Loma\", \"2011/Casa Loma\", \"2016/Casa Loma\", \"2001/Forest Hill North\", \"2006/Forest Hill North\", \"2011/Forest Hill North\", \"2016/Forest Hill North\", \"2001/Forest Hill South\", \"2006/Forest Hill South\", \"2011/Forest Hill South\", \"2016/Forest Hill South\", \"2001/Kingsway South\", \"2006/Kingsway South\", \"2011/Kingsway South\", \"2016/Kingsway South\", \"2001/Lawrence Park South\", \"2006/Lawrence Park South\", \"2011/Lawrence Park South\", \"2016/Lawrence Park South\", \"2001/Rosedale-Moore Park\", \"2006/Rosedale-Moore Park\", \"2011/Rosedale-Moore Park\", \"2016/Rosedale-Moore Park\", \"2001/St.Andrew-Windfields\", \"2006/St.Andrew-Windfields\", \"2011/St.Andrew-Windfields\", \"2016/St.Andrew-Windfields\", \"2001/Yonge-St.Clair\", \"2006/Yonge-St.Clair\", \"2011/Yonge-St.Clair\", \"2016/Yonge-St.Clair\", \"2001\", \"2006\", \"2011\", \"2016\"], \"labels\": [\"Bedford Park-Nortown\", \"Bedford Park-Nortown\", \"Bedford Park-Nortown\", \"Bedford Park-Nortown\", \"Bridle Path-Sunnybrook-York Mills\", \"Bridle Path-Sunnybrook-York Mills\", \"Bridle Path-Sunnybrook-York Mills\", \"Bridle Path-Sunnybrook-York Mills\", \"Casa Loma\", \"Casa Loma\", \"Casa Loma\", \"Casa Loma\", \"Forest Hill North\", \"Forest Hill North\", \"Forest Hill North\", \"Forest Hill North\", \"Forest Hill South\", \"Forest Hill South\", \"Forest Hill South\", \"Forest Hill South\", \"Kingsway South\", \"Kingsway South\", \"Kingsway South\", \"Kingsway South\", \"Lawrence Park South\", \"Lawrence Park South\", \"Lawrence Park South\", \"Lawrence Park South\", \"Rosedale-Moore Park\", \"Rosedale-Moore Park\", \"Rosedale-Moore Park\", \"Rosedale-Moore Park\", \"St.Andrew-Windfields\", \"St.Andrew-Windfields\", \"St.Andrew-Windfields\", \"St.Andrew-Windfields\", \"Yonge-St.Clair\", \"Yonge-St.Clair\", \"Yonge-St.Clair\", \"Yonge-St.Clair\", \"2001\", \"2006\", \"2011\", \"2016\"], \"marker\": {\"coloraxis\": \"coloraxis\", \"colors\": [933.0, 1808.0, 1988.0, 2418.0, 1983.0, 2170.0, 2387.0, 2903.0, 1241.0, 1819.0, 2001.0, 2434.0, 940.0, 1731.0, 1904.0, 2316.0, 1001.0, 1781.0, 1959.0, 2383.0, 1362.0, 1625.0, 1787.0, 2173.0, 1021.0, 1977.0, 2174.0, 2644.0, 1219.0, 1868.0, 2054.0, 2498.0, 1055.0, 1881.0, 2069.0, 2516.0, 1091.0, 1638.0, 1802.0, 2192.0, 1224.7502831983431, 1856.058787788345, 2041.3886794989783, 2482.826591451349]}, \"name\": \"\", \"parents\": [\"2001\", \"2006\", \"2011\", \"2016\", \"2001\", \"2006\", \"2011\", \"2016\", \"2001\", \"2006\", \"2011\", \"2016\", \"2001\", \"2006\", \"2011\", \"2016\", \"2001\", \"2006\", \"2011\", \"2016\", \"2001\", \"2006\", \"2011\", \"2016\", \"2001\", \"2006\", \"2011\", \"2016\", \"2001\", \"2006\", \"2011\", \"2016\", \"2001\", \"2006\", \"2011\", \"2016\", \"2001\", \"2006\", \"2011\", \"2016\", \"\", \"\", \"\", \"\"], \"type\": \"sunburst\", \"values\": [565304, 826963, 1034387, 1295007, 927466, 1356757, 1697067, 2124653, 596077, 871981, 1090696, 1365503, 517466, 756983, 946854, 1185419, 726664, 1063011, 1329642, 1664653, 512334, 749476, 937464, 1173663, 664712, 972384, 1216283, 1522732, 664476, 972039, 1215852, 1522193, 607040, 888017, 1110755, 1390616, 494098, 722799, 904096, 1131888, 6275637, 9180410, 11483096, 14376327]}],\n",
       "                        {\"coloraxis\": {\"colorbar\": {\"title\": {\"text\": \"shelter_costs_ownedadditional_col_for_hover\"}}, \"colorscale\": [[0.0, \"rgb(247,251,255)\"], [0.125, \"rgb(222,235,247)\"], [0.25, \"rgb(198,219,239)\"], [0.375, \"rgb(158,202,225)\"], [0.5, \"rgb(107,174,214)\"], [0.625, \"rgb(66,146,198)\"], [0.75, \"rgb(33,113,181)\"], [0.875, \"rgb(8,81,156)\"], [1.0, \"rgb(8,48,107)\"]]}, \"legend\": {\"tracegroupgap\": 0}, \"template\": {\"data\": {\"bar\": [{\"error_x\": {\"color\": \"#2a3f5f\"}, \"error_y\": {\"color\": \"#2a3f5f\"}, \"marker\": {\"line\": {\"color\": \"#E5ECF6\", \"width\": 0.5}}, \"type\": \"bar\"}], \"barpolar\": [{\"marker\": {\"line\": {\"color\": \"#E5ECF6\", \"width\": 0.5}}, \"type\": \"barpolar\"}], \"carpet\": [{\"aaxis\": {\"endlinecolor\": \"#2a3f5f\", \"gridcolor\": \"white\", \"linecolor\": \"white\", \"minorgridcolor\": \"white\", \"startlinecolor\": \"#2a3f5f\"}, \"baxis\": {\"endlinecolor\": \"#2a3f5f\", \"gridcolor\": \"white\", \"linecolor\": \"white\", \"minorgridcolor\": \"white\", \"startlinecolor\": \"#2a3f5f\"}, \"type\": \"carpet\"}], \"choropleth\": [{\"colorbar\": {\"outlinewidth\": 0, \"ticks\": \"\"}, \"type\": \"choropleth\"}], \"contour\": [{\"colorbar\": {\"outlinewidth\": 0, \"ticks\": \"\"}, \"colorscale\": [[0.0, \"#0d0887\"], [0.1111111111111111, \"#46039f\"], [0.2222222222222222, \"#7201a8\"], [0.3333333333333333, \"#9c179e\"], [0.4444444444444444, \"#bd3786\"], [0.5555555555555556, \"#d8576b\"], [0.6666666666666666, \"#ed7953\"], [0.7777777777777778, \"#fb9f3a\"], [0.8888888888888888, \"#fdca26\"], [1.0, \"#f0f921\"]], \"type\": \"contour\"}], \"contourcarpet\": [{\"colorbar\": {\"outlinewidth\": 0, \"ticks\": \"\"}, \"type\": \"contourcarpet\"}], \"heatmap\": [{\"colorbar\": {\"outlinewidth\": 0, \"ticks\": \"\"}, \"colorscale\": [[0.0, \"#0d0887\"], [0.1111111111111111, \"#46039f\"], [0.2222222222222222, \"#7201a8\"], [0.3333333333333333, \"#9c179e\"], [0.4444444444444444, \"#bd3786\"], [0.5555555555555556, \"#d8576b\"], [0.6666666666666666, \"#ed7953\"], [0.7777777777777778, \"#fb9f3a\"], [0.8888888888888888, \"#fdca26\"], [1.0, \"#f0f921\"]], \"type\": \"heatmap\"}], \"heatmapgl\": [{\"colorbar\": {\"outlinewidth\": 0, \"ticks\": \"\"}, \"colorscale\": [[0.0, \"#0d0887\"], [0.1111111111111111, \"#46039f\"], [0.2222222222222222, \"#7201a8\"], [0.3333333333333333, \"#9c179e\"], [0.4444444444444444, \"#bd3786\"], [0.5555555555555556, \"#d8576b\"], [0.6666666666666666, \"#ed7953\"], [0.7777777777777778, \"#fb9f3a\"], [0.8888888888888888, \"#fdca26\"], [1.0, \"#f0f921\"]], \"type\": \"heatmapgl\"}], \"histogram\": [{\"marker\": {\"colorbar\": {\"outlinewidth\": 0, \"ticks\": \"\"}}, \"type\": \"histogram\"}], \"histogram2d\": [{\"colorbar\": {\"outlinewidth\": 0, \"ticks\": \"\"}, \"colorscale\": [[0.0, \"#0d0887\"], [0.1111111111111111, \"#46039f\"], [0.2222222222222222, \"#7201a8\"], [0.3333333333333333, \"#9c179e\"], [0.4444444444444444, \"#bd3786\"], [0.5555555555555556, \"#d8576b\"], [0.6666666666666666, \"#ed7953\"], [0.7777777777777778, \"#fb9f3a\"], [0.8888888888888888, \"#fdca26\"], [1.0, \"#f0f921\"]], \"type\": \"histogram2d\"}], \"histogram2dcontour\": [{\"colorbar\": {\"outlinewidth\": 0, \"ticks\": \"\"}, \"colorscale\": [[0.0, \"#0d0887\"], [0.1111111111111111, \"#46039f\"], [0.2222222222222222, \"#7201a8\"], [0.3333333333333333, \"#9c179e\"], [0.4444444444444444, \"#bd3786\"], [0.5555555555555556, \"#d8576b\"], [0.6666666666666666, \"#ed7953\"], [0.7777777777777778, \"#fb9f3a\"], [0.8888888888888888, \"#fdca26\"], [1.0, \"#f0f921\"]], \"type\": \"histogram2dcontour\"}], \"mesh3d\": [{\"colorbar\": {\"outlinewidth\": 0, \"ticks\": \"\"}, \"type\": \"mesh3d\"}], \"parcoords\": [{\"line\": {\"colorbar\": {\"outlinewidth\": 0, \"ticks\": \"\"}}, \"type\": \"parcoords\"}], \"pie\": [{\"automargin\": true, \"type\": \"pie\"}], \"scatter\": [{\"marker\": {\"colorbar\": {\"outlinewidth\": 0, \"ticks\": \"\"}}, \"type\": \"scatter\"}], \"scatter3d\": [{\"line\": {\"colorbar\": {\"outlinewidth\": 0, \"ticks\": \"\"}}, \"marker\": {\"colorbar\": {\"outlinewidth\": 0, \"ticks\": \"\"}}, \"type\": \"scatter3d\"}], \"scattercarpet\": [{\"marker\": {\"colorbar\": {\"outlinewidth\": 0, \"ticks\": \"\"}}, \"type\": \"scattercarpet\"}], \"scattergeo\": [{\"marker\": {\"colorbar\": {\"outlinewidth\": 0, \"ticks\": \"\"}}, \"type\": \"scattergeo\"}], \"scattergl\": [{\"marker\": {\"colorbar\": {\"outlinewidth\": 0, \"ticks\": \"\"}}, \"type\": \"scattergl\"}], \"scattermapbox\": [{\"marker\": {\"colorbar\": {\"outlinewidth\": 0, \"ticks\": \"\"}}, \"type\": \"scattermapbox\"}], \"scatterpolar\": [{\"marker\": {\"colorbar\": {\"outlinewidth\": 0, \"ticks\": \"\"}}, \"type\": \"scatterpolar\"}], \"scatterpolargl\": [{\"marker\": {\"colorbar\": {\"outlinewidth\": 0, \"ticks\": \"\"}}, \"type\": \"scatterpolargl\"}], \"scatterternary\": [{\"marker\": {\"colorbar\": {\"outlinewidth\": 0, \"ticks\": \"\"}}, \"type\": \"scatterternary\"}], \"surface\": [{\"colorbar\": {\"outlinewidth\": 0, \"ticks\": \"\"}, \"colorscale\": [[0.0, \"#0d0887\"], [0.1111111111111111, \"#46039f\"], [0.2222222222222222, \"#7201a8\"], [0.3333333333333333, \"#9c179e\"], [0.4444444444444444, \"#bd3786\"], [0.5555555555555556, \"#d8576b\"], [0.6666666666666666, \"#ed7953\"], [0.7777777777777778, \"#fb9f3a\"], [0.8888888888888888, \"#fdca26\"], [1.0, \"#f0f921\"]], \"type\": \"surface\"}], \"table\": [{\"cells\": {\"fill\": {\"color\": \"#EBF0F8\"}, \"line\": {\"color\": \"white\"}}, \"header\": {\"fill\": {\"color\": \"#C8D4E3\"}, \"line\": {\"color\": \"white\"}}, \"type\": \"table\"}]}, \"layout\": {\"annotationdefaults\": {\"arrowcolor\": \"#2a3f5f\", \"arrowhead\": 0, \"arrowwidth\": 1}, \"coloraxis\": {\"colorbar\": {\"outlinewidth\": 0, \"ticks\": \"\"}}, \"colorscale\": {\"diverging\": [[0, \"#8e0152\"], [0.1, \"#c51b7d\"], [0.2, \"#de77ae\"], [0.3, \"#f1b6da\"], [0.4, \"#fde0ef\"], [0.5, \"#f7f7f7\"], [0.6, \"#e6f5d0\"], [0.7, \"#b8e186\"], [0.8, \"#7fbc41\"], [0.9, \"#4d9221\"], [1, \"#276419\"]], \"sequential\": [[0.0, \"#0d0887\"], [0.1111111111111111, \"#46039f\"], [0.2222222222222222, \"#7201a8\"], [0.3333333333333333, \"#9c179e\"], [0.4444444444444444, \"#bd3786\"], [0.5555555555555556, \"#d8576b\"], [0.6666666666666666, \"#ed7953\"], [0.7777777777777778, \"#fb9f3a\"], [0.8888888888888888, \"#fdca26\"], [1.0, \"#f0f921\"]], \"sequentialminus\": [[0.0, \"#0d0887\"], [0.1111111111111111, \"#46039f\"], [0.2222222222222222, \"#7201a8\"], [0.3333333333333333, \"#9c179e\"], [0.4444444444444444, \"#bd3786\"], [0.5555555555555556, \"#d8576b\"], [0.6666666666666666, \"#ed7953\"], [0.7777777777777778, \"#fb9f3a\"], [0.8888888888888888, \"#fdca26\"], [1.0, \"#f0f921\"]]}, \"colorway\": [\"#636efa\", \"#EF553B\", \"#00cc96\", \"#ab63fa\", \"#FFA15A\", \"#19d3f3\", \"#FF6692\", \"#B6E880\", \"#FF97FF\", \"#FECB52\"], \"font\": {\"color\": \"#2a3f5f\"}, \"geo\": {\"bgcolor\": \"white\", \"lakecolor\": \"white\", \"landcolor\": \"#E5ECF6\", \"showlakes\": true, \"showland\": true, \"subunitcolor\": \"white\"}, \"hoverlabel\": {\"align\": \"left\"}, \"hovermode\": \"closest\", \"mapbox\": {\"style\": \"light\"}, \"paper_bgcolor\": \"white\", \"plot_bgcolor\": \"#E5ECF6\", \"polar\": {\"angularaxis\": {\"gridcolor\": \"white\", \"linecolor\": \"white\", \"ticks\": \"\"}, \"bgcolor\": \"#E5ECF6\", \"radialaxis\": {\"gridcolor\": \"white\", \"linecolor\": \"white\", \"ticks\": \"\"}}, \"scene\": {\"xaxis\": {\"backgroundcolor\": \"#E5ECF6\", \"gridcolor\": \"white\", \"gridwidth\": 2, \"linecolor\": \"white\", \"showbackground\": true, \"ticks\": \"\", \"zerolinecolor\": \"white\"}, \"yaxis\": {\"backgroundcolor\": \"#E5ECF6\", \"gridcolor\": \"white\", \"gridwidth\": 2, \"linecolor\": \"white\", \"showbackground\": true, \"ticks\": \"\", \"zerolinecolor\": \"white\"}, \"zaxis\": {\"backgroundcolor\": \"#E5ECF6\", \"gridcolor\": \"white\", \"gridwidth\": 2, \"linecolor\": \"white\", \"showbackground\": true, \"ticks\": \"\", \"zerolinecolor\": \"white\"}}, \"shapedefaults\": {\"line\": {\"color\": \"#2a3f5f\"}}, \"ternary\": {\"aaxis\": {\"gridcolor\": \"white\", \"linecolor\": \"white\", \"ticks\": \"\"}, \"baxis\": {\"gridcolor\": \"white\", \"linecolor\": \"white\", \"ticks\": \"\"}, \"bgcolor\": \"#E5ECF6\", \"caxis\": {\"gridcolor\": \"white\", \"linecolor\": \"white\", \"ticks\": \"\"}}, \"title\": {\"x\": 0.05}, \"xaxis\": {\"automargin\": true, \"gridcolor\": \"white\", \"linecolor\": \"white\", \"ticks\": \"\", \"title\": {\"standoff\": 15}, \"zerolinecolor\": \"white\", \"zerolinewidth\": 2}, \"yaxis\": {\"automargin\": true, \"gridcolor\": \"white\", \"linecolor\": \"white\", \"ticks\": \"\", \"title\": {\"standoff\": 15}, \"zerolinecolor\": \"white\", \"zerolinewidth\": 2}}}, \"title\": {\"text\": \"Costs Analysis of Most Expensive Neighbourhoods in Toronto per Year\"}},\n",
       "                        {\"responsive\": true}\n",
       "                    ).then(function(){\n",
       "                            \n",
       "var gd = document.getElementById('c48d3a98-b006-44bf-84cc-dc0791db0b27');\n",
       "var x = new MutationObserver(function (mutations, observer) {{\n",
       "        var display = window.getComputedStyle(gd).display;\n",
       "        if (!display || display === 'none') {{\n",
       "            console.log([gd, 'removed!']);\n",
       "            Plotly.purge(gd);\n",
       "            observer.disconnect();\n",
       "        }}\n",
       "}});\n",
       "\n",
       "// Listen for the removal of the full notebook cells\n",
       "var notebookContainer = gd.closest('#notebook-container');\n",
       "if (notebookContainer) {{\n",
       "    x.observe(notebookContainer, {childList: true});\n",
       "}}\n",
       "\n",
       "// Listen for the clearing of the current output cell\n",
       "var outputEl = gd.closest('.output');\n",
       "if (outputEl) {{\n",
       "    x.observe(outputEl, {childList: true});\n",
       "}}\n",
       "\n",
       "                        })\n",
       "                };\n",
       "                });\n",
       "            </script>\n",
       "        </div>"
      ]
     },
     "metadata": {},
     "output_type": "display_data"
    }
   ],
   "source": [
    "# Create the sunburst chart\n",
    "# YOUR CODE HERE!"
   ]
  }
 ],
 "metadata": {
  "file_extension": ".py",
  "kernelspec": {
   "display_name": "Python 3",
   "language": "python",
   "name": "python3"
  },
  "language_info": {
   "codemirror_mode": {
    "name": "ipython",
    "version": 3
   },
   "file_extension": ".py",
   "mimetype": "text/x-python",
   "name": "python",
   "nbconvert_exporter": "python",
   "pygments_lexer": "ipython3",
   "version": "3.8.2"
  },
  "mimetype": "text/x-python",
  "name": "python",
  "npconvert_exporter": "python",
  "pygments_lexer": "ipython3",
  "version": 3
 },
 "nbformat": 4,
 "nbformat_minor": 4
}
